{
  "nbformat": 4,
  "nbformat_minor": 0,
  "metadata": {
    "colab": {
      "name": "Create cache with colors distances.ipynb",
      "provenance": [],
      "toc_visible": true,
      "machine_shape": "hm",
      "include_colab_link": true
    },
    "kernelspec": {
      "name": "python3",
      "display_name": "Python 3"
    },
    "language_info": {
      "name": "python"
    }
  },
  "cells": [
    {
      "cell_type": "markdown",
      "metadata": {
        "id": "view-in-github",
        "colab_type": "text"
      },
      "source": [
        "<a href=\"https://colab.research.google.com/github/Ayatafoy/color_recognition/blob/master/Create_cache_with_colors_distances.ipynb\" target=\"_parent\"><img src=\"https://colab.research.google.com/assets/colab-badge.svg\" alt=\"Open In Colab\"/></a>"
      ]
    },
    {
      "cell_type": "code",
      "metadata": {
        "id": "589kD0lYqQDN"
      },
      "source": [
        "!pip install colormap\n",
        "!pip install easydev\n",
        "!pip install imgaug==0.2.5\n",
        "!python -m pip install -U scikit-image"
      ],
      "execution_count": null,
      "outputs": []
    },
    {
      "cell_type": "code",
      "metadata": {
        "colab": {
          "base_uri": "https://localhost:8080/"
        },
        "id": "Ty1KLc35Jhq7",
        "outputId": "9d922793-1bd2-4145-9f09-35c9fc78110a"
      },
      "source": [
        "from google.colab import drive\n",
        "drive.mount('/content/drive')"
      ],
      "execution_count": 2,
      "outputs": [
        {
          "output_type": "stream",
          "text": [
            "Mounted at /content/drive\n"
          ],
          "name": "stdout"
        }
      ]
    },
    {
      "cell_type": "code",
      "metadata": {
        "id": "lvGw5ED2qKjx"
      },
      "source": [
        "from skimage.color import rgb2lab, deltaE_ciede2000\n",
        "import numpy as np\n",
        "import pickle\n",
        "import operator\n",
        "from functools import reduce\n",
        "from colormap import rgb2hex\n",
        "from IPython.display import HTML\n",
        "from tqdm import tqdm\n",
        "import pandas as pd"
      ],
      "execution_count": 3,
      "outputs": []
    },
    {
      "cell_type": "code",
      "metadata": {
        "id": "j2b0GXtiw2yA"
      },
      "source": [
        "from skimage.color import rgb2lab"
      ],
      "execution_count": 4,
      "outputs": []
    },
    {
      "cell_type": "markdown",
      "metadata": {
        "id": "FGtuuc6xqKj8"
      },
      "source": [
        "# Define 16777216 RGB pixels codes"
      ]
    },
    {
      "cell_type": "code",
      "metadata": {
        "id": "eA6zh9awqKj8"
      },
      "source": [
        "pixels = []\n",
        "pixels_hex = []\n",
        "\n",
        "for r in range(256):\n",
        "    for g in range(256):\n",
        "        for b in range(256):\n",
        "            pixel_hex = rgb2hex(r, g, b)\n",
        "            pixel_rgb = [float(r), float(g), float(b)]\n",
        "            pixels_hex.append(pixel_hex)        \n",
        "            pixels.append(pixel_rgb)"
      ],
      "execution_count": 5,
      "outputs": []
    },
    {
      "cell_type": "code",
      "metadata": {
        "id": "qg5h1sdvqKj9"
      },
      "source": [
        "pixels_lab = rgb2lab(pixels)"
      ],
      "execution_count": 6,
      "outputs": []
    },
    {
      "cell_type": "markdown",
      "metadata": {
        "id": "ncA7F7BFqKj9"
      },
      "source": [
        "# Colors distances cache"
      ]
    },
    {
      "cell_type": "code",
      "metadata": {
        "id": "9c7FGEFbqKj9"
      },
      "source": [
        "def create_cache(colors_lab, pixels_lab, color_names, mode='TIME'):\n",
        "    clothest_color_cashe = {}\n",
        "    \n",
        "    # RAM expensive\n",
        "    if mode == 'RAM':\n",
        "        distances = []\n",
        "        for i in tqdm(range(len(colors_lab)), total=len(colors_lab)):\n",
        "            distances.append(deltaE_ciede2000(colors_lab[i], pixels_lab))\n",
        "        distances = np.array(distances)\n",
        "\n",
        "        \n",
        "        for i, pixel in tqdm(enumerate(pixels), total=len(pixels)):\n",
        "            pixel_hex = rgb2hex(int(pixel[0]), int(pixel[1]), int(pixel[2]))\n",
        "            clothest_color_cashe[pixel_hex] = color_names[np.argmin(distances[:, i])]\n",
        "            \n",
        "    # Time expensive\n",
        "    else:\n",
        "        for i, pixel in tqdm(enumerate(pixels), total=len(pixels)):\n",
        "            pixel_hex = rgb2hex(int(pixel[0]), int(pixel[1]), int(pixel[2]))\n",
        "            distances = deltaE_ciede2000(pixels_lab[i], colors_lab)\n",
        "            clothest_color_cashe[pixel_hex] = color_names[np.argmin(distances)]\n",
        "            \n",
        "    return clothest_color_cashe"
      ],
      "execution_count": 7,
      "outputs": []
    },
    {
      "cell_type": "markdown",
      "metadata": {
        "id": "xDTE6oZoqKj-"
      },
      "source": [
        "# Define main colors palete"
      ]
    },
    {
      "cell_type": "code",
      "metadata": {
        "id": "vw-MpH4PqKj-"
      },
      "source": [
        "beige_shades = [\n",
        "    [245, 245, 220], \n",
        "    [255, 228, 181],\n",
        "    [255, 239, 213],\n",
        "    [250, 250, 210],\n",
        "    [255, 250, 205],\n",
        "    [255, 255, 224],\n",
        "    [245, 222, 179],\n",
        "    [255, 222, 173],\n",
        "    [255, 228, 196],\n",
        "    [255, 235, 205],\n",
        "    [255, 248, 220],\n",
        "    [250, 235, 215],\n",
        "    [250, 240, 230],\n",
        "    [253, 245, 230],\n",
        "    [255, 245, 238],\n",
        "    [255, 218, 185],\n",
        "    [210, 180, 140],\n",
        "    [222, 184, 135],\n",
        "    [190,174,146],\n",
        "    [192,171,144]\n",
        "]\n",
        "black_shades = [\n",
        "    [0, 0, 0],\n",
        "    [4, 5, 6], \n",
        "    [13, 13, 13], \n",
        "    [26, 26, 26], \n",
        "    [30, 30, 30],\n",
        "    [40, 40, 40],\n",
        "    [17, 16, 9], \n",
        "    [13, 2, 19],\n",
        "    [24,25,29],\n",
        "    [22,23,27],\n",
        "    [25,26,30],\n",
        "    [26,27,32],\n",
        "    [24,25,27],\n",
        "    [23,28,31],\n",
        "    [30,33,38],\n",
        "    [32,34,39],\n",
        "    [28,31,36],\n",
        "    [33,31,36],\n",
        "    [34,33,38],\n",
        "    [37,32,35],\n",
        "    [34,33,38],\n",
        "    [32,29,35],\n",
        "    [39,36,43],\n",
        "    [43,38,35],\n",
        "    [45,41,38],\n",
        "    [46,41,38],\n",
        "    [54,46,44],\n",
        "    [47,43,43]\n",
        "]\n",
        "blue_shades = [\n",
        "    [0, 0, 255],\n",
        "    [0, 0, 153],\n",
        "    [48, 213, 200],\n",
        "    [25, 34, 60], \n",
        "    [84, 112, 141],\n",
        "    [95, 158, 160],\n",
        "    [0, 206, 209],\n",
        "    [72, 209, 204],\n",
        "    [64, 224, 208],\n",
        "    [0, 255, 255],\n",
        "    [0, 255, 255],\n",
        "    [175, 238, 238],\n",
        "    [224, 255, 255],\n",
        "    [0, 0, 128],\n",
        "    [0, 0, 139],\n",
        "    [0, 0, 205],\n",
        "    [0, 0, 255],\n",
        "    [25, 25, 112],\n",
        "    [65, 105, 225],\n",
        "    [70, 130, 180],\n",
        "    [30, 144, 255],\n",
        "    [0, 191, 255],\n",
        "    [100, 149, 237],\n",
        "    [135, 206, 235],\n",
        "    [135, 206, 250],\n",
        "    [176, 196, 222],\n",
        "    [173, 216, 230],\n",
        "    [176, 224, 230],\n",
        "    [240, 248, 255],\n",
        "    [240, 255, 255],\n",
        "    [68, 24, 201],\n",
        "    [116, 139, 164],\n",
        "    [127, 150, 175],\n",
        "    [101, 124, 143],\n",
        "    [141, 160, 177],\n",
        "    [134, 155, 178],\n",
        "    [131, 149, 169],\n",
        "    [153, 170, 180],\n",
        "    [105, 124, 141],\n",
        "    [117, 140, 165],\n",
        "    [117, 141, 167],\n",
        "    [122, 146, 170],\n",
        "    [126, 147, 168],\n",
        "    [134, 156, 178],\n",
        "    [133, 154, 175],\n",
        "    [130, 151, 172],\n",
        "    [119, 140, 161],\n",
        "    [98, 119, 138],\n",
        "    [105, 126, 145],\n",
        "    [101, 116, 132],\n",
        "    [123, 136, 152],\n",
        "    [139, 157, 177],\n",
        "    [142, 159, 177],\n",
        "    [109,125,145],\n",
        "    [122,138,154],\n",
        "    [108,125,144],\n",
        "    [105,122,139],\n",
        "    [113,130,148],\n",
        "    [117,134,152],\n",
        "    [122,139,156],\n",
        "    [116,132,150],\n",
        "    [109,125,141],\n",
        "    [112,128,144],\n",
        "    [117,134,151],\n",
        "    [115,131,147],\n",
        "    [112, 128, 144],\n",
        "    [119, 136, 153],\n",
        "    [63,71,107],\n",
        "    [57,62,92],\n",
        "    [126,141,183],\n",
        "    [125,138,180],\n",
        "    [190,195,218],\n",
        "    [187,192,211],\n",
        "    [172,181,205],\n",
        "    [117,122,158],\n",
        "    [11,45,62],\n",
        "    [10,47,66],\n",
        "    [19,62,78],\n",
        "    [8,46,78],\n",
        "    [24,61,88],\n",
        "    [23,52,70],\n",
        "    [30,56,74],\n",
        "    [23,54,75],\n",
        "    [27,64,83],\n",
        "    [1,32,59],\n",
        "    [0,32,57],\n",
        "    [4,35,64],\n",
        "    [6,34,61],\n",
        "    [1,22,51],\n",
        "    [37,49,130],\n",
        "    [48,69,171]\n",
        "]\n",
        "brown_shades = [\n",
        "    [165, 42, 42], \n",
        "    [191, 68, 68],\n",
        "    [134, 70, 63],\n",
        "    [126, 92, 73],\n",
        "    [166, 86, 43],\n",
        "    [176, 106, 69],\n",
        "    [137, 85, 82],\n",
        "    [129,82,80],\n",
        "    [119,71,72],\n",
        "    [107,66,66],\n",
        "    [122,78,77],\n",
        "    [152, 85, 83],\n",
        "    [85, 54, 32],\n",
        "    [77, 48, 26],\n",
        "    [134, 112, 90],\n",
        "    [139, 69, 19],\n",
        "    [160, 82, 45],\n",
        "    [210, 105, 30],\n",
        "    [184, 134, 11],\n",
        "    [205, 133, 63],\n",
        "    [114,45,29],\n",
        "    [98,43,29],\n",
        "    [120,49,29],\n",
        "    [132,57,34],\n",
        "    [57,47,50],\n",
        "    [50,38,43],\n",
        "    [57, 47, 49],\n",
        "    [52, 43, 48],\n",
        "    [102,89,86]\n",
        "]\n",
        "gray_shades = [\n",
        "    [128, 128, 128],\n",
        "    [50, 50, 50],\n",
        "    [77, 77, 77],\n",
        "    [59, 57, 62],\n",
        "    [54,58,61],\n",
        "    [119, 118, 126],\n",
        "    [125, 130, 129],\n",
        "    [130, 125, 130], \n",
        "    [150, 150, 150],\n",
        "    [105, 105, 105],\n",
        "    [169, 169, 169],\n",
        "    [87, 88, 92],\n",
        "    [97, 97, 103],\n",
        "    [71, 72, 77],\n",
        "    [67,63,78],\n",
        "    [136, 137, 141],\n",
        "    [83, 84, 88],\n",
        "    [136, 137, 141],\n",
        "    [105, 106, 110],\n",
        "    [83, 84, 88],\n",
        "    [73, 74, 78],\n",
        "    [68, 69, 73],\n",
        "    [63, 64, 68],\n",
        "    [61, 62, 66],\n",
        "    [84,79,77],\n",
        "    [86,76,85],\n",
        "    [106, 107, 111],\n",
        "    [71, 72, 77],\n",
        "    [85, 86, 91],\n",
        "    [129, 130, 135],\n",
        "    [114, 113, 121],\n",
        "    [121, 125, 131],\n",
        "    [136,140,141],\n",
        "    [136,146,156],\n",
        "    [135,143,152],\n",
        "    [157,161,173],\n",
        "    [158,162,172],\n",
        "    [143,149,160],\n",
        "]\n",
        "green_shades = [\n",
        "    [0, 128, 0],\n",
        "    [28, 154, 26],\n",
        "    [13, 56, 57], \n",
        "    [45, 103, 0],\n",
        "    [102, 205, 76],\n",
        "    [80, 187, 53],\n",
        "    [76, 78, 57],\n",
        "    [189, 183, 107],\n",
        "    [0, 100, 0],\n",
        "    [85, 107, 47],\n",
        "    [34, 139, 34],\n",
        "    [46, 139, 87],\n",
        "    [128, 128, 0],\n",
        "    [107, 142, 35],\n",
        "    [60, 179, 113],\n",
        "    [50, 205, 50],\n",
        "    [0, 255, 0],\n",
        "    [0, 255, 127],\n",
        "    [0, 250, 154],\n",
        "    [143, 188, 143],\n",
        "    [102, 205, 170],\n",
        "    [154, 205, 50],\n",
        "    [124, 252, 0],\n",
        "    [127, 255, 0],\n",
        "    [144, 238, 144],\n",
        "    [173, 255, 47],\n",
        "    [152, 251, 152],\n",
        "    [240, 255, 240],\n",
        "    [235, 244, 194],\n",
        "    [127, 255, 212],\n",
        "    [0, 128, 128],\n",
        "    [0, 139, 139],\n",
        "    [32, 178, 170],\n",
        "    [47,  79,  79],\n",
        "    [194, 194, 169],\n",
        "    [108,131,113],\n",
        "    [99,126,104],\n",
        "    [83,105,93],\n",
        "    [140,160,147],\n",
        "    [45,56,60],\n",
        "    [112,121,118],\n",
        "    [110, 120, 105]\n",
        "# purple\n",
        "]\n",
        "orange_shades = [\n",
        "    [255, 165, 0],\n",
        "    [230, 140, 0], \n",
        "    [255, 191, 26],\n",
        "    [230, 174, 0], \n",
        "    [255, 183, 0],\n",
        "    [255, 156, 26],\n",
        "    [255, 69, 0],\n",
        "    [255, 99, 71],\n",
        "    [255, 140, 0],\n",
        "    [255, 127, 80],\n",
        "    [244, 164, 96],\n",
        "    [236,126,67],\n",
        "    [224,123,57],\n",
        "    [221,118,55],\n",
        "    [224,121,55],\n",
        "    [221,125,64]\n",
        "]\n",
        "pink_shades = [\n",
        "    [255, 192, 203],\n",
        "    [245, 219, 219], \n",
        "    [255, 218, 229], \n",
        "    [255, 194, 196], \n",
        "    [244, 133, 137], \n",
        "    [188, 143, 143],\n",
        "    [255, 102, 102],\n",
        "    [255,  20, 147],\n",
        "    [219, 112, 147],\n",
        "    [255, 105, 180],\n",
        "    [255, 182, 193],\n",
        "    [255, 192, 203],\n",
        "    [255, 228, 225],\n",
        "    [255, 240, 245],\n",
        "    [255, 0, 255],\n",
        "    [232, 59, 215]\n",
        "]\n",
        "purple_shades = [\n",
        "    [128, 0, 128],\n",
        "    [77, 0, 77], \n",
        "    [179, 51, 179], \n",
        "    [100, 0, 128], \n",
        "    [190, 45, 144], \n",
        "    [75, 0, 130],\n",
        "    [139, 0, 139],\n",
        "    [148, 0, 211],\n",
        "    [138, 43, 226],\n",
        "    [153, 50, 204],\n",
        "    [106, 90, 205],\n",
        "    [123, 104, 238],\n",
        "    [186, 85, 211],\n",
        "    [147, 112, 219],\n",
        "    [218, 112, 214],\n",
        "    [238, 130, 238],\n",
        "    [221, 160, 221],\n",
        "    [216, 191, 216],\n",
        "    [230, 230, 250],\n",
        "    [72, 61, 139],\n",
        "    [199, 21, 133],\n",
        "    [125,116,133],\n",
        "    [119,110,128],\n",
        "    [131,122,143],\n",
        "    [154,144,153],\n",
        "    [150,140,149],\n",
        "    [158,147,156],\n",
        "    [159,149,158],\n",
        "    [152,149,168],\n",
        "    [192,190,216],\n",
        "    [198,197,214],\n",
        "    [181,188,216],\n",
        "    [48,38,73],\n",
        "    [80,49,60],\n",
        "    [47,35,44],\n",
        "    [55,44,50],\n",
        "    [67,62,78],\n",
        "    [76,61,73],\n",
        "    [63,59,76],\n",
        "    [76,72,86],\n",
        "    [63,59,74]\n",
        "]\n",
        "red_shades = [\n",
        "    [255, 0, 0],\n",
        "    [218, 22, 22],\n",
        "    [255, 51, 51], \n",
        "    [255, 60, 26],\n",
        "    [248, 79, 79],\n",
        "    [255, 59, 56],\n",
        "    [139, 0, 0],\n",
        "    [178, 34, 34],\n",
        "    [220, 20, 60],\n",
        "    [205, 92, 92],\n",
        "    [128, 0, 0],\n",
        "    [140, 17, 17],\n",
        "    [146,27,54],\n",
        "    [141,36,58],\n",
        "    [141,26,51],\n",
        "    [183,6,41],\n",
        "    [177,30,52],\n",
        "    [172,5,35],\n",
        "    [167,6,31],\n",
        "    [156,11,34]\n",
        "]\n",
        "silver_shades = [\n",
        "    [192, 192, 192],\n",
        "    [179, 179, 179],\n",
        "    [218, 218, 218],\n",
        "    [183, 182 ,188],\n",
        "    [189, 193, 192],\n",
        "    [207, 211, 211],\n",
        "    [211, 217, 217],\n",
        "    [211, 211, 211],\n",
        "    [220, 220, 220],\n",
        "    [218, 220, 223],\n",
        "    [197, 197, 209],\n",
        "    [182, 182, 195],\n",
        "    [180,181,186],\n",
        "    [184,187,192],\n",
        "    [208,204,203],\n",
        "    [179,178,174],\n",
        "    [176,175,171]\n",
        "]\n",
        "white_shades = [\n",
        "    [255, 255, 255], \n",
        "    [240, 240, 240], \n",
        "    [252, 246, 254], \n",
        "    [238, 235, 239],\n",
        "    [230, 235, 239],\n",
        "    [218, 229, 232],\n",
        "    [221, 232, 240],\n",
        "    [227, 237, 237],\n",
        "    [226, 233, 239],\n",
        "    [237, 237, 237], \n",
        "    [251, 251, 244],\n",
        "    [255, 250, 250],\n",
        "    [255, 255, 246],\n",
        "    [245, 255, 250],\n",
        "    [248, 248, 255],\n",
        "    [255, 255, 240],\n",
        "    [255, 250, 240],\n",
        "    [245, 245, 245]\n",
        "]\n",
        "yellow_shades = [\n",
        "    [255, 255, 0],\n",
        "    [217, 217, 0], \n",
        "    [255, 255, 115],\n",
        "    [255, 238, 143], \n",
        "    [237, 255, 36], \n",
        "    [255, 237, 36],\n",
        "    [255, 215, 0],\n",
        "    [218, 165, 32],\n",
        "    [240, 230, 140],\n",
        "    [244, 243, 174],\n",
        "    [238, 232, 170],\n",
        "    [227, 178, 111],\n",
        "    [224, 201, 133]\n",
        "]"
      ],
      "execution_count": null,
      "outputs": []
    },
    {
      "cell_type": "code",
      "metadata": {
        "id": "ejkyRX0zqKkB"
      },
      "source": [
        "colors_shades = [\n",
        "    beige_shades, \n",
        "    black_shades, \n",
        "    blue_shades, \n",
        "    brown_shades,\n",
        "    gray_shades, \n",
        "    green_shades,\n",
        "    orange_shades,\n",
        "    pink_shades,\n",
        "    purple_shades,\n",
        "    red_shades,\n",
        "    silver_shades,\n",
        "    white_shades,\n",
        "    yellow_shades\n",
        "]"
      ],
      "execution_count": null,
      "outputs": []
    },
    {
      "cell_type": "code",
      "metadata": {
        "id": "T-AvX2nBqKkE"
      },
      "source": [
        "main_colors = np.array(reduce(operator.concat, colors_shades), 'float32').tolist()\n",
        "filter_color_names = [\n",
        "    'beige',\n",
        "    'black',\n",
        "    'blue',\n",
        "    'brown',\n",
        "    'gray',\n",
        "    'green',\n",
        "    'orange',\n",
        "    'pink',\n",
        "    'purple',\n",
        "    'red',\n",
        "    'silver',\n",
        "    'white',\n",
        "    'yellow',\n",
        "]"
      ],
      "execution_count": null,
      "outputs": []
    },
    {
      "cell_type": "code",
      "metadata": {
        "id": "VY7g7hoaqKkE"
      },
      "source": [
        "main_color_names =[]\n",
        "for i in range(len(filter_color_names)):\n",
        "    for j in range(len(colors_shades[i])):\n",
        "        main_color_names.append(filter_color_names[i])"
      ],
      "execution_count": null,
      "outputs": []
    },
    {
      "cell_type": "code",
      "metadata": {
        "id": "Nn6guBvxqKkE"
      },
      "source": [
        "main_colors_lab = rgb2lab(main_colors)"
      ],
      "execution_count": null,
      "outputs": []
    },
    {
      "cell_type": "code",
      "metadata": {
        "colab": {
          "base_uri": "https://localhost:8080/"
        },
        "id": "X-_KPnSfqKkF",
        "outputId": "2c4c006f-816c-4068-8054-d5fe72b41161"
      },
      "source": [
        "main_colors_cashe = create_cache(main_colors_lab, pixels_lab, main_color_names, mode='TIME')"
      ],
      "execution_count": 14,
      "outputs": [
        {
          "output_type": "stream",
          "text": [
            "100%|██████████| 16777216/16777216 [2:38:08<00:00, 1768.18it/s]\n"
          ],
          "name": "stderr"
        }
      ]
    },
    {
      "cell_type": "code",
      "metadata": {
        "id": "2v8uS0adqKkG"
      },
      "source": [
        "with open('/content/drive/MyDrive/Colab Notebooks/segmentation/main_colors_cashe_last.pickle', 'wb') as f:\n",
        "    pickle.dump(main_colors_cashe, f)"
      ],
      "execution_count": 15,
      "outputs": []
    },
    {
      "cell_type": "code",
      "metadata": {
        "id": "-SPS6GIbqKkG"
      },
      "source": [
        "with open('/content/drive/MyDrive/Colab Notebooks/segmentation/main_color_names_last.pickle', 'wb') as f:\n",
        "    pickle.dump(main_color_names, f)"
      ],
      "execution_count": 16,
      "outputs": []
    },
    {
      "cell_type": "code",
      "metadata": {
        "id": "4AeWwlyEqKkG"
      },
      "source": [
        "main_colors_cashe = None"
      ],
      "execution_count": null,
      "outputs": []
    },
    {
      "cell_type": "code",
      "metadata": {
        "id": "8Y4wKkBkqKkG",
        "scrolled": true,
        "outputId": "2b8e81df-50d7-4ef2-cdca-dda1718cd25d"
      },
      "source": [
        "current_color = 'beige';\n",
        "for i, rgb in enumerate(main_colors):\n",
        "    color_name = main_color_names[i]\n",
        "    color = colors_shades[filter_color_names.index(color_name)]\n",
        "    if current_color != color_name:\n",
        "        print('-----' * 23)\n",
        "        print('-----' * 23)\n",
        "        print('-----' * 23)\n",
        "        print('-----' * 23)\n",
        "        print('-----' * 23)\n",
        "        current_color = color_name\n",
        "    color_hex_code = rgb2hex(int(rgb[0]), int(rgb[1]), int(rgb[2]))\n",
        "    display(HTML(f'<div style=\"background-color:{color_hex_code};\" class=\"colordivbig rounded\"><div class=\"hexcolor\">{color_name}<br>{color_hex_code}<br>({rgb[0]},{rgb[1]},{rgb[2]})</div></div>'))\n"
      ],
      "execution_count": null,
      "outputs": [
        {
          "output_type": "display_data",
          "data": {
            "text/html": [
              "<div style=\"background-color:#F5F5DC;\" class=\"colordivbig rounded\"><div class=\"hexcolor\">beige<br>#F5F5DC<br>(245.0,245.0,220.0)</div></div>"
            ],
            "text/plain": [
              "<IPython.core.display.HTML object>"
            ]
          },
          "metadata": {
            "tags": []
          }
        },
        {
          "output_type": "display_data",
          "data": {
            "text/html": [
              "<div style=\"background-color:#FFE4B5;\" class=\"colordivbig rounded\"><div class=\"hexcolor\">beige<br>#FFE4B5<br>(255.0,228.0,181.0)</div></div>"
            ],
            "text/plain": [
              "<IPython.core.display.HTML object>"
            ]
          },
          "metadata": {
            "tags": []
          }
        },
        {
          "output_type": "display_data",
          "data": {
            "text/html": [
              "<div style=\"background-color:#FFEFD5;\" class=\"colordivbig rounded\"><div class=\"hexcolor\">beige<br>#FFEFD5<br>(255.0,239.0,213.0)</div></div>"
            ],
            "text/plain": [
              "<IPython.core.display.HTML object>"
            ]
          },
          "metadata": {
            "tags": []
          }
        },
        {
          "output_type": "display_data",
          "data": {
            "text/html": [
              "<div style=\"background-color:#FAFAD2;\" class=\"colordivbig rounded\"><div class=\"hexcolor\">beige<br>#FAFAD2<br>(250.0,250.0,210.0)</div></div>"
            ],
            "text/plain": [
              "<IPython.core.display.HTML object>"
            ]
          },
          "metadata": {
            "tags": []
          }
        },
        {
          "output_type": "display_data",
          "data": {
            "text/html": [
              "<div style=\"background-color:#FFFACD;\" class=\"colordivbig rounded\"><div class=\"hexcolor\">beige<br>#FFFACD<br>(255.0,250.0,205.0)</div></div>"
            ],
            "text/plain": [
              "<IPython.core.display.HTML object>"
            ]
          },
          "metadata": {
            "tags": []
          }
        },
        {
          "output_type": "display_data",
          "data": {
            "text/html": [
              "<div style=\"background-color:#FFFFE0;\" class=\"colordivbig rounded\"><div class=\"hexcolor\">beige<br>#FFFFE0<br>(255.0,255.0,224.0)</div></div>"
            ],
            "text/plain": [
              "<IPython.core.display.HTML object>"
            ]
          },
          "metadata": {
            "tags": []
          }
        },
        {
          "output_type": "display_data",
          "data": {
            "text/html": [
              "<div style=\"background-color:#F5DEB3;\" class=\"colordivbig rounded\"><div class=\"hexcolor\">beige<br>#F5DEB3<br>(245.0,222.0,179.0)</div></div>"
            ],
            "text/plain": [
              "<IPython.core.display.HTML object>"
            ]
          },
          "metadata": {
            "tags": []
          }
        },
        {
          "output_type": "display_data",
          "data": {
            "text/html": [
              "<div style=\"background-color:#FFDEAD;\" class=\"colordivbig rounded\"><div class=\"hexcolor\">beige<br>#FFDEAD<br>(255.0,222.0,173.0)</div></div>"
            ],
            "text/plain": [
              "<IPython.core.display.HTML object>"
            ]
          },
          "metadata": {
            "tags": []
          }
        },
        {
          "output_type": "display_data",
          "data": {
            "text/html": [
              "<div style=\"background-color:#FFE4C4;\" class=\"colordivbig rounded\"><div class=\"hexcolor\">beige<br>#FFE4C4<br>(255.0,228.0,196.0)</div></div>"
            ],
            "text/plain": [
              "<IPython.core.display.HTML object>"
            ]
          },
          "metadata": {
            "tags": []
          }
        },
        {
          "output_type": "display_data",
          "data": {
            "text/html": [
              "<div style=\"background-color:#FFEBCD;\" class=\"colordivbig rounded\"><div class=\"hexcolor\">beige<br>#FFEBCD<br>(255.0,235.0,205.0)</div></div>"
            ],
            "text/plain": [
              "<IPython.core.display.HTML object>"
            ]
          },
          "metadata": {
            "tags": []
          }
        },
        {
          "output_type": "display_data",
          "data": {
            "text/html": [
              "<div style=\"background-color:#FFF8DC;\" class=\"colordivbig rounded\"><div class=\"hexcolor\">beige<br>#FFF8DC<br>(255.0,248.0,220.0)</div></div>"
            ],
            "text/plain": [
              "<IPython.core.display.HTML object>"
            ]
          },
          "metadata": {
            "tags": []
          }
        },
        {
          "output_type": "display_data",
          "data": {
            "text/html": [
              "<div style=\"background-color:#FAEBD7;\" class=\"colordivbig rounded\"><div class=\"hexcolor\">beige<br>#FAEBD7<br>(250.0,235.0,215.0)</div></div>"
            ],
            "text/plain": [
              "<IPython.core.display.HTML object>"
            ]
          },
          "metadata": {
            "tags": []
          }
        },
        {
          "output_type": "display_data",
          "data": {
            "text/html": [
              "<div style=\"background-color:#FAF0E6;\" class=\"colordivbig rounded\"><div class=\"hexcolor\">beige<br>#FAF0E6<br>(250.0,240.0,230.0)</div></div>"
            ],
            "text/plain": [
              "<IPython.core.display.HTML object>"
            ]
          },
          "metadata": {
            "tags": []
          }
        },
        {
          "output_type": "display_data",
          "data": {
            "text/html": [
              "<div style=\"background-color:#FDF5E6;\" class=\"colordivbig rounded\"><div class=\"hexcolor\">beige<br>#FDF5E6<br>(253.0,245.0,230.0)</div></div>"
            ],
            "text/plain": [
              "<IPython.core.display.HTML object>"
            ]
          },
          "metadata": {
            "tags": []
          }
        },
        {
          "output_type": "display_data",
          "data": {
            "text/html": [
              "<div style=\"background-color:#FFF5EE;\" class=\"colordivbig rounded\"><div class=\"hexcolor\">beige<br>#FFF5EE<br>(255.0,245.0,238.0)</div></div>"
            ],
            "text/plain": [
              "<IPython.core.display.HTML object>"
            ]
          },
          "metadata": {
            "tags": []
          }
        },
        {
          "output_type": "display_data",
          "data": {
            "text/html": [
              "<div style=\"background-color:#FFDAB9;\" class=\"colordivbig rounded\"><div class=\"hexcolor\">beige<br>#FFDAB9<br>(255.0,218.0,185.0)</div></div>"
            ],
            "text/plain": [
              "<IPython.core.display.HTML object>"
            ]
          },
          "metadata": {
            "tags": []
          }
        },
        {
          "output_type": "display_data",
          "data": {
            "text/html": [
              "<div style=\"background-color:#D2B48C;\" class=\"colordivbig rounded\"><div class=\"hexcolor\">beige<br>#D2B48C<br>(210.0,180.0,140.0)</div></div>"
            ],
            "text/plain": [
              "<IPython.core.display.HTML object>"
            ]
          },
          "metadata": {
            "tags": []
          }
        },
        {
          "output_type": "display_data",
          "data": {
            "text/html": [
              "<div style=\"background-color:#DEB887;\" class=\"colordivbig rounded\"><div class=\"hexcolor\">beige<br>#DEB887<br>(222.0,184.0,135.0)</div></div>"
            ],
            "text/plain": [
              "<IPython.core.display.HTML object>"
            ]
          },
          "metadata": {
            "tags": []
          }
        },
        {
          "output_type": "display_data",
          "data": {
            "text/html": [
              "<div style=\"background-color:#BEAE92;\" class=\"colordivbig rounded\"><div class=\"hexcolor\">beige<br>#BEAE92<br>(190.0,174.0,146.0)</div></div>"
            ],
            "text/plain": [
              "<IPython.core.display.HTML object>"
            ]
          },
          "metadata": {
            "tags": []
          }
        },
        {
          "output_type": "display_data",
          "data": {
            "text/html": [
              "<div style=\"background-color:#C0AB90;\" class=\"colordivbig rounded\"><div class=\"hexcolor\">beige<br>#C0AB90<br>(192.0,171.0,144.0)</div></div>"
            ],
            "text/plain": [
              "<IPython.core.display.HTML object>"
            ]
          },
          "metadata": {
            "tags": []
          }
        },
        {
          "output_type": "stream",
          "text": [
            "-------------------------------------------------------------------------------------------------------------------\n",
            "-------------------------------------------------------------------------------------------------------------------\n",
            "-------------------------------------------------------------------------------------------------------------------\n",
            "-------------------------------------------------------------------------------------------------------------------\n",
            "-------------------------------------------------------------------------------------------------------------------\n"
          ],
          "name": "stdout"
        },
        {
          "output_type": "display_data",
          "data": {
            "text/html": [
              "<div style=\"background-color:#000000;\" class=\"colordivbig rounded\"><div class=\"hexcolor\">black<br>#000000<br>(0.0,0.0,0.0)</div></div>"
            ],
            "text/plain": [
              "<IPython.core.display.HTML object>"
            ]
          },
          "metadata": {
            "tags": []
          }
        },
        {
          "output_type": "display_data",
          "data": {
            "text/html": [
              "<div style=\"background-color:#040506;\" class=\"colordivbig rounded\"><div class=\"hexcolor\">black<br>#040506<br>(4.0,5.0,6.0)</div></div>"
            ],
            "text/plain": [
              "<IPython.core.display.HTML object>"
            ]
          },
          "metadata": {
            "tags": []
          }
        },
        {
          "output_type": "display_data",
          "data": {
            "text/html": [
              "<div style=\"background-color:#0D0D0D;\" class=\"colordivbig rounded\"><div class=\"hexcolor\">black<br>#0D0D0D<br>(13.0,13.0,13.0)</div></div>"
            ],
            "text/plain": [
              "<IPython.core.display.HTML object>"
            ]
          },
          "metadata": {
            "tags": []
          }
        },
        {
          "output_type": "display_data",
          "data": {
            "text/html": [
              "<div style=\"background-color:#1A1A1A;\" class=\"colordivbig rounded\"><div class=\"hexcolor\">black<br>#1A1A1A<br>(26.0,26.0,26.0)</div></div>"
            ],
            "text/plain": [
              "<IPython.core.display.HTML object>"
            ]
          },
          "metadata": {
            "tags": []
          }
        },
        {
          "output_type": "display_data",
          "data": {
            "text/html": [
              "<div style=\"background-color:#1E1E1E;\" class=\"colordivbig rounded\"><div class=\"hexcolor\">black<br>#1E1E1E<br>(30.0,30.0,30.0)</div></div>"
            ],
            "text/plain": [
              "<IPython.core.display.HTML object>"
            ]
          },
          "metadata": {
            "tags": []
          }
        },
        {
          "output_type": "display_data",
          "data": {
            "text/html": [
              "<div style=\"background-color:#282828;\" class=\"colordivbig rounded\"><div class=\"hexcolor\">black<br>#282828<br>(40.0,40.0,40.0)</div></div>"
            ],
            "text/plain": [
              "<IPython.core.display.HTML object>"
            ]
          },
          "metadata": {
            "tags": []
          }
        },
        {
          "output_type": "display_data",
          "data": {
            "text/html": [
              "<div style=\"background-color:#111009;\" class=\"colordivbig rounded\"><div class=\"hexcolor\">black<br>#111009<br>(17.0,16.0,9.0)</div></div>"
            ],
            "text/plain": [
              "<IPython.core.display.HTML object>"
            ]
          },
          "metadata": {
            "tags": []
          }
        },
        {
          "output_type": "display_data",
          "data": {
            "text/html": [
              "<div style=\"background-color:#0D0213;\" class=\"colordivbig rounded\"><div class=\"hexcolor\">black<br>#0D0213<br>(13.0,2.0,19.0)</div></div>"
            ],
            "text/plain": [
              "<IPython.core.display.HTML object>"
            ]
          },
          "metadata": {
            "tags": []
          }
        },
        {
          "output_type": "display_data",
          "data": {
            "text/html": [
              "<div style=\"background-color:#18191D;\" class=\"colordivbig rounded\"><div class=\"hexcolor\">black<br>#18191D<br>(24.0,25.0,29.0)</div></div>"
            ],
            "text/plain": [
              "<IPython.core.display.HTML object>"
            ]
          },
          "metadata": {
            "tags": []
          }
        },
        {
          "output_type": "display_data",
          "data": {
            "text/html": [
              "<div style=\"background-color:#16171B;\" class=\"colordivbig rounded\"><div class=\"hexcolor\">black<br>#16171B<br>(22.0,23.0,27.0)</div></div>"
            ],
            "text/plain": [
              "<IPython.core.display.HTML object>"
            ]
          },
          "metadata": {
            "tags": []
          }
        },
        {
          "output_type": "display_data",
          "data": {
            "text/html": [
              "<div style=\"background-color:#191A1E;\" class=\"colordivbig rounded\"><div class=\"hexcolor\">black<br>#191A1E<br>(25.0,26.0,30.0)</div></div>"
            ],
            "text/plain": [
              "<IPython.core.display.HTML object>"
            ]
          },
          "metadata": {
            "tags": []
          }
        },
        {
          "output_type": "display_data",
          "data": {
            "text/html": [
              "<div style=\"background-color:#1A1B20;\" class=\"colordivbig rounded\"><div class=\"hexcolor\">black<br>#1A1B20<br>(26.0,27.0,32.0)</div></div>"
            ],
            "text/plain": [
              "<IPython.core.display.HTML object>"
            ]
          },
          "metadata": {
            "tags": []
          }
        },
        {
          "output_type": "display_data",
          "data": {
            "text/html": [
              "<div style=\"background-color:#18191B;\" class=\"colordivbig rounded\"><div class=\"hexcolor\">black<br>#18191B<br>(24.0,25.0,27.0)</div></div>"
            ],
            "text/plain": [
              "<IPython.core.display.HTML object>"
            ]
          },
          "metadata": {
            "tags": []
          }
        },
        {
          "output_type": "display_data",
          "data": {
            "text/html": [
              "<div style=\"background-color:#171C1F;\" class=\"colordivbig rounded\"><div class=\"hexcolor\">black<br>#171C1F<br>(23.0,28.0,31.0)</div></div>"
            ],
            "text/plain": [
              "<IPython.core.display.HTML object>"
            ]
          },
          "metadata": {
            "tags": []
          }
        },
        {
          "output_type": "display_data",
          "data": {
            "text/html": [
              "<div style=\"background-color:#1E2126;\" class=\"colordivbig rounded\"><div class=\"hexcolor\">black<br>#1E2126<br>(30.0,33.0,38.0)</div></div>"
            ],
            "text/plain": [
              "<IPython.core.display.HTML object>"
            ]
          },
          "metadata": {
            "tags": []
          }
        },
        {
          "output_type": "display_data",
          "data": {
            "text/html": [
              "<div style=\"background-color:#202227;\" class=\"colordivbig rounded\"><div class=\"hexcolor\">black<br>#202227<br>(32.0,34.0,39.0)</div></div>"
            ],
            "text/plain": [
              "<IPython.core.display.HTML object>"
            ]
          },
          "metadata": {
            "tags": []
          }
        },
        {
          "output_type": "display_data",
          "data": {
            "text/html": [
              "<div style=\"background-color:#1C1F24;\" class=\"colordivbig rounded\"><div class=\"hexcolor\">black<br>#1C1F24<br>(28.0,31.0,36.0)</div></div>"
            ],
            "text/plain": [
              "<IPython.core.display.HTML object>"
            ]
          },
          "metadata": {
            "tags": []
          }
        },
        {
          "output_type": "display_data",
          "data": {
            "text/html": [
              "<div style=\"background-color:#211F24;\" class=\"colordivbig rounded\"><div class=\"hexcolor\">black<br>#211F24<br>(33.0,31.0,36.0)</div></div>"
            ],
            "text/plain": [
              "<IPython.core.display.HTML object>"
            ]
          },
          "metadata": {
            "tags": []
          }
        },
        {
          "output_type": "display_data",
          "data": {
            "text/html": [
              "<div style=\"background-color:#222126;\" class=\"colordivbig rounded\"><div class=\"hexcolor\">black<br>#222126<br>(34.0,33.0,38.0)</div></div>"
            ],
            "text/plain": [
              "<IPython.core.display.HTML object>"
            ]
          },
          "metadata": {
            "tags": []
          }
        },
        {
          "output_type": "display_data",
          "data": {
            "text/html": [
              "<div style=\"background-color:#252023;\" class=\"colordivbig rounded\"><div class=\"hexcolor\">black<br>#252023<br>(37.0,32.0,35.0)</div></div>"
            ],
            "text/plain": [
              "<IPython.core.display.HTML object>"
            ]
          },
          "metadata": {
            "tags": []
          }
        },
        {
          "output_type": "display_data",
          "data": {
            "text/html": [
              "<div style=\"background-color:#222126;\" class=\"colordivbig rounded\"><div class=\"hexcolor\">black<br>#222126<br>(34.0,33.0,38.0)</div></div>"
            ],
            "text/plain": [
              "<IPython.core.display.HTML object>"
            ]
          },
          "metadata": {
            "tags": []
          }
        },
        {
          "output_type": "display_data",
          "data": {
            "text/html": [
              "<div style=\"background-color:#201D23;\" class=\"colordivbig rounded\"><div class=\"hexcolor\">black<br>#201D23<br>(32.0,29.0,35.0)</div></div>"
            ],
            "text/plain": [
              "<IPython.core.display.HTML object>"
            ]
          },
          "metadata": {
            "tags": []
          }
        },
        {
          "output_type": "display_data",
          "data": {
            "text/html": [
              "<div style=\"background-color:#27242B;\" class=\"colordivbig rounded\"><div class=\"hexcolor\">black<br>#27242B<br>(39.0,36.0,43.0)</div></div>"
            ],
            "text/plain": [
              "<IPython.core.display.HTML object>"
            ]
          },
          "metadata": {
            "tags": []
          }
        },
        {
          "output_type": "display_data",
          "data": {
            "text/html": [
              "<div style=\"background-color:#2B2623;\" class=\"colordivbig rounded\"><div class=\"hexcolor\">black<br>#2B2623<br>(43.0,38.0,35.0)</div></div>"
            ],
            "text/plain": [
              "<IPython.core.display.HTML object>"
            ]
          },
          "metadata": {
            "tags": []
          }
        },
        {
          "output_type": "display_data",
          "data": {
            "text/html": [
              "<div style=\"background-color:#2D2926;\" class=\"colordivbig rounded\"><div class=\"hexcolor\">black<br>#2D2926<br>(45.0,41.0,38.0)</div></div>"
            ],
            "text/plain": [
              "<IPython.core.display.HTML object>"
            ]
          },
          "metadata": {
            "tags": []
          }
        },
        {
          "output_type": "display_data",
          "data": {
            "text/html": [
              "<div style=\"background-color:#2E2926;\" class=\"colordivbig rounded\"><div class=\"hexcolor\">black<br>#2E2926<br>(46.0,41.0,38.0)</div></div>"
            ],
            "text/plain": [
              "<IPython.core.display.HTML object>"
            ]
          },
          "metadata": {
            "tags": []
          }
        },
        {
          "output_type": "display_data",
          "data": {
            "text/html": [
              "<div style=\"background-color:#362E2C;\" class=\"colordivbig rounded\"><div class=\"hexcolor\">black<br>#362E2C<br>(54.0,46.0,44.0)</div></div>"
            ],
            "text/plain": [
              "<IPython.core.display.HTML object>"
            ]
          },
          "metadata": {
            "tags": []
          }
        },
        {
          "output_type": "display_data",
          "data": {
            "text/html": [
              "<div style=\"background-color:#2F2B2B;\" class=\"colordivbig rounded\"><div class=\"hexcolor\">black<br>#2F2B2B<br>(47.0,43.0,43.0)</div></div>"
            ],
            "text/plain": [
              "<IPython.core.display.HTML object>"
            ]
          },
          "metadata": {
            "tags": []
          }
        },
        {
          "output_type": "stream",
          "text": [
            "-------------------------------------------------------------------------------------------------------------------\n",
            "-------------------------------------------------------------------------------------------------------------------\n",
            "-------------------------------------------------------------------------------------------------------------------\n",
            "-------------------------------------------------------------------------------------------------------------------\n",
            "-------------------------------------------------------------------------------------------------------------------\n"
          ],
          "name": "stdout"
        },
        {
          "output_type": "display_data",
          "data": {
            "text/html": [
              "<div style=\"background-color:#0000FF;\" class=\"colordivbig rounded\"><div class=\"hexcolor\">blue<br>#0000FF<br>(0.0,0.0,255.0)</div></div>"
            ],
            "text/plain": [
              "<IPython.core.display.HTML object>"
            ]
          },
          "metadata": {
            "tags": []
          }
        },
        {
          "output_type": "display_data",
          "data": {
            "text/html": [
              "<div style=\"background-color:#000099;\" class=\"colordivbig rounded\"><div class=\"hexcolor\">blue<br>#000099<br>(0.0,0.0,153.0)</div></div>"
            ],
            "text/plain": [
              "<IPython.core.display.HTML object>"
            ]
          },
          "metadata": {
            "tags": []
          }
        },
        {
          "output_type": "display_data",
          "data": {
            "text/html": [
              "<div style=\"background-color:#30D5C8;\" class=\"colordivbig rounded\"><div class=\"hexcolor\">blue<br>#30D5C8<br>(48.0,213.0,200.0)</div></div>"
            ],
            "text/plain": [
              "<IPython.core.display.HTML object>"
            ]
          },
          "metadata": {
            "tags": []
          }
        },
        {
          "output_type": "display_data",
          "data": {
            "text/html": [
              "<div style=\"background-color:#19223C;\" class=\"colordivbig rounded\"><div class=\"hexcolor\">blue<br>#19223C<br>(25.0,34.0,60.0)</div></div>"
            ],
            "text/plain": [
              "<IPython.core.display.HTML object>"
            ]
          },
          "metadata": {
            "tags": []
          }
        },
        {
          "output_type": "display_data",
          "data": {
            "text/html": [
              "<div style=\"background-color:#54708D;\" class=\"colordivbig rounded\"><div class=\"hexcolor\">blue<br>#54708D<br>(84.0,112.0,141.0)</div></div>"
            ],
            "text/plain": [
              "<IPython.core.display.HTML object>"
            ]
          },
          "metadata": {
            "tags": []
          }
        },
        {
          "output_type": "display_data",
          "data": {
            "text/html": [
              "<div style=\"background-color:#5F9EA0;\" class=\"colordivbig rounded\"><div class=\"hexcolor\">blue<br>#5F9EA0<br>(95.0,158.0,160.0)</div></div>"
            ],
            "text/plain": [
              "<IPython.core.display.HTML object>"
            ]
          },
          "metadata": {
            "tags": []
          }
        },
        {
          "output_type": "display_data",
          "data": {
            "text/html": [
              "<div style=\"background-color:#00CED1;\" class=\"colordivbig rounded\"><div class=\"hexcolor\">blue<br>#00CED1<br>(0.0,206.0,209.0)</div></div>"
            ],
            "text/plain": [
              "<IPython.core.display.HTML object>"
            ]
          },
          "metadata": {
            "tags": []
          }
        },
        {
          "output_type": "display_data",
          "data": {
            "text/html": [
              "<div style=\"background-color:#48D1CC;\" class=\"colordivbig rounded\"><div class=\"hexcolor\">blue<br>#48D1CC<br>(72.0,209.0,204.0)</div></div>"
            ],
            "text/plain": [
              "<IPython.core.display.HTML object>"
            ]
          },
          "metadata": {
            "tags": []
          }
        },
        {
          "output_type": "display_data",
          "data": {
            "text/html": [
              "<div style=\"background-color:#40E0D0;\" class=\"colordivbig rounded\"><div class=\"hexcolor\">blue<br>#40E0D0<br>(64.0,224.0,208.0)</div></div>"
            ],
            "text/plain": [
              "<IPython.core.display.HTML object>"
            ]
          },
          "metadata": {
            "tags": []
          }
        },
        {
          "output_type": "display_data",
          "data": {
            "text/html": [
              "<div style=\"background-color:#00FFFF;\" class=\"colordivbig rounded\"><div class=\"hexcolor\">blue<br>#00FFFF<br>(0.0,255.0,255.0)</div></div>"
            ],
            "text/plain": [
              "<IPython.core.display.HTML object>"
            ]
          },
          "metadata": {
            "tags": []
          }
        },
        {
          "output_type": "display_data",
          "data": {
            "text/html": [
              "<div style=\"background-color:#00FFFF;\" class=\"colordivbig rounded\"><div class=\"hexcolor\">blue<br>#00FFFF<br>(0.0,255.0,255.0)</div></div>"
            ],
            "text/plain": [
              "<IPython.core.display.HTML object>"
            ]
          },
          "metadata": {
            "tags": []
          }
        },
        {
          "output_type": "display_data",
          "data": {
            "text/html": [
              "<div style=\"background-color:#AFEEEE;\" class=\"colordivbig rounded\"><div class=\"hexcolor\">blue<br>#AFEEEE<br>(175.0,238.0,238.0)</div></div>"
            ],
            "text/plain": [
              "<IPython.core.display.HTML object>"
            ]
          },
          "metadata": {
            "tags": []
          }
        },
        {
          "output_type": "display_data",
          "data": {
            "text/html": [
              "<div style=\"background-color:#E0FFFF;\" class=\"colordivbig rounded\"><div class=\"hexcolor\">blue<br>#E0FFFF<br>(224.0,255.0,255.0)</div></div>"
            ],
            "text/plain": [
              "<IPython.core.display.HTML object>"
            ]
          },
          "metadata": {
            "tags": []
          }
        },
        {
          "output_type": "display_data",
          "data": {
            "text/html": [
              "<div style=\"background-color:#000080;\" class=\"colordivbig rounded\"><div class=\"hexcolor\">blue<br>#000080<br>(0.0,0.0,128.0)</div></div>"
            ],
            "text/plain": [
              "<IPython.core.display.HTML object>"
            ]
          },
          "metadata": {
            "tags": []
          }
        },
        {
          "output_type": "display_data",
          "data": {
            "text/html": [
              "<div style=\"background-color:#00008B;\" class=\"colordivbig rounded\"><div class=\"hexcolor\">blue<br>#00008B<br>(0.0,0.0,139.0)</div></div>"
            ],
            "text/plain": [
              "<IPython.core.display.HTML object>"
            ]
          },
          "metadata": {
            "tags": []
          }
        },
        {
          "output_type": "display_data",
          "data": {
            "text/html": [
              "<div style=\"background-color:#0000CD;\" class=\"colordivbig rounded\"><div class=\"hexcolor\">blue<br>#0000CD<br>(0.0,0.0,205.0)</div></div>"
            ],
            "text/plain": [
              "<IPython.core.display.HTML object>"
            ]
          },
          "metadata": {
            "tags": []
          }
        },
        {
          "output_type": "display_data",
          "data": {
            "text/html": [
              "<div style=\"background-color:#0000FF;\" class=\"colordivbig rounded\"><div class=\"hexcolor\">blue<br>#0000FF<br>(0.0,0.0,255.0)</div></div>"
            ],
            "text/plain": [
              "<IPython.core.display.HTML object>"
            ]
          },
          "metadata": {
            "tags": []
          }
        },
        {
          "output_type": "display_data",
          "data": {
            "text/html": [
              "<div style=\"background-color:#191970;\" class=\"colordivbig rounded\"><div class=\"hexcolor\">blue<br>#191970<br>(25.0,25.0,112.0)</div></div>"
            ],
            "text/plain": [
              "<IPython.core.display.HTML object>"
            ]
          },
          "metadata": {
            "tags": []
          }
        },
        {
          "output_type": "display_data",
          "data": {
            "text/html": [
              "<div style=\"background-color:#4169E1;\" class=\"colordivbig rounded\"><div class=\"hexcolor\">blue<br>#4169E1<br>(65.0,105.0,225.0)</div></div>"
            ],
            "text/plain": [
              "<IPython.core.display.HTML object>"
            ]
          },
          "metadata": {
            "tags": []
          }
        },
        {
          "output_type": "display_data",
          "data": {
            "text/html": [
              "<div style=\"background-color:#4682B4;\" class=\"colordivbig rounded\"><div class=\"hexcolor\">blue<br>#4682B4<br>(70.0,130.0,180.0)</div></div>"
            ],
            "text/plain": [
              "<IPython.core.display.HTML object>"
            ]
          },
          "metadata": {
            "tags": []
          }
        },
        {
          "output_type": "display_data",
          "data": {
            "text/html": [
              "<div style=\"background-color:#1E90FF;\" class=\"colordivbig rounded\"><div class=\"hexcolor\">blue<br>#1E90FF<br>(30.0,144.0,255.0)</div></div>"
            ],
            "text/plain": [
              "<IPython.core.display.HTML object>"
            ]
          },
          "metadata": {
            "tags": []
          }
        },
        {
          "output_type": "display_data",
          "data": {
            "text/html": [
              "<div style=\"background-color:#00BFFF;\" class=\"colordivbig rounded\"><div class=\"hexcolor\">blue<br>#00BFFF<br>(0.0,191.0,255.0)</div></div>"
            ],
            "text/plain": [
              "<IPython.core.display.HTML object>"
            ]
          },
          "metadata": {
            "tags": []
          }
        },
        {
          "output_type": "display_data",
          "data": {
            "text/html": [
              "<div style=\"background-color:#6495ED;\" class=\"colordivbig rounded\"><div class=\"hexcolor\">blue<br>#6495ED<br>(100.0,149.0,237.0)</div></div>"
            ],
            "text/plain": [
              "<IPython.core.display.HTML object>"
            ]
          },
          "metadata": {
            "tags": []
          }
        },
        {
          "output_type": "display_data",
          "data": {
            "text/html": [
              "<div style=\"background-color:#87CEEB;\" class=\"colordivbig rounded\"><div class=\"hexcolor\">blue<br>#87CEEB<br>(135.0,206.0,235.0)</div></div>"
            ],
            "text/plain": [
              "<IPython.core.display.HTML object>"
            ]
          },
          "metadata": {
            "tags": []
          }
        },
        {
          "output_type": "display_data",
          "data": {
            "text/html": [
              "<div style=\"background-color:#87CEFA;\" class=\"colordivbig rounded\"><div class=\"hexcolor\">blue<br>#87CEFA<br>(135.0,206.0,250.0)</div></div>"
            ],
            "text/plain": [
              "<IPython.core.display.HTML object>"
            ]
          },
          "metadata": {
            "tags": []
          }
        },
        {
          "output_type": "display_data",
          "data": {
            "text/html": [
              "<div style=\"background-color:#B0C4DE;\" class=\"colordivbig rounded\"><div class=\"hexcolor\">blue<br>#B0C4DE<br>(176.0,196.0,222.0)</div></div>"
            ],
            "text/plain": [
              "<IPython.core.display.HTML object>"
            ]
          },
          "metadata": {
            "tags": []
          }
        },
        {
          "output_type": "display_data",
          "data": {
            "text/html": [
              "<div style=\"background-color:#ADD8E6;\" class=\"colordivbig rounded\"><div class=\"hexcolor\">blue<br>#ADD8E6<br>(173.0,216.0,230.0)</div></div>"
            ],
            "text/plain": [
              "<IPython.core.display.HTML object>"
            ]
          },
          "metadata": {
            "tags": []
          }
        },
        {
          "output_type": "display_data",
          "data": {
            "text/html": [
              "<div style=\"background-color:#B0E0E6;\" class=\"colordivbig rounded\"><div class=\"hexcolor\">blue<br>#B0E0E6<br>(176.0,224.0,230.0)</div></div>"
            ],
            "text/plain": [
              "<IPython.core.display.HTML object>"
            ]
          },
          "metadata": {
            "tags": []
          }
        },
        {
          "output_type": "display_data",
          "data": {
            "text/html": [
              "<div style=\"background-color:#F0F8FF;\" class=\"colordivbig rounded\"><div class=\"hexcolor\">blue<br>#F0F8FF<br>(240.0,248.0,255.0)</div></div>"
            ],
            "text/plain": [
              "<IPython.core.display.HTML object>"
            ]
          },
          "metadata": {
            "tags": []
          }
        },
        {
          "output_type": "display_data",
          "data": {
            "text/html": [
              "<div style=\"background-color:#F0FFFF;\" class=\"colordivbig rounded\"><div class=\"hexcolor\">blue<br>#F0FFFF<br>(240.0,255.0,255.0)</div></div>"
            ],
            "text/plain": [
              "<IPython.core.display.HTML object>"
            ]
          },
          "metadata": {
            "tags": []
          }
        },
        {
          "output_type": "display_data",
          "data": {
            "text/html": [
              "<div style=\"background-color:#4418C9;\" class=\"colordivbig rounded\"><div class=\"hexcolor\">blue<br>#4418C9<br>(68.0,24.0,201.0)</div></div>"
            ],
            "text/plain": [
              "<IPython.core.display.HTML object>"
            ]
          },
          "metadata": {
            "tags": []
          }
        },
        {
          "output_type": "display_data",
          "data": {
            "text/html": [
              "<div style=\"background-color:#748BA4;\" class=\"colordivbig rounded\"><div class=\"hexcolor\">blue<br>#748BA4<br>(116.0,139.0,164.0)</div></div>"
            ],
            "text/plain": [
              "<IPython.core.display.HTML object>"
            ]
          },
          "metadata": {
            "tags": []
          }
        },
        {
          "output_type": "display_data",
          "data": {
            "text/html": [
              "<div style=\"background-color:#7F96AF;\" class=\"colordivbig rounded\"><div class=\"hexcolor\">blue<br>#7F96AF<br>(127.0,150.0,175.0)</div></div>"
            ],
            "text/plain": [
              "<IPython.core.display.HTML object>"
            ]
          },
          "metadata": {
            "tags": []
          }
        },
        {
          "output_type": "display_data",
          "data": {
            "text/html": [
              "<div style=\"background-color:#657C8F;\" class=\"colordivbig rounded\"><div class=\"hexcolor\">blue<br>#657C8F<br>(101.0,124.0,143.0)</div></div>"
            ],
            "text/plain": [
              "<IPython.core.display.HTML object>"
            ]
          },
          "metadata": {
            "tags": []
          }
        },
        {
          "output_type": "display_data",
          "data": {
            "text/html": [
              "<div style=\"background-color:#8DA0B1;\" class=\"colordivbig rounded\"><div class=\"hexcolor\">blue<br>#8DA0B1<br>(141.0,160.0,177.0)</div></div>"
            ],
            "text/plain": [
              "<IPython.core.display.HTML object>"
            ]
          },
          "metadata": {
            "tags": []
          }
        },
        {
          "output_type": "display_data",
          "data": {
            "text/html": [
              "<div style=\"background-color:#869BB2;\" class=\"colordivbig rounded\"><div class=\"hexcolor\">blue<br>#869BB2<br>(134.0,155.0,178.0)</div></div>"
            ],
            "text/plain": [
              "<IPython.core.display.HTML object>"
            ]
          },
          "metadata": {
            "tags": []
          }
        },
        {
          "output_type": "display_data",
          "data": {
            "text/html": [
              "<div style=\"background-color:#8395A9;\" class=\"colordivbig rounded\"><div class=\"hexcolor\">blue<br>#8395A9<br>(131.0,149.0,169.0)</div></div>"
            ],
            "text/plain": [
              "<IPython.core.display.HTML object>"
            ]
          },
          "metadata": {
            "tags": []
          }
        },
        {
          "output_type": "display_data",
          "data": {
            "text/html": [
              "<div style=\"background-color:#99AAB4;\" class=\"colordivbig rounded\"><div class=\"hexcolor\">blue<br>#99AAB4<br>(153.0,170.0,180.0)</div></div>"
            ],
            "text/plain": [
              "<IPython.core.display.HTML object>"
            ]
          },
          "metadata": {
            "tags": []
          }
        },
        {
          "output_type": "display_data",
          "data": {
            "text/html": [
              "<div style=\"background-color:#697C8D;\" class=\"colordivbig rounded\"><div class=\"hexcolor\">blue<br>#697C8D<br>(105.0,124.0,141.0)</div></div>"
            ],
            "text/plain": [
              "<IPython.core.display.HTML object>"
            ]
          },
          "metadata": {
            "tags": []
          }
        },
        {
          "output_type": "display_data",
          "data": {
            "text/html": [
              "<div style=\"background-color:#758CA5;\" class=\"colordivbig rounded\"><div class=\"hexcolor\">blue<br>#758CA5<br>(117.0,140.0,165.0)</div></div>"
            ],
            "text/plain": [
              "<IPython.core.display.HTML object>"
            ]
          },
          "metadata": {
            "tags": []
          }
        },
        {
          "output_type": "display_data",
          "data": {
            "text/html": [
              "<div style=\"background-color:#758DA7;\" class=\"colordivbig rounded\"><div class=\"hexcolor\">blue<br>#758DA7<br>(117.0,141.0,167.0)</div></div>"
            ],
            "text/plain": [
              "<IPython.core.display.HTML object>"
            ]
          },
          "metadata": {
            "tags": []
          }
        },
        {
          "output_type": "display_data",
          "data": {
            "text/html": [
              "<div style=\"background-color:#7A92AA;\" class=\"colordivbig rounded\"><div class=\"hexcolor\">blue<br>#7A92AA<br>(122.0,146.0,170.0)</div></div>"
            ],
            "text/plain": [
              "<IPython.core.display.HTML object>"
            ]
          },
          "metadata": {
            "tags": []
          }
        },
        {
          "output_type": "display_data",
          "data": {
            "text/html": [
              "<div style=\"background-color:#7E93A8;\" class=\"colordivbig rounded\"><div class=\"hexcolor\">blue<br>#7E93A8<br>(126.0,147.0,168.0)</div></div>"
            ],
            "text/plain": [
              "<IPython.core.display.HTML object>"
            ]
          },
          "metadata": {
            "tags": []
          }
        },
        {
          "output_type": "display_data",
          "data": {
            "text/html": [
              "<div style=\"background-color:#869CB2;\" class=\"colordivbig rounded\"><div class=\"hexcolor\">blue<br>#869CB2<br>(134.0,156.0,178.0)</div></div>"
            ],
            "text/plain": [
              "<IPython.core.display.HTML object>"
            ]
          },
          "metadata": {
            "tags": []
          }
        },
        {
          "output_type": "display_data",
          "data": {
            "text/html": [
              "<div style=\"background-color:#859AAF;\" class=\"colordivbig rounded\"><div class=\"hexcolor\">blue<br>#859AAF<br>(133.0,154.0,175.0)</div></div>"
            ],
            "text/plain": [
              "<IPython.core.display.HTML object>"
            ]
          },
          "metadata": {
            "tags": []
          }
        },
        {
          "output_type": "display_data",
          "data": {
            "text/html": [
              "<div style=\"background-color:#8297AC;\" class=\"colordivbig rounded\"><div class=\"hexcolor\">blue<br>#8297AC<br>(130.0,151.0,172.0)</div></div>"
            ],
            "text/plain": [
              "<IPython.core.display.HTML object>"
            ]
          },
          "metadata": {
            "tags": []
          }
        },
        {
          "output_type": "display_data",
          "data": {
            "text/html": [
              "<div style=\"background-color:#778CA1;\" class=\"colordivbig rounded\"><div class=\"hexcolor\">blue<br>#778CA1<br>(119.0,140.0,161.0)</div></div>"
            ],
            "text/plain": [
              "<IPython.core.display.HTML object>"
            ]
          },
          "metadata": {
            "tags": []
          }
        },
        {
          "output_type": "display_data",
          "data": {
            "text/html": [
              "<div style=\"background-color:#62778A;\" class=\"colordivbig rounded\"><div class=\"hexcolor\">blue<br>#62778A<br>(98.0,119.0,138.0)</div></div>"
            ],
            "text/plain": [
              "<IPython.core.display.HTML object>"
            ]
          },
          "metadata": {
            "tags": []
          }
        },
        {
          "output_type": "display_data",
          "data": {
            "text/html": [
              "<div style=\"background-color:#697E91;\" class=\"colordivbig rounded\"><div class=\"hexcolor\">blue<br>#697E91<br>(105.0,126.0,145.0)</div></div>"
            ],
            "text/plain": [
              "<IPython.core.display.HTML object>"
            ]
          },
          "metadata": {
            "tags": []
          }
        },
        {
          "output_type": "display_data",
          "data": {
            "text/html": [
              "<div style=\"background-color:#657484;\" class=\"colordivbig rounded\"><div class=\"hexcolor\">blue<br>#657484<br>(101.0,116.0,132.0)</div></div>"
            ],
            "text/plain": [
              "<IPython.core.display.HTML object>"
            ]
          },
          "metadata": {
            "tags": []
          }
        },
        {
          "output_type": "display_data",
          "data": {
            "text/html": [
              "<div style=\"background-color:#7B8898;\" class=\"colordivbig rounded\"><div class=\"hexcolor\">blue<br>#7B8898<br>(123.0,136.0,152.0)</div></div>"
            ],
            "text/plain": [
              "<IPython.core.display.HTML object>"
            ]
          },
          "metadata": {
            "tags": []
          }
        },
        {
          "output_type": "display_data",
          "data": {
            "text/html": [
              "<div style=\"background-color:#8B9DB1;\" class=\"colordivbig rounded\"><div class=\"hexcolor\">blue<br>#8B9DB1<br>(139.0,157.0,177.0)</div></div>"
            ],
            "text/plain": [
              "<IPython.core.display.HTML object>"
            ]
          },
          "metadata": {
            "tags": []
          }
        },
        {
          "output_type": "display_data",
          "data": {
            "text/html": [
              "<div style=\"background-color:#8E9FB1;\" class=\"colordivbig rounded\"><div class=\"hexcolor\">blue<br>#8E9FB1<br>(142.0,159.0,177.0)</div></div>"
            ],
            "text/plain": [
              "<IPython.core.display.HTML object>"
            ]
          },
          "metadata": {
            "tags": []
          }
        },
        {
          "output_type": "display_data",
          "data": {
            "text/html": [
              "<div style=\"background-color:#6D7D91;\" class=\"colordivbig rounded\"><div class=\"hexcolor\">blue<br>#6D7D91<br>(109.0,125.0,145.0)</div></div>"
            ],
            "text/plain": [
              "<IPython.core.display.HTML object>"
            ]
          },
          "metadata": {
            "tags": []
          }
        },
        {
          "output_type": "display_data",
          "data": {
            "text/html": [
              "<div style=\"background-color:#7A8A9A;\" class=\"colordivbig rounded\"><div class=\"hexcolor\">blue<br>#7A8A9A<br>(122.0,138.0,154.0)</div></div>"
            ],
            "text/plain": [
              "<IPython.core.display.HTML object>"
            ]
          },
          "metadata": {
            "tags": []
          }
        },
        {
          "output_type": "display_data",
          "data": {
            "text/html": [
              "<div style=\"background-color:#6C7D90;\" class=\"colordivbig rounded\"><div class=\"hexcolor\">blue<br>#6C7D90<br>(108.0,125.0,144.0)</div></div>"
            ],
            "text/plain": [
              "<IPython.core.display.HTML object>"
            ]
          },
          "metadata": {
            "tags": []
          }
        },
        {
          "output_type": "display_data",
          "data": {
            "text/html": [
              "<div style=\"background-color:#697A8B;\" class=\"colordivbig rounded\"><div class=\"hexcolor\">blue<br>#697A8B<br>(105.0,122.0,139.0)</div></div>"
            ],
            "text/plain": [
              "<IPython.core.display.HTML object>"
            ]
          },
          "metadata": {
            "tags": []
          }
        },
        {
          "output_type": "display_data",
          "data": {
            "text/html": [
              "<div style=\"background-color:#718294;\" class=\"colordivbig rounded\"><div class=\"hexcolor\">blue<br>#718294<br>(113.0,130.0,148.0)</div></div>"
            ],
            "text/plain": [
              "<IPython.core.display.HTML object>"
            ]
          },
          "metadata": {
            "tags": []
          }
        },
        {
          "output_type": "display_data",
          "data": {
            "text/html": [
              "<div style=\"background-color:#758698;\" class=\"colordivbig rounded\"><div class=\"hexcolor\">blue<br>#758698<br>(117.0,134.0,152.0)</div></div>"
            ],
            "text/plain": [
              "<IPython.core.display.HTML object>"
            ]
          },
          "metadata": {
            "tags": []
          }
        },
        {
          "output_type": "display_data",
          "data": {
            "text/html": [
              "<div style=\"background-color:#7A8B9C;\" class=\"colordivbig rounded\"><div class=\"hexcolor\">blue<br>#7A8B9C<br>(122.0,139.0,156.0)</div></div>"
            ],
            "text/plain": [
              "<IPython.core.display.HTML object>"
            ]
          },
          "metadata": {
            "tags": []
          }
        },
        {
          "output_type": "display_data",
          "data": {
            "text/html": [
              "<div style=\"background-color:#748496;\" class=\"colordivbig rounded\"><div class=\"hexcolor\">blue<br>#748496<br>(116.0,132.0,150.0)</div></div>"
            ],
            "text/plain": [
              "<IPython.core.display.HTML object>"
            ]
          },
          "metadata": {
            "tags": []
          }
        },
        {
          "output_type": "display_data",
          "data": {
            "text/html": [
              "<div style=\"background-color:#6D7D8D;\" class=\"colordivbig rounded\"><div class=\"hexcolor\">blue<br>#6D7D8D<br>(109.0,125.0,141.0)</div></div>"
            ],
            "text/plain": [
              "<IPython.core.display.HTML object>"
            ]
          },
          "metadata": {
            "tags": []
          }
        },
        {
          "output_type": "display_data",
          "data": {
            "text/html": [
              "<div style=\"background-color:#708090;\" class=\"colordivbig rounded\"><div class=\"hexcolor\">blue<br>#708090<br>(112.0,128.0,144.0)</div></div>"
            ],
            "text/plain": [
              "<IPython.core.display.HTML object>"
            ]
          },
          "metadata": {
            "tags": []
          }
        },
        {
          "output_type": "display_data",
          "data": {
            "text/html": [
              "<div style=\"background-color:#758697;\" class=\"colordivbig rounded\"><div class=\"hexcolor\">blue<br>#758697<br>(117.0,134.0,151.0)</div></div>"
            ],
            "text/plain": [
              "<IPython.core.display.HTML object>"
            ]
          },
          "metadata": {
            "tags": []
          }
        },
        {
          "output_type": "display_data",
          "data": {
            "text/html": [
              "<div style=\"background-color:#738393;\" class=\"colordivbig rounded\"><div class=\"hexcolor\">blue<br>#738393<br>(115.0,131.0,147.0)</div></div>"
            ],
            "text/plain": [
              "<IPython.core.display.HTML object>"
            ]
          },
          "metadata": {
            "tags": []
          }
        },
        {
          "output_type": "display_data",
          "data": {
            "text/html": [
              "<div style=\"background-color:#708090;\" class=\"colordivbig rounded\"><div class=\"hexcolor\">blue<br>#708090<br>(112.0,128.0,144.0)</div></div>"
            ],
            "text/plain": [
              "<IPython.core.display.HTML object>"
            ]
          },
          "metadata": {
            "tags": []
          }
        },
        {
          "output_type": "display_data",
          "data": {
            "text/html": [
              "<div style=\"background-color:#778899;\" class=\"colordivbig rounded\"><div class=\"hexcolor\">blue<br>#778899<br>(119.0,136.0,153.0)</div></div>"
            ],
            "text/plain": [
              "<IPython.core.display.HTML object>"
            ]
          },
          "metadata": {
            "tags": []
          }
        },
        {
          "output_type": "display_data",
          "data": {
            "text/html": [
              "<div style=\"background-color:#3F476B;\" class=\"colordivbig rounded\"><div class=\"hexcolor\">blue<br>#3F476B<br>(63.0,71.0,107.0)</div></div>"
            ],
            "text/plain": [
              "<IPython.core.display.HTML object>"
            ]
          },
          "metadata": {
            "tags": []
          }
        },
        {
          "output_type": "display_data",
          "data": {
            "text/html": [
              "<div style=\"background-color:#393E5C;\" class=\"colordivbig rounded\"><div class=\"hexcolor\">blue<br>#393E5C<br>(57.0,62.0,92.0)</div></div>"
            ],
            "text/plain": [
              "<IPython.core.display.HTML object>"
            ]
          },
          "metadata": {
            "tags": []
          }
        },
        {
          "output_type": "display_data",
          "data": {
            "text/html": [
              "<div style=\"background-color:#7E8DB7;\" class=\"colordivbig rounded\"><div class=\"hexcolor\">blue<br>#7E8DB7<br>(126.0,141.0,183.0)</div></div>"
            ],
            "text/plain": [
              "<IPython.core.display.HTML object>"
            ]
          },
          "metadata": {
            "tags": []
          }
        },
        {
          "output_type": "display_data",
          "data": {
            "text/html": [
              "<div style=\"background-color:#7D8AB4;\" class=\"colordivbig rounded\"><div class=\"hexcolor\">blue<br>#7D8AB4<br>(125.0,138.0,180.0)</div></div>"
            ],
            "text/plain": [
              "<IPython.core.display.HTML object>"
            ]
          },
          "metadata": {
            "tags": []
          }
        },
        {
          "output_type": "display_data",
          "data": {
            "text/html": [
              "<div style=\"background-color:#BEC3DA;\" class=\"colordivbig rounded\"><div class=\"hexcolor\">blue<br>#BEC3DA<br>(190.0,195.0,218.0)</div></div>"
            ],
            "text/plain": [
              "<IPython.core.display.HTML object>"
            ]
          },
          "metadata": {
            "tags": []
          }
        },
        {
          "output_type": "display_data",
          "data": {
            "text/html": [
              "<div style=\"background-color:#BBC0D3;\" class=\"colordivbig rounded\"><div class=\"hexcolor\">blue<br>#BBC0D3<br>(187.0,192.0,211.0)</div></div>"
            ],
            "text/plain": [
              "<IPython.core.display.HTML object>"
            ]
          },
          "metadata": {
            "tags": []
          }
        },
        {
          "output_type": "display_data",
          "data": {
            "text/html": [
              "<div style=\"background-color:#ACB5CD;\" class=\"colordivbig rounded\"><div class=\"hexcolor\">blue<br>#ACB5CD<br>(172.0,181.0,205.0)</div></div>"
            ],
            "text/plain": [
              "<IPython.core.display.HTML object>"
            ]
          },
          "metadata": {
            "tags": []
          }
        },
        {
          "output_type": "display_data",
          "data": {
            "text/html": [
              "<div style=\"background-color:#757A9E;\" class=\"colordivbig rounded\"><div class=\"hexcolor\">blue<br>#757A9E<br>(117.0,122.0,158.0)</div></div>"
            ],
            "text/plain": [
              "<IPython.core.display.HTML object>"
            ]
          },
          "metadata": {
            "tags": []
          }
        },
        {
          "output_type": "display_data",
          "data": {
            "text/html": [
              "<div style=\"background-color:#0B2D3E;\" class=\"colordivbig rounded\"><div class=\"hexcolor\">blue<br>#0B2D3E<br>(11.0,45.0,62.0)</div></div>"
            ],
            "text/plain": [
              "<IPython.core.display.HTML object>"
            ]
          },
          "metadata": {
            "tags": []
          }
        },
        {
          "output_type": "display_data",
          "data": {
            "text/html": [
              "<div style=\"background-color:#0A2F42;\" class=\"colordivbig rounded\"><div class=\"hexcolor\">blue<br>#0A2F42<br>(10.0,47.0,66.0)</div></div>"
            ],
            "text/plain": [
              "<IPython.core.display.HTML object>"
            ]
          },
          "metadata": {
            "tags": []
          }
        },
        {
          "output_type": "display_data",
          "data": {
            "text/html": [
              "<div style=\"background-color:#133E4E;\" class=\"colordivbig rounded\"><div class=\"hexcolor\">blue<br>#133E4E<br>(19.0,62.0,78.0)</div></div>"
            ],
            "text/plain": [
              "<IPython.core.display.HTML object>"
            ]
          },
          "metadata": {
            "tags": []
          }
        },
        {
          "output_type": "display_data",
          "data": {
            "text/html": [
              "<div style=\"background-color:#082E4E;\" class=\"colordivbig rounded\"><div class=\"hexcolor\">blue<br>#082E4E<br>(8.0,46.0,78.0)</div></div>"
            ],
            "text/plain": [
              "<IPython.core.display.HTML object>"
            ]
          },
          "metadata": {
            "tags": []
          }
        },
        {
          "output_type": "display_data",
          "data": {
            "text/html": [
              "<div style=\"background-color:#183D58;\" class=\"colordivbig rounded\"><div class=\"hexcolor\">blue<br>#183D58<br>(24.0,61.0,88.0)</div></div>"
            ],
            "text/plain": [
              "<IPython.core.display.HTML object>"
            ]
          },
          "metadata": {
            "tags": []
          }
        },
        {
          "output_type": "display_data",
          "data": {
            "text/html": [
              "<div style=\"background-color:#173446;\" class=\"colordivbig rounded\"><div class=\"hexcolor\">blue<br>#173446<br>(23.0,52.0,70.0)</div></div>"
            ],
            "text/plain": [
              "<IPython.core.display.HTML object>"
            ]
          },
          "metadata": {
            "tags": []
          }
        },
        {
          "output_type": "display_data",
          "data": {
            "text/html": [
              "<div style=\"background-color:#1E384A;\" class=\"colordivbig rounded\"><div class=\"hexcolor\">blue<br>#1E384A<br>(30.0,56.0,74.0)</div></div>"
            ],
            "text/plain": [
              "<IPython.core.display.HTML object>"
            ]
          },
          "metadata": {
            "tags": []
          }
        },
        {
          "output_type": "display_data",
          "data": {
            "text/html": [
              "<div style=\"background-color:#17364B;\" class=\"colordivbig rounded\"><div class=\"hexcolor\">blue<br>#17364B<br>(23.0,54.0,75.0)</div></div>"
            ],
            "text/plain": [
              "<IPython.core.display.HTML object>"
            ]
          },
          "metadata": {
            "tags": []
          }
        },
        {
          "output_type": "display_data",
          "data": {
            "text/html": [
              "<div style=\"background-color:#1B4053;\" class=\"colordivbig rounded\"><div class=\"hexcolor\">blue<br>#1B4053<br>(27.0,64.0,83.0)</div></div>"
            ],
            "text/plain": [
              "<IPython.core.display.HTML object>"
            ]
          },
          "metadata": {
            "tags": []
          }
        },
        {
          "output_type": "display_data",
          "data": {
            "text/html": [
              "<div style=\"background-color:#01203B;\" class=\"colordivbig rounded\"><div class=\"hexcolor\">blue<br>#01203B<br>(1.0,32.0,59.0)</div></div>"
            ],
            "text/plain": [
              "<IPython.core.display.HTML object>"
            ]
          },
          "metadata": {
            "tags": []
          }
        },
        {
          "output_type": "display_data",
          "data": {
            "text/html": [
              "<div style=\"background-color:#002039;\" class=\"colordivbig rounded\"><div class=\"hexcolor\">blue<br>#002039<br>(0.0,32.0,57.0)</div></div>"
            ],
            "text/plain": [
              "<IPython.core.display.HTML object>"
            ]
          },
          "metadata": {
            "tags": []
          }
        },
        {
          "output_type": "display_data",
          "data": {
            "text/html": [
              "<div style=\"background-color:#042340;\" class=\"colordivbig rounded\"><div class=\"hexcolor\">blue<br>#042340<br>(4.0,35.0,64.0)</div></div>"
            ],
            "text/plain": [
              "<IPython.core.display.HTML object>"
            ]
          },
          "metadata": {
            "tags": []
          }
        },
        {
          "output_type": "display_data",
          "data": {
            "text/html": [
              "<div style=\"background-color:#06223D;\" class=\"colordivbig rounded\"><div class=\"hexcolor\">blue<br>#06223D<br>(6.0,34.0,61.0)</div></div>"
            ],
            "text/plain": [
              "<IPython.core.display.HTML object>"
            ]
          },
          "metadata": {
            "tags": []
          }
        },
        {
          "output_type": "display_data",
          "data": {
            "text/html": [
              "<div style=\"background-color:#011633;\" class=\"colordivbig rounded\"><div class=\"hexcolor\">blue<br>#011633<br>(1.0,22.0,51.0)</div></div>"
            ],
            "text/plain": [
              "<IPython.core.display.HTML object>"
            ]
          },
          "metadata": {
            "tags": []
          }
        },
        {
          "output_type": "display_data",
          "data": {
            "text/html": [
              "<div style=\"background-color:#253182;\" class=\"colordivbig rounded\"><div class=\"hexcolor\">blue<br>#253182<br>(37.0,49.0,130.0)</div></div>"
            ],
            "text/plain": [
              "<IPython.core.display.HTML object>"
            ]
          },
          "metadata": {
            "tags": []
          }
        },
        {
          "output_type": "display_data",
          "data": {
            "text/html": [
              "<div style=\"background-color:#3045AB;\" class=\"colordivbig rounded\"><div class=\"hexcolor\">blue<br>#3045AB<br>(48.0,69.0,171.0)</div></div>"
            ],
            "text/plain": [
              "<IPython.core.display.HTML object>"
            ]
          },
          "metadata": {
            "tags": []
          }
        },
        {
          "output_type": "stream",
          "text": [
            "-------------------------------------------------------------------------------------------------------------------\n",
            "-------------------------------------------------------------------------------------------------------------------\n",
            "-------------------------------------------------------------------------------------------------------------------\n",
            "-------------------------------------------------------------------------------------------------------------------\n",
            "-------------------------------------------------------------------------------------------------------------------\n"
          ],
          "name": "stdout"
        },
        {
          "output_type": "display_data",
          "data": {
            "text/html": [
              "<div style=\"background-color:#A52A2A;\" class=\"colordivbig rounded\"><div class=\"hexcolor\">brown<br>#A52A2A<br>(165.0,42.0,42.0)</div></div>"
            ],
            "text/plain": [
              "<IPython.core.display.HTML object>"
            ]
          },
          "metadata": {
            "tags": []
          }
        },
        {
          "output_type": "display_data",
          "data": {
            "text/html": [
              "<div style=\"background-color:#BF4444;\" class=\"colordivbig rounded\"><div class=\"hexcolor\">brown<br>#BF4444<br>(191.0,68.0,68.0)</div></div>"
            ],
            "text/plain": [
              "<IPython.core.display.HTML object>"
            ]
          },
          "metadata": {
            "tags": []
          }
        },
        {
          "output_type": "display_data",
          "data": {
            "text/html": [
              "<div style=\"background-color:#86463F;\" class=\"colordivbig rounded\"><div class=\"hexcolor\">brown<br>#86463F<br>(134.0,70.0,63.0)</div></div>"
            ],
            "text/plain": [
              "<IPython.core.display.HTML object>"
            ]
          },
          "metadata": {
            "tags": []
          }
        },
        {
          "output_type": "display_data",
          "data": {
            "text/html": [
              "<div style=\"background-color:#7E5C49;\" class=\"colordivbig rounded\"><div class=\"hexcolor\">brown<br>#7E5C49<br>(126.0,92.0,73.0)</div></div>"
            ],
            "text/plain": [
              "<IPython.core.display.HTML object>"
            ]
          },
          "metadata": {
            "tags": []
          }
        },
        {
          "output_type": "display_data",
          "data": {
            "text/html": [
              "<div style=\"background-color:#A6562B;\" class=\"colordivbig rounded\"><div class=\"hexcolor\">brown<br>#A6562B<br>(166.0,86.0,43.0)</div></div>"
            ],
            "text/plain": [
              "<IPython.core.display.HTML object>"
            ]
          },
          "metadata": {
            "tags": []
          }
        },
        {
          "output_type": "display_data",
          "data": {
            "text/html": [
              "<div style=\"background-color:#B06A45;\" class=\"colordivbig rounded\"><div class=\"hexcolor\">brown<br>#B06A45<br>(176.0,106.0,69.0)</div></div>"
            ],
            "text/plain": [
              "<IPython.core.display.HTML object>"
            ]
          },
          "metadata": {
            "tags": []
          }
        },
        {
          "output_type": "display_data",
          "data": {
            "text/html": [
              "<div style=\"background-color:#895552;\" class=\"colordivbig rounded\"><div class=\"hexcolor\">brown<br>#895552<br>(137.0,85.0,82.0)</div></div>"
            ],
            "text/plain": [
              "<IPython.core.display.HTML object>"
            ]
          },
          "metadata": {
            "tags": []
          }
        },
        {
          "output_type": "display_data",
          "data": {
            "text/html": [
              "<div style=\"background-color:#815250;\" class=\"colordivbig rounded\"><div class=\"hexcolor\">brown<br>#815250<br>(129.0,82.0,80.0)</div></div>"
            ],
            "text/plain": [
              "<IPython.core.display.HTML object>"
            ]
          },
          "metadata": {
            "tags": []
          }
        },
        {
          "output_type": "display_data",
          "data": {
            "text/html": [
              "<div style=\"background-color:#774748;\" class=\"colordivbig rounded\"><div class=\"hexcolor\">brown<br>#774748<br>(119.0,71.0,72.0)</div></div>"
            ],
            "text/plain": [
              "<IPython.core.display.HTML object>"
            ]
          },
          "metadata": {
            "tags": []
          }
        },
        {
          "output_type": "display_data",
          "data": {
            "text/html": [
              "<div style=\"background-color:#6B4242;\" class=\"colordivbig rounded\"><div class=\"hexcolor\">brown<br>#6B4242<br>(107.0,66.0,66.0)</div></div>"
            ],
            "text/plain": [
              "<IPython.core.display.HTML object>"
            ]
          },
          "metadata": {
            "tags": []
          }
        },
        {
          "output_type": "display_data",
          "data": {
            "text/html": [
              "<div style=\"background-color:#7A4E4D;\" class=\"colordivbig rounded\"><div class=\"hexcolor\">brown<br>#7A4E4D<br>(122.0,78.0,77.0)</div></div>"
            ],
            "text/plain": [
              "<IPython.core.display.HTML object>"
            ]
          },
          "metadata": {
            "tags": []
          }
        },
        {
          "output_type": "display_data",
          "data": {
            "text/html": [
              "<div style=\"background-color:#985553;\" class=\"colordivbig rounded\"><div class=\"hexcolor\">brown<br>#985553<br>(152.0,85.0,83.0)</div></div>"
            ],
            "text/plain": [
              "<IPython.core.display.HTML object>"
            ]
          },
          "metadata": {
            "tags": []
          }
        },
        {
          "output_type": "display_data",
          "data": {
            "text/html": [
              "<div style=\"background-color:#553620;\" class=\"colordivbig rounded\"><div class=\"hexcolor\">brown<br>#553620<br>(85.0,54.0,32.0)</div></div>"
            ],
            "text/plain": [
              "<IPython.core.display.HTML object>"
            ]
          },
          "metadata": {
            "tags": []
          }
        },
        {
          "output_type": "display_data",
          "data": {
            "text/html": [
              "<div style=\"background-color:#4D301A;\" class=\"colordivbig rounded\"><div class=\"hexcolor\">brown<br>#4D301A<br>(77.0,48.0,26.0)</div></div>"
            ],
            "text/plain": [
              "<IPython.core.display.HTML object>"
            ]
          },
          "metadata": {
            "tags": []
          }
        },
        {
          "output_type": "display_data",
          "data": {
            "text/html": [
              "<div style=\"background-color:#86705A;\" class=\"colordivbig rounded\"><div class=\"hexcolor\">brown<br>#86705A<br>(134.0,112.0,90.0)</div></div>"
            ],
            "text/plain": [
              "<IPython.core.display.HTML object>"
            ]
          },
          "metadata": {
            "tags": []
          }
        },
        {
          "output_type": "display_data",
          "data": {
            "text/html": [
              "<div style=\"background-color:#8B4513;\" class=\"colordivbig rounded\"><div class=\"hexcolor\">brown<br>#8B4513<br>(139.0,69.0,19.0)</div></div>"
            ],
            "text/plain": [
              "<IPython.core.display.HTML object>"
            ]
          },
          "metadata": {
            "tags": []
          }
        },
        {
          "output_type": "display_data",
          "data": {
            "text/html": [
              "<div style=\"background-color:#A0522D;\" class=\"colordivbig rounded\"><div class=\"hexcolor\">brown<br>#A0522D<br>(160.0,82.0,45.0)</div></div>"
            ],
            "text/plain": [
              "<IPython.core.display.HTML object>"
            ]
          },
          "metadata": {
            "tags": []
          }
        },
        {
          "output_type": "display_data",
          "data": {
            "text/html": [
              "<div style=\"background-color:#D2691E;\" class=\"colordivbig rounded\"><div class=\"hexcolor\">brown<br>#D2691E<br>(210.0,105.0,30.0)</div></div>"
            ],
            "text/plain": [
              "<IPython.core.display.HTML object>"
            ]
          },
          "metadata": {
            "tags": []
          }
        },
        {
          "output_type": "display_data",
          "data": {
            "text/html": [
              "<div style=\"background-color:#B8860B;\" class=\"colordivbig rounded\"><div class=\"hexcolor\">brown<br>#B8860B<br>(184.0,134.0,11.0)</div></div>"
            ],
            "text/plain": [
              "<IPython.core.display.HTML object>"
            ]
          },
          "metadata": {
            "tags": []
          }
        },
        {
          "output_type": "display_data",
          "data": {
            "text/html": [
              "<div style=\"background-color:#CD853F;\" class=\"colordivbig rounded\"><div class=\"hexcolor\">brown<br>#CD853F<br>(205.0,133.0,63.0)</div></div>"
            ],
            "text/plain": [
              "<IPython.core.display.HTML object>"
            ]
          },
          "metadata": {
            "tags": []
          }
        },
        {
          "output_type": "display_data",
          "data": {
            "text/html": [
              "<div style=\"background-color:#722D1D;\" class=\"colordivbig rounded\"><div class=\"hexcolor\">brown<br>#722D1D<br>(114.0,45.0,29.0)</div></div>"
            ],
            "text/plain": [
              "<IPython.core.display.HTML object>"
            ]
          },
          "metadata": {
            "tags": []
          }
        },
        {
          "output_type": "display_data",
          "data": {
            "text/html": [
              "<div style=\"background-color:#622B1D;\" class=\"colordivbig rounded\"><div class=\"hexcolor\">brown<br>#622B1D<br>(98.0,43.0,29.0)</div></div>"
            ],
            "text/plain": [
              "<IPython.core.display.HTML object>"
            ]
          },
          "metadata": {
            "tags": []
          }
        },
        {
          "output_type": "display_data",
          "data": {
            "text/html": [
              "<div style=\"background-color:#78311D;\" class=\"colordivbig rounded\"><div class=\"hexcolor\">brown<br>#78311D<br>(120.0,49.0,29.0)</div></div>"
            ],
            "text/plain": [
              "<IPython.core.display.HTML object>"
            ]
          },
          "metadata": {
            "tags": []
          }
        },
        {
          "output_type": "display_data",
          "data": {
            "text/html": [
              "<div style=\"background-color:#843922;\" class=\"colordivbig rounded\"><div class=\"hexcolor\">brown<br>#843922<br>(132.0,57.0,34.0)</div></div>"
            ],
            "text/plain": [
              "<IPython.core.display.HTML object>"
            ]
          },
          "metadata": {
            "tags": []
          }
        },
        {
          "output_type": "display_data",
          "data": {
            "text/html": [
              "<div style=\"background-color:#392F32;\" class=\"colordivbig rounded\"><div class=\"hexcolor\">brown<br>#392F32<br>(57.0,47.0,50.0)</div></div>"
            ],
            "text/plain": [
              "<IPython.core.display.HTML object>"
            ]
          },
          "metadata": {
            "tags": []
          }
        },
        {
          "output_type": "display_data",
          "data": {
            "text/html": [
              "<div style=\"background-color:#32262B;\" class=\"colordivbig rounded\"><div class=\"hexcolor\">brown<br>#32262B<br>(50.0,38.0,43.0)</div></div>"
            ],
            "text/plain": [
              "<IPython.core.display.HTML object>"
            ]
          },
          "metadata": {
            "tags": []
          }
        },
        {
          "output_type": "display_data",
          "data": {
            "text/html": [
              "<div style=\"background-color:#392F31;\" class=\"colordivbig rounded\"><div class=\"hexcolor\">brown<br>#392F31<br>(57.0,47.0,49.0)</div></div>"
            ],
            "text/plain": [
              "<IPython.core.display.HTML object>"
            ]
          },
          "metadata": {
            "tags": []
          }
        },
        {
          "output_type": "display_data",
          "data": {
            "text/html": [
              "<div style=\"background-color:#342B30;\" class=\"colordivbig rounded\"><div class=\"hexcolor\">brown<br>#342B30<br>(52.0,43.0,48.0)</div></div>"
            ],
            "text/plain": [
              "<IPython.core.display.HTML object>"
            ]
          },
          "metadata": {
            "tags": []
          }
        },
        {
          "output_type": "display_data",
          "data": {
            "text/html": [
              "<div style=\"background-color:#665956;\" class=\"colordivbig rounded\"><div class=\"hexcolor\">brown<br>#665956<br>(102.0,89.0,86.0)</div></div>"
            ],
            "text/plain": [
              "<IPython.core.display.HTML object>"
            ]
          },
          "metadata": {
            "tags": []
          }
        },
        {
          "output_type": "stream",
          "text": [
            "-------------------------------------------------------------------------------------------------------------------\n",
            "-------------------------------------------------------------------------------------------------------------------\n",
            "-------------------------------------------------------------------------------------------------------------------\n",
            "-------------------------------------------------------------------------------------------------------------------\n",
            "-------------------------------------------------------------------------------------------------------------------\n"
          ],
          "name": "stdout"
        },
        {
          "output_type": "display_data",
          "data": {
            "text/html": [
              "<div style=\"background-color:#808080;\" class=\"colordivbig rounded\"><div class=\"hexcolor\">gray<br>#808080<br>(128.0,128.0,128.0)</div></div>"
            ],
            "text/plain": [
              "<IPython.core.display.HTML object>"
            ]
          },
          "metadata": {
            "tags": []
          }
        },
        {
          "output_type": "display_data",
          "data": {
            "text/html": [
              "<div style=\"background-color:#323232;\" class=\"colordivbig rounded\"><div class=\"hexcolor\">gray<br>#323232<br>(50.0,50.0,50.0)</div></div>"
            ],
            "text/plain": [
              "<IPython.core.display.HTML object>"
            ]
          },
          "metadata": {
            "tags": []
          }
        },
        {
          "output_type": "display_data",
          "data": {
            "text/html": [
              "<div style=\"background-color:#4D4D4D;\" class=\"colordivbig rounded\"><div class=\"hexcolor\">gray<br>#4D4D4D<br>(77.0,77.0,77.0)</div></div>"
            ],
            "text/plain": [
              "<IPython.core.display.HTML object>"
            ]
          },
          "metadata": {
            "tags": []
          }
        },
        {
          "output_type": "display_data",
          "data": {
            "text/html": [
              "<div style=\"background-color:#3B393E;\" class=\"colordivbig rounded\"><div class=\"hexcolor\">gray<br>#3B393E<br>(59.0,57.0,62.0)</div></div>"
            ],
            "text/plain": [
              "<IPython.core.display.HTML object>"
            ]
          },
          "metadata": {
            "tags": []
          }
        },
        {
          "output_type": "display_data",
          "data": {
            "text/html": [
              "<div style=\"background-color:#363A3D;\" class=\"colordivbig rounded\"><div class=\"hexcolor\">gray<br>#363A3D<br>(54.0,58.0,61.0)</div></div>"
            ],
            "text/plain": [
              "<IPython.core.display.HTML object>"
            ]
          },
          "metadata": {
            "tags": []
          }
        },
        {
          "output_type": "display_data",
          "data": {
            "text/html": [
              "<div style=\"background-color:#77767E;\" class=\"colordivbig rounded\"><div class=\"hexcolor\">gray<br>#77767E<br>(119.0,118.0,126.0)</div></div>"
            ],
            "text/plain": [
              "<IPython.core.display.HTML object>"
            ]
          },
          "metadata": {
            "tags": []
          }
        },
        {
          "output_type": "display_data",
          "data": {
            "text/html": [
              "<div style=\"background-color:#7D8281;\" class=\"colordivbig rounded\"><div class=\"hexcolor\">gray<br>#7D8281<br>(125.0,130.0,129.0)</div></div>"
            ],
            "text/plain": [
              "<IPython.core.display.HTML object>"
            ]
          },
          "metadata": {
            "tags": []
          }
        },
        {
          "output_type": "display_data",
          "data": {
            "text/html": [
              "<div style=\"background-color:#827D82;\" class=\"colordivbig rounded\"><div class=\"hexcolor\">gray<br>#827D82<br>(130.0,125.0,130.0)</div></div>"
            ],
            "text/plain": [
              "<IPython.core.display.HTML object>"
            ]
          },
          "metadata": {
            "tags": []
          }
        },
        {
          "output_type": "display_data",
          "data": {
            "text/html": [
              "<div style=\"background-color:#969696;\" class=\"colordivbig rounded\"><div class=\"hexcolor\">gray<br>#969696<br>(150.0,150.0,150.0)</div></div>"
            ],
            "text/plain": [
              "<IPython.core.display.HTML object>"
            ]
          },
          "metadata": {
            "tags": []
          }
        },
        {
          "output_type": "display_data",
          "data": {
            "text/html": [
              "<div style=\"background-color:#696969;\" class=\"colordivbig rounded\"><div class=\"hexcolor\">gray<br>#696969<br>(105.0,105.0,105.0)</div></div>"
            ],
            "text/plain": [
              "<IPython.core.display.HTML object>"
            ]
          },
          "metadata": {
            "tags": []
          }
        },
        {
          "output_type": "display_data",
          "data": {
            "text/html": [
              "<div style=\"background-color:#A9A9A9;\" class=\"colordivbig rounded\"><div class=\"hexcolor\">gray<br>#A9A9A9<br>(169.0,169.0,169.0)</div></div>"
            ],
            "text/plain": [
              "<IPython.core.display.HTML object>"
            ]
          },
          "metadata": {
            "tags": []
          }
        },
        {
          "output_type": "display_data",
          "data": {
            "text/html": [
              "<div style=\"background-color:#57585C;\" class=\"colordivbig rounded\"><div class=\"hexcolor\">gray<br>#57585C<br>(87.0,88.0,92.0)</div></div>"
            ],
            "text/plain": [
              "<IPython.core.display.HTML object>"
            ]
          },
          "metadata": {
            "tags": []
          }
        },
        {
          "output_type": "display_data",
          "data": {
            "text/html": [
              "<div style=\"background-color:#616167;\" class=\"colordivbig rounded\"><div class=\"hexcolor\">gray<br>#616167<br>(97.0,97.0,103.0)</div></div>"
            ],
            "text/plain": [
              "<IPython.core.display.HTML object>"
            ]
          },
          "metadata": {
            "tags": []
          }
        },
        {
          "output_type": "display_data",
          "data": {
            "text/html": [
              "<div style=\"background-color:#47484D;\" class=\"colordivbig rounded\"><div class=\"hexcolor\">gray<br>#47484D<br>(71.0,72.0,77.0)</div></div>"
            ],
            "text/plain": [
              "<IPython.core.display.HTML object>"
            ]
          },
          "metadata": {
            "tags": []
          }
        },
        {
          "output_type": "display_data",
          "data": {
            "text/html": [
              "<div style=\"background-color:#433F4E;\" class=\"colordivbig rounded\"><div class=\"hexcolor\">gray<br>#433F4E<br>(67.0,63.0,78.0)</div></div>"
            ],
            "text/plain": [
              "<IPython.core.display.HTML object>"
            ]
          },
          "metadata": {
            "tags": []
          }
        },
        {
          "output_type": "display_data",
          "data": {
            "text/html": [
              "<div style=\"background-color:#88898D;\" class=\"colordivbig rounded\"><div class=\"hexcolor\">gray<br>#88898D<br>(136.0,137.0,141.0)</div></div>"
            ],
            "text/plain": [
              "<IPython.core.display.HTML object>"
            ]
          },
          "metadata": {
            "tags": []
          }
        },
        {
          "output_type": "display_data",
          "data": {
            "text/html": [
              "<div style=\"background-color:#535458;\" class=\"colordivbig rounded\"><div class=\"hexcolor\">gray<br>#535458<br>(83.0,84.0,88.0)</div></div>"
            ],
            "text/plain": [
              "<IPython.core.display.HTML object>"
            ]
          },
          "metadata": {
            "tags": []
          }
        },
        {
          "output_type": "display_data",
          "data": {
            "text/html": [
              "<div style=\"background-color:#88898D;\" class=\"colordivbig rounded\"><div class=\"hexcolor\">gray<br>#88898D<br>(136.0,137.0,141.0)</div></div>"
            ],
            "text/plain": [
              "<IPython.core.display.HTML object>"
            ]
          },
          "metadata": {
            "tags": []
          }
        },
        {
          "output_type": "display_data",
          "data": {
            "text/html": [
              "<div style=\"background-color:#696A6E;\" class=\"colordivbig rounded\"><div class=\"hexcolor\">gray<br>#696A6E<br>(105.0,106.0,110.0)</div></div>"
            ],
            "text/plain": [
              "<IPython.core.display.HTML object>"
            ]
          },
          "metadata": {
            "tags": []
          }
        },
        {
          "output_type": "display_data",
          "data": {
            "text/html": [
              "<div style=\"background-color:#535458;\" class=\"colordivbig rounded\"><div class=\"hexcolor\">gray<br>#535458<br>(83.0,84.0,88.0)</div></div>"
            ],
            "text/plain": [
              "<IPython.core.display.HTML object>"
            ]
          },
          "metadata": {
            "tags": []
          }
        },
        {
          "output_type": "display_data",
          "data": {
            "text/html": [
              "<div style=\"background-color:#494A4E;\" class=\"colordivbig rounded\"><div class=\"hexcolor\">gray<br>#494A4E<br>(73.0,74.0,78.0)</div></div>"
            ],
            "text/plain": [
              "<IPython.core.display.HTML object>"
            ]
          },
          "metadata": {
            "tags": []
          }
        },
        {
          "output_type": "display_data",
          "data": {
            "text/html": [
              "<div style=\"background-color:#444549;\" class=\"colordivbig rounded\"><div class=\"hexcolor\">gray<br>#444549<br>(68.0,69.0,73.0)</div></div>"
            ],
            "text/plain": [
              "<IPython.core.display.HTML object>"
            ]
          },
          "metadata": {
            "tags": []
          }
        },
        {
          "output_type": "display_data",
          "data": {
            "text/html": [
              "<div style=\"background-color:#3F4044;\" class=\"colordivbig rounded\"><div class=\"hexcolor\">gray<br>#3F4044<br>(63.0,64.0,68.0)</div></div>"
            ],
            "text/plain": [
              "<IPython.core.display.HTML object>"
            ]
          },
          "metadata": {
            "tags": []
          }
        },
        {
          "output_type": "display_data",
          "data": {
            "text/html": [
              "<div style=\"background-color:#3D3E42;\" class=\"colordivbig rounded\"><div class=\"hexcolor\">gray<br>#3D3E42<br>(61.0,62.0,66.0)</div></div>"
            ],
            "text/plain": [
              "<IPython.core.display.HTML object>"
            ]
          },
          "metadata": {
            "tags": []
          }
        },
        {
          "output_type": "display_data",
          "data": {
            "text/html": [
              "<div style=\"background-color:#544F4D;\" class=\"colordivbig rounded\"><div class=\"hexcolor\">gray<br>#544F4D<br>(84.0,79.0,77.0)</div></div>"
            ],
            "text/plain": [
              "<IPython.core.display.HTML object>"
            ]
          },
          "metadata": {
            "tags": []
          }
        },
        {
          "output_type": "display_data",
          "data": {
            "text/html": [
              "<div style=\"background-color:#564C55;\" class=\"colordivbig rounded\"><div class=\"hexcolor\">gray<br>#564C55<br>(86.0,76.0,85.0)</div></div>"
            ],
            "text/plain": [
              "<IPython.core.display.HTML object>"
            ]
          },
          "metadata": {
            "tags": []
          }
        },
        {
          "output_type": "display_data",
          "data": {
            "text/html": [
              "<div style=\"background-color:#6A6B6F;\" class=\"colordivbig rounded\"><div class=\"hexcolor\">gray<br>#6A6B6F<br>(106.0,107.0,111.0)</div></div>"
            ],
            "text/plain": [
              "<IPython.core.display.HTML object>"
            ]
          },
          "metadata": {
            "tags": []
          }
        },
        {
          "output_type": "display_data",
          "data": {
            "text/html": [
              "<div style=\"background-color:#47484D;\" class=\"colordivbig rounded\"><div class=\"hexcolor\">gray<br>#47484D<br>(71.0,72.0,77.0)</div></div>"
            ],
            "text/plain": [
              "<IPython.core.display.HTML object>"
            ]
          },
          "metadata": {
            "tags": []
          }
        },
        {
          "output_type": "display_data",
          "data": {
            "text/html": [
              "<div style=\"background-color:#55565B;\" class=\"colordivbig rounded\"><div class=\"hexcolor\">gray<br>#55565B<br>(85.0,86.0,91.0)</div></div>"
            ],
            "text/plain": [
              "<IPython.core.display.HTML object>"
            ]
          },
          "metadata": {
            "tags": []
          }
        },
        {
          "output_type": "display_data",
          "data": {
            "text/html": [
              "<div style=\"background-color:#818287;\" class=\"colordivbig rounded\"><div class=\"hexcolor\">gray<br>#818287<br>(129.0,130.0,135.0)</div></div>"
            ],
            "text/plain": [
              "<IPython.core.display.HTML object>"
            ]
          },
          "metadata": {
            "tags": []
          }
        },
        {
          "output_type": "display_data",
          "data": {
            "text/html": [
              "<div style=\"background-color:#727179;\" class=\"colordivbig rounded\"><div class=\"hexcolor\">gray<br>#727179<br>(114.0,113.0,121.0)</div></div>"
            ],
            "text/plain": [
              "<IPython.core.display.HTML object>"
            ]
          },
          "metadata": {
            "tags": []
          }
        },
        {
          "output_type": "display_data",
          "data": {
            "text/html": [
              "<div style=\"background-color:#797D83;\" class=\"colordivbig rounded\"><div class=\"hexcolor\">gray<br>#797D83<br>(121.0,125.0,131.0)</div></div>"
            ],
            "text/plain": [
              "<IPython.core.display.HTML object>"
            ]
          },
          "metadata": {
            "tags": []
          }
        },
        {
          "output_type": "display_data",
          "data": {
            "text/html": [
              "<div style=\"background-color:#888C8D;\" class=\"colordivbig rounded\"><div class=\"hexcolor\">gray<br>#888C8D<br>(136.0,140.0,141.0)</div></div>"
            ],
            "text/plain": [
              "<IPython.core.display.HTML object>"
            ]
          },
          "metadata": {
            "tags": []
          }
        },
        {
          "output_type": "display_data",
          "data": {
            "text/html": [
              "<div style=\"background-color:#88929C;\" class=\"colordivbig rounded\"><div class=\"hexcolor\">gray<br>#88929C<br>(136.0,146.0,156.0)</div></div>"
            ],
            "text/plain": [
              "<IPython.core.display.HTML object>"
            ]
          },
          "metadata": {
            "tags": []
          }
        },
        {
          "output_type": "display_data",
          "data": {
            "text/html": [
              "<div style=\"background-color:#878F98;\" class=\"colordivbig rounded\"><div class=\"hexcolor\">gray<br>#878F98<br>(135.0,143.0,152.0)</div></div>"
            ],
            "text/plain": [
              "<IPython.core.display.HTML object>"
            ]
          },
          "metadata": {
            "tags": []
          }
        },
        {
          "output_type": "display_data",
          "data": {
            "text/html": [
              "<div style=\"background-color:#9DA1AD;\" class=\"colordivbig rounded\"><div class=\"hexcolor\">gray<br>#9DA1AD<br>(157.0,161.0,173.0)</div></div>"
            ],
            "text/plain": [
              "<IPython.core.display.HTML object>"
            ]
          },
          "metadata": {
            "tags": []
          }
        },
        {
          "output_type": "display_data",
          "data": {
            "text/html": [
              "<div style=\"background-color:#9EA2AC;\" class=\"colordivbig rounded\"><div class=\"hexcolor\">gray<br>#9EA2AC<br>(158.0,162.0,172.0)</div></div>"
            ],
            "text/plain": [
              "<IPython.core.display.HTML object>"
            ]
          },
          "metadata": {
            "tags": []
          }
        },
        {
          "output_type": "display_data",
          "data": {
            "text/html": [
              "<div style=\"background-color:#8F95A0;\" class=\"colordivbig rounded\"><div class=\"hexcolor\">gray<br>#8F95A0<br>(143.0,149.0,160.0)</div></div>"
            ],
            "text/plain": [
              "<IPython.core.display.HTML object>"
            ]
          },
          "metadata": {
            "tags": []
          }
        },
        {
          "output_type": "stream",
          "text": [
            "-------------------------------------------------------------------------------------------------------------------\n",
            "-------------------------------------------------------------------------------------------------------------------\n",
            "-------------------------------------------------------------------------------------------------------------------\n",
            "-------------------------------------------------------------------------------------------------------------------\n",
            "-------------------------------------------------------------------------------------------------------------------\n"
          ],
          "name": "stdout"
        },
        {
          "output_type": "display_data",
          "data": {
            "text/html": [
              "<div style=\"background-color:#008000;\" class=\"colordivbig rounded\"><div class=\"hexcolor\">green<br>#008000<br>(0.0,128.0,0.0)</div></div>"
            ],
            "text/plain": [
              "<IPython.core.display.HTML object>"
            ]
          },
          "metadata": {
            "tags": []
          }
        },
        {
          "output_type": "display_data",
          "data": {
            "text/html": [
              "<div style=\"background-color:#1C9A1A;\" class=\"colordivbig rounded\"><div class=\"hexcolor\">green<br>#1C9A1A<br>(28.0,154.0,26.0)</div></div>"
            ],
            "text/plain": [
              "<IPython.core.display.HTML object>"
            ]
          },
          "metadata": {
            "tags": []
          }
        },
        {
          "output_type": "display_data",
          "data": {
            "text/html": [
              "<div style=\"background-color:#0D3839;\" class=\"colordivbig rounded\"><div class=\"hexcolor\">green<br>#0D3839<br>(13.0,56.0,57.0)</div></div>"
            ],
            "text/plain": [
              "<IPython.core.display.HTML object>"
            ]
          },
          "metadata": {
            "tags": []
          }
        },
        {
          "output_type": "display_data",
          "data": {
            "text/html": [
              "<div style=\"background-color:#2D6700;\" class=\"colordivbig rounded\"><div class=\"hexcolor\">green<br>#2D6700<br>(45.0,103.0,0.0)</div></div>"
            ],
            "text/plain": [
              "<IPython.core.display.HTML object>"
            ]
          },
          "metadata": {
            "tags": []
          }
        },
        {
          "output_type": "display_data",
          "data": {
            "text/html": [
              "<div style=\"background-color:#66CD4C;\" class=\"colordivbig rounded\"><div class=\"hexcolor\">green<br>#66CD4C<br>(102.0,205.0,76.0)</div></div>"
            ],
            "text/plain": [
              "<IPython.core.display.HTML object>"
            ]
          },
          "metadata": {
            "tags": []
          }
        },
        {
          "output_type": "display_data",
          "data": {
            "text/html": [
              "<div style=\"background-color:#50BB35;\" class=\"colordivbig rounded\"><div class=\"hexcolor\">green<br>#50BB35<br>(80.0,187.0,53.0)</div></div>"
            ],
            "text/plain": [
              "<IPython.core.display.HTML object>"
            ]
          },
          "metadata": {
            "tags": []
          }
        },
        {
          "output_type": "display_data",
          "data": {
            "text/html": [
              "<div style=\"background-color:#4C4E39;\" class=\"colordivbig rounded\"><div class=\"hexcolor\">green<br>#4C4E39<br>(76.0,78.0,57.0)</div></div>"
            ],
            "text/plain": [
              "<IPython.core.display.HTML object>"
            ]
          },
          "metadata": {
            "tags": []
          }
        },
        {
          "output_type": "display_data",
          "data": {
            "text/html": [
              "<div style=\"background-color:#BDB76B;\" class=\"colordivbig rounded\"><div class=\"hexcolor\">green<br>#BDB76B<br>(189.0,183.0,107.0)</div></div>"
            ],
            "text/plain": [
              "<IPython.core.display.HTML object>"
            ]
          },
          "metadata": {
            "tags": []
          }
        },
        {
          "output_type": "display_data",
          "data": {
            "text/html": [
              "<div style=\"background-color:#006400;\" class=\"colordivbig rounded\"><div class=\"hexcolor\">green<br>#006400<br>(0.0,100.0,0.0)</div></div>"
            ],
            "text/plain": [
              "<IPython.core.display.HTML object>"
            ]
          },
          "metadata": {
            "tags": []
          }
        },
        {
          "output_type": "display_data",
          "data": {
            "text/html": [
              "<div style=\"background-color:#556B2F;\" class=\"colordivbig rounded\"><div class=\"hexcolor\">green<br>#556B2F<br>(85.0,107.0,47.0)</div></div>"
            ],
            "text/plain": [
              "<IPython.core.display.HTML object>"
            ]
          },
          "metadata": {
            "tags": []
          }
        },
        {
          "output_type": "display_data",
          "data": {
            "text/html": [
              "<div style=\"background-color:#228B22;\" class=\"colordivbig rounded\"><div class=\"hexcolor\">green<br>#228B22<br>(34.0,139.0,34.0)</div></div>"
            ],
            "text/plain": [
              "<IPython.core.display.HTML object>"
            ]
          },
          "metadata": {
            "tags": []
          }
        },
        {
          "output_type": "display_data",
          "data": {
            "text/html": [
              "<div style=\"background-color:#2E8B57;\" class=\"colordivbig rounded\"><div class=\"hexcolor\">green<br>#2E8B57<br>(46.0,139.0,87.0)</div></div>"
            ],
            "text/plain": [
              "<IPython.core.display.HTML object>"
            ]
          },
          "metadata": {
            "tags": []
          }
        },
        {
          "output_type": "display_data",
          "data": {
            "text/html": [
              "<div style=\"background-color:#808000;\" class=\"colordivbig rounded\"><div class=\"hexcolor\">green<br>#808000<br>(128.0,128.0,0.0)</div></div>"
            ],
            "text/plain": [
              "<IPython.core.display.HTML object>"
            ]
          },
          "metadata": {
            "tags": []
          }
        },
        {
          "output_type": "display_data",
          "data": {
            "text/html": [
              "<div style=\"background-color:#6B8E23;\" class=\"colordivbig rounded\"><div class=\"hexcolor\">green<br>#6B8E23<br>(107.0,142.0,35.0)</div></div>"
            ],
            "text/plain": [
              "<IPython.core.display.HTML object>"
            ]
          },
          "metadata": {
            "tags": []
          }
        },
        {
          "output_type": "display_data",
          "data": {
            "text/html": [
              "<div style=\"background-color:#3CB371;\" class=\"colordivbig rounded\"><div class=\"hexcolor\">green<br>#3CB371<br>(60.0,179.0,113.0)</div></div>"
            ],
            "text/plain": [
              "<IPython.core.display.HTML object>"
            ]
          },
          "metadata": {
            "tags": []
          }
        },
        {
          "output_type": "display_data",
          "data": {
            "text/html": [
              "<div style=\"background-color:#32CD32;\" class=\"colordivbig rounded\"><div class=\"hexcolor\">green<br>#32CD32<br>(50.0,205.0,50.0)</div></div>"
            ],
            "text/plain": [
              "<IPython.core.display.HTML object>"
            ]
          },
          "metadata": {
            "tags": []
          }
        },
        {
          "output_type": "display_data",
          "data": {
            "text/html": [
              "<div style=\"background-color:#00FF00;\" class=\"colordivbig rounded\"><div class=\"hexcolor\">green<br>#00FF00<br>(0.0,255.0,0.0)</div></div>"
            ],
            "text/plain": [
              "<IPython.core.display.HTML object>"
            ]
          },
          "metadata": {
            "tags": []
          }
        },
        {
          "output_type": "display_data",
          "data": {
            "text/html": [
              "<div style=\"background-color:#00FF7F;\" class=\"colordivbig rounded\"><div class=\"hexcolor\">green<br>#00FF7F<br>(0.0,255.0,127.0)</div></div>"
            ],
            "text/plain": [
              "<IPython.core.display.HTML object>"
            ]
          },
          "metadata": {
            "tags": []
          }
        },
        {
          "output_type": "display_data",
          "data": {
            "text/html": [
              "<div style=\"background-color:#00FA9A;\" class=\"colordivbig rounded\"><div class=\"hexcolor\">green<br>#00FA9A<br>(0.0,250.0,154.0)</div></div>"
            ],
            "text/plain": [
              "<IPython.core.display.HTML object>"
            ]
          },
          "metadata": {
            "tags": []
          }
        },
        {
          "output_type": "display_data",
          "data": {
            "text/html": [
              "<div style=\"background-color:#8FBC8F;\" class=\"colordivbig rounded\"><div class=\"hexcolor\">green<br>#8FBC8F<br>(143.0,188.0,143.0)</div></div>"
            ],
            "text/plain": [
              "<IPython.core.display.HTML object>"
            ]
          },
          "metadata": {
            "tags": []
          }
        },
        {
          "output_type": "display_data",
          "data": {
            "text/html": [
              "<div style=\"background-color:#66CDAA;\" class=\"colordivbig rounded\"><div class=\"hexcolor\">green<br>#66CDAA<br>(102.0,205.0,170.0)</div></div>"
            ],
            "text/plain": [
              "<IPython.core.display.HTML object>"
            ]
          },
          "metadata": {
            "tags": []
          }
        },
        {
          "output_type": "display_data",
          "data": {
            "text/html": [
              "<div style=\"background-color:#9ACD32;\" class=\"colordivbig rounded\"><div class=\"hexcolor\">green<br>#9ACD32<br>(154.0,205.0,50.0)</div></div>"
            ],
            "text/plain": [
              "<IPython.core.display.HTML object>"
            ]
          },
          "metadata": {
            "tags": []
          }
        },
        {
          "output_type": "display_data",
          "data": {
            "text/html": [
              "<div style=\"background-color:#7CFC00;\" class=\"colordivbig rounded\"><div class=\"hexcolor\">green<br>#7CFC00<br>(124.0,252.0,0.0)</div></div>"
            ],
            "text/plain": [
              "<IPython.core.display.HTML object>"
            ]
          },
          "metadata": {
            "tags": []
          }
        },
        {
          "output_type": "display_data",
          "data": {
            "text/html": [
              "<div style=\"background-color:#7FFF00;\" class=\"colordivbig rounded\"><div class=\"hexcolor\">green<br>#7FFF00<br>(127.0,255.0,0.0)</div></div>"
            ],
            "text/plain": [
              "<IPython.core.display.HTML object>"
            ]
          },
          "metadata": {
            "tags": []
          }
        },
        {
          "output_type": "display_data",
          "data": {
            "text/html": [
              "<div style=\"background-color:#90EE90;\" class=\"colordivbig rounded\"><div class=\"hexcolor\">green<br>#90EE90<br>(144.0,238.0,144.0)</div></div>"
            ],
            "text/plain": [
              "<IPython.core.display.HTML object>"
            ]
          },
          "metadata": {
            "tags": []
          }
        },
        {
          "output_type": "display_data",
          "data": {
            "text/html": [
              "<div style=\"background-color:#ADFF2F;\" class=\"colordivbig rounded\"><div class=\"hexcolor\">green<br>#ADFF2F<br>(173.0,255.0,47.0)</div></div>"
            ],
            "text/plain": [
              "<IPython.core.display.HTML object>"
            ]
          },
          "metadata": {
            "tags": []
          }
        },
        {
          "output_type": "display_data",
          "data": {
            "text/html": [
              "<div style=\"background-color:#98FB98;\" class=\"colordivbig rounded\"><div class=\"hexcolor\">green<br>#98FB98<br>(152.0,251.0,152.0)</div></div>"
            ],
            "text/plain": [
              "<IPython.core.display.HTML object>"
            ]
          },
          "metadata": {
            "tags": []
          }
        },
        {
          "output_type": "display_data",
          "data": {
            "text/html": [
              "<div style=\"background-color:#F0FFF0;\" class=\"colordivbig rounded\"><div class=\"hexcolor\">green<br>#F0FFF0<br>(240.0,255.0,240.0)</div></div>"
            ],
            "text/plain": [
              "<IPython.core.display.HTML object>"
            ]
          },
          "metadata": {
            "tags": []
          }
        },
        {
          "output_type": "display_data",
          "data": {
            "text/html": [
              "<div style=\"background-color:#EBF4C2;\" class=\"colordivbig rounded\"><div class=\"hexcolor\">green<br>#EBF4C2<br>(235.0,244.0,194.0)</div></div>"
            ],
            "text/plain": [
              "<IPython.core.display.HTML object>"
            ]
          },
          "metadata": {
            "tags": []
          }
        },
        {
          "output_type": "display_data",
          "data": {
            "text/html": [
              "<div style=\"background-color:#7FFFD4;\" class=\"colordivbig rounded\"><div class=\"hexcolor\">green<br>#7FFFD4<br>(127.0,255.0,212.0)</div></div>"
            ],
            "text/plain": [
              "<IPython.core.display.HTML object>"
            ]
          },
          "metadata": {
            "tags": []
          }
        },
        {
          "output_type": "display_data",
          "data": {
            "text/html": [
              "<div style=\"background-color:#008080;\" class=\"colordivbig rounded\"><div class=\"hexcolor\">green<br>#008080<br>(0.0,128.0,128.0)</div></div>"
            ],
            "text/plain": [
              "<IPython.core.display.HTML object>"
            ]
          },
          "metadata": {
            "tags": []
          }
        },
        {
          "output_type": "display_data",
          "data": {
            "text/html": [
              "<div style=\"background-color:#008B8B;\" class=\"colordivbig rounded\"><div class=\"hexcolor\">green<br>#008B8B<br>(0.0,139.0,139.0)</div></div>"
            ],
            "text/plain": [
              "<IPython.core.display.HTML object>"
            ]
          },
          "metadata": {
            "tags": []
          }
        },
        {
          "output_type": "display_data",
          "data": {
            "text/html": [
              "<div style=\"background-color:#20B2AA;\" class=\"colordivbig rounded\"><div class=\"hexcolor\">green<br>#20B2AA<br>(32.0,178.0,170.0)</div></div>"
            ],
            "text/plain": [
              "<IPython.core.display.HTML object>"
            ]
          },
          "metadata": {
            "tags": []
          }
        },
        {
          "output_type": "display_data",
          "data": {
            "text/html": [
              "<div style=\"background-color:#2F4F4F;\" class=\"colordivbig rounded\"><div class=\"hexcolor\">green<br>#2F4F4F<br>(47.0,79.0,79.0)</div></div>"
            ],
            "text/plain": [
              "<IPython.core.display.HTML object>"
            ]
          },
          "metadata": {
            "tags": []
          }
        },
        {
          "output_type": "display_data",
          "data": {
            "text/html": [
              "<div style=\"background-color:#C2C2A9;\" class=\"colordivbig rounded\"><div class=\"hexcolor\">green<br>#C2C2A9<br>(194.0,194.0,169.0)</div></div>"
            ],
            "text/plain": [
              "<IPython.core.display.HTML object>"
            ]
          },
          "metadata": {
            "tags": []
          }
        },
        {
          "output_type": "display_data",
          "data": {
            "text/html": [
              "<div style=\"background-color:#6C8371;\" class=\"colordivbig rounded\"><div class=\"hexcolor\">green<br>#6C8371<br>(108.0,131.0,113.0)</div></div>"
            ],
            "text/plain": [
              "<IPython.core.display.HTML object>"
            ]
          },
          "metadata": {
            "tags": []
          }
        },
        {
          "output_type": "display_data",
          "data": {
            "text/html": [
              "<div style=\"background-color:#637E68;\" class=\"colordivbig rounded\"><div class=\"hexcolor\">green<br>#637E68<br>(99.0,126.0,104.0)</div></div>"
            ],
            "text/plain": [
              "<IPython.core.display.HTML object>"
            ]
          },
          "metadata": {
            "tags": []
          }
        },
        {
          "output_type": "display_data",
          "data": {
            "text/html": [
              "<div style=\"background-color:#53695D;\" class=\"colordivbig rounded\"><div class=\"hexcolor\">green<br>#53695D<br>(83.0,105.0,93.0)</div></div>"
            ],
            "text/plain": [
              "<IPython.core.display.HTML object>"
            ]
          },
          "metadata": {
            "tags": []
          }
        },
        {
          "output_type": "display_data",
          "data": {
            "text/html": [
              "<div style=\"background-color:#8CA093;\" class=\"colordivbig rounded\"><div class=\"hexcolor\">green<br>#8CA093<br>(140.0,160.0,147.0)</div></div>"
            ],
            "text/plain": [
              "<IPython.core.display.HTML object>"
            ]
          },
          "metadata": {
            "tags": []
          }
        },
        {
          "output_type": "display_data",
          "data": {
            "text/html": [
              "<div style=\"background-color:#2D383C;\" class=\"colordivbig rounded\"><div class=\"hexcolor\">green<br>#2D383C<br>(45.0,56.0,60.0)</div></div>"
            ],
            "text/plain": [
              "<IPython.core.display.HTML object>"
            ]
          },
          "metadata": {
            "tags": []
          }
        },
        {
          "output_type": "display_data",
          "data": {
            "text/html": [
              "<div style=\"background-color:#707976;\" class=\"colordivbig rounded\"><div class=\"hexcolor\">green<br>#707976<br>(112.0,121.0,118.0)</div></div>"
            ],
            "text/plain": [
              "<IPython.core.display.HTML object>"
            ]
          },
          "metadata": {
            "tags": []
          }
        },
        {
          "output_type": "display_data",
          "data": {
            "text/html": [
              "<div style=\"background-color:#6E7869;\" class=\"colordivbig rounded\"><div class=\"hexcolor\">green<br>#6E7869<br>(110.0,120.0,105.0)</div></div>"
            ],
            "text/plain": [
              "<IPython.core.display.HTML object>"
            ]
          },
          "metadata": {
            "tags": []
          }
        },
        {
          "output_type": "stream",
          "text": [
            "-------------------------------------------------------------------------------------------------------------------\n",
            "-------------------------------------------------------------------------------------------------------------------\n",
            "-------------------------------------------------------------------------------------------------------------------\n",
            "-------------------------------------------------------------------------------------------------------------------\n",
            "-------------------------------------------------------------------------------------------------------------------\n"
          ],
          "name": "stdout"
        },
        {
          "output_type": "display_data",
          "data": {
            "text/html": [
              "<div style=\"background-color:#FFA500;\" class=\"colordivbig rounded\"><div class=\"hexcolor\">orange<br>#FFA500<br>(255.0,165.0,0.0)</div></div>"
            ],
            "text/plain": [
              "<IPython.core.display.HTML object>"
            ]
          },
          "metadata": {
            "tags": []
          }
        },
        {
          "output_type": "display_data",
          "data": {
            "text/html": [
              "<div style=\"background-color:#E68C00;\" class=\"colordivbig rounded\"><div class=\"hexcolor\">orange<br>#E68C00<br>(230.0,140.0,0.0)</div></div>"
            ],
            "text/plain": [
              "<IPython.core.display.HTML object>"
            ]
          },
          "metadata": {
            "tags": []
          }
        },
        {
          "output_type": "display_data",
          "data": {
            "text/html": [
              "<div style=\"background-color:#FFBF1A;\" class=\"colordivbig rounded\"><div class=\"hexcolor\">orange<br>#FFBF1A<br>(255.0,191.0,26.0)</div></div>"
            ],
            "text/plain": [
              "<IPython.core.display.HTML object>"
            ]
          },
          "metadata": {
            "tags": []
          }
        },
        {
          "output_type": "display_data",
          "data": {
            "text/html": [
              "<div style=\"background-color:#E6AE00;\" class=\"colordivbig rounded\"><div class=\"hexcolor\">orange<br>#E6AE00<br>(230.0,174.0,0.0)</div></div>"
            ],
            "text/plain": [
              "<IPython.core.display.HTML object>"
            ]
          },
          "metadata": {
            "tags": []
          }
        },
        {
          "output_type": "display_data",
          "data": {
            "text/html": [
              "<div style=\"background-color:#FFB700;\" class=\"colordivbig rounded\"><div class=\"hexcolor\">orange<br>#FFB700<br>(255.0,183.0,0.0)</div></div>"
            ],
            "text/plain": [
              "<IPython.core.display.HTML object>"
            ]
          },
          "metadata": {
            "tags": []
          }
        },
        {
          "output_type": "display_data",
          "data": {
            "text/html": [
              "<div style=\"background-color:#FF9C1A;\" class=\"colordivbig rounded\"><div class=\"hexcolor\">orange<br>#FF9C1A<br>(255.0,156.0,26.0)</div></div>"
            ],
            "text/plain": [
              "<IPython.core.display.HTML object>"
            ]
          },
          "metadata": {
            "tags": []
          }
        },
        {
          "output_type": "display_data",
          "data": {
            "text/html": [
              "<div style=\"background-color:#FF4500;\" class=\"colordivbig rounded\"><div class=\"hexcolor\">orange<br>#FF4500<br>(255.0,69.0,0.0)</div></div>"
            ],
            "text/plain": [
              "<IPython.core.display.HTML object>"
            ]
          },
          "metadata": {
            "tags": []
          }
        },
        {
          "output_type": "display_data",
          "data": {
            "text/html": [
              "<div style=\"background-color:#FF6347;\" class=\"colordivbig rounded\"><div class=\"hexcolor\">orange<br>#FF6347<br>(255.0,99.0,71.0)</div></div>"
            ],
            "text/plain": [
              "<IPython.core.display.HTML object>"
            ]
          },
          "metadata": {
            "tags": []
          }
        },
        {
          "output_type": "display_data",
          "data": {
            "text/html": [
              "<div style=\"background-color:#FF8C00;\" class=\"colordivbig rounded\"><div class=\"hexcolor\">orange<br>#FF8C00<br>(255.0,140.0,0.0)</div></div>"
            ],
            "text/plain": [
              "<IPython.core.display.HTML object>"
            ]
          },
          "metadata": {
            "tags": []
          }
        },
        {
          "output_type": "display_data",
          "data": {
            "text/html": [
              "<div style=\"background-color:#FF7F50;\" class=\"colordivbig rounded\"><div class=\"hexcolor\">orange<br>#FF7F50<br>(255.0,127.0,80.0)</div></div>"
            ],
            "text/plain": [
              "<IPython.core.display.HTML object>"
            ]
          },
          "metadata": {
            "tags": []
          }
        },
        {
          "output_type": "display_data",
          "data": {
            "text/html": [
              "<div style=\"background-color:#F4A460;\" class=\"colordivbig rounded\"><div class=\"hexcolor\">orange<br>#F4A460<br>(244.0,164.0,96.0)</div></div>"
            ],
            "text/plain": [
              "<IPython.core.display.HTML object>"
            ]
          },
          "metadata": {
            "tags": []
          }
        },
        {
          "output_type": "display_data",
          "data": {
            "text/html": [
              "<div style=\"background-color:#EC7E43;\" class=\"colordivbig rounded\"><div class=\"hexcolor\">orange<br>#EC7E43<br>(236.0,126.0,67.0)</div></div>"
            ],
            "text/plain": [
              "<IPython.core.display.HTML object>"
            ]
          },
          "metadata": {
            "tags": []
          }
        },
        {
          "output_type": "display_data",
          "data": {
            "text/html": [
              "<div style=\"background-color:#E07B39;\" class=\"colordivbig rounded\"><div class=\"hexcolor\">orange<br>#E07B39<br>(224.0,123.0,57.0)</div></div>"
            ],
            "text/plain": [
              "<IPython.core.display.HTML object>"
            ]
          },
          "metadata": {
            "tags": []
          }
        },
        {
          "output_type": "display_data",
          "data": {
            "text/html": [
              "<div style=\"background-color:#DD7637;\" class=\"colordivbig rounded\"><div class=\"hexcolor\">orange<br>#DD7637<br>(221.0,118.0,55.0)</div></div>"
            ],
            "text/plain": [
              "<IPython.core.display.HTML object>"
            ]
          },
          "metadata": {
            "tags": []
          }
        },
        {
          "output_type": "display_data",
          "data": {
            "text/html": [
              "<div style=\"background-color:#E07937;\" class=\"colordivbig rounded\"><div class=\"hexcolor\">orange<br>#E07937<br>(224.0,121.0,55.0)</div></div>"
            ],
            "text/plain": [
              "<IPython.core.display.HTML object>"
            ]
          },
          "metadata": {
            "tags": []
          }
        },
        {
          "output_type": "display_data",
          "data": {
            "text/html": [
              "<div style=\"background-color:#DD7D40;\" class=\"colordivbig rounded\"><div class=\"hexcolor\">orange<br>#DD7D40<br>(221.0,125.0,64.0)</div></div>"
            ],
            "text/plain": [
              "<IPython.core.display.HTML object>"
            ]
          },
          "metadata": {
            "tags": []
          }
        },
        {
          "output_type": "stream",
          "text": [
            "-------------------------------------------------------------------------------------------------------------------\n",
            "-------------------------------------------------------------------------------------------------------------------\n",
            "-------------------------------------------------------------------------------------------------------------------\n",
            "-------------------------------------------------------------------------------------------------------------------\n",
            "-------------------------------------------------------------------------------------------------------------------\n"
          ],
          "name": "stdout"
        },
        {
          "output_type": "display_data",
          "data": {
            "text/html": [
              "<div style=\"background-color:#FFC0CB;\" class=\"colordivbig rounded\"><div class=\"hexcolor\">pink<br>#FFC0CB<br>(255.0,192.0,203.0)</div></div>"
            ],
            "text/plain": [
              "<IPython.core.display.HTML object>"
            ]
          },
          "metadata": {
            "tags": []
          }
        },
        {
          "output_type": "display_data",
          "data": {
            "text/html": [
              "<div style=\"background-color:#F5DBDB;\" class=\"colordivbig rounded\"><div class=\"hexcolor\">pink<br>#F5DBDB<br>(245.0,219.0,219.0)</div></div>"
            ],
            "text/plain": [
              "<IPython.core.display.HTML object>"
            ]
          },
          "metadata": {
            "tags": []
          }
        },
        {
          "output_type": "display_data",
          "data": {
            "text/html": [
              "<div style=\"background-color:#FFDAE5;\" class=\"colordivbig rounded\"><div class=\"hexcolor\">pink<br>#FFDAE5<br>(255.0,218.0,229.0)</div></div>"
            ],
            "text/plain": [
              "<IPython.core.display.HTML object>"
            ]
          },
          "metadata": {
            "tags": []
          }
        },
        {
          "output_type": "display_data",
          "data": {
            "text/html": [
              "<div style=\"background-color:#FFC2C4;\" class=\"colordivbig rounded\"><div class=\"hexcolor\">pink<br>#FFC2C4<br>(255.0,194.0,196.0)</div></div>"
            ],
            "text/plain": [
              "<IPython.core.display.HTML object>"
            ]
          },
          "metadata": {
            "tags": []
          }
        },
        {
          "output_type": "display_data",
          "data": {
            "text/html": [
              "<div style=\"background-color:#F48589;\" class=\"colordivbig rounded\"><div class=\"hexcolor\">pink<br>#F48589<br>(244.0,133.0,137.0)</div></div>"
            ],
            "text/plain": [
              "<IPython.core.display.HTML object>"
            ]
          },
          "metadata": {
            "tags": []
          }
        },
        {
          "output_type": "display_data",
          "data": {
            "text/html": [
              "<div style=\"background-color:#BC8F8F;\" class=\"colordivbig rounded\"><div class=\"hexcolor\">pink<br>#BC8F8F<br>(188.0,143.0,143.0)</div></div>"
            ],
            "text/plain": [
              "<IPython.core.display.HTML object>"
            ]
          },
          "metadata": {
            "tags": []
          }
        },
        {
          "output_type": "display_data",
          "data": {
            "text/html": [
              "<div style=\"background-color:#FF6666;\" class=\"colordivbig rounded\"><div class=\"hexcolor\">pink<br>#FF6666<br>(255.0,102.0,102.0)</div></div>"
            ],
            "text/plain": [
              "<IPython.core.display.HTML object>"
            ]
          },
          "metadata": {
            "tags": []
          }
        },
        {
          "output_type": "display_data",
          "data": {
            "text/html": [
              "<div style=\"background-color:#FF1493;\" class=\"colordivbig rounded\"><div class=\"hexcolor\">pink<br>#FF1493<br>(255.0,20.0,147.0)</div></div>"
            ],
            "text/plain": [
              "<IPython.core.display.HTML object>"
            ]
          },
          "metadata": {
            "tags": []
          }
        },
        {
          "output_type": "display_data",
          "data": {
            "text/html": [
              "<div style=\"background-color:#DB7093;\" class=\"colordivbig rounded\"><div class=\"hexcolor\">pink<br>#DB7093<br>(219.0,112.0,147.0)</div></div>"
            ],
            "text/plain": [
              "<IPython.core.display.HTML object>"
            ]
          },
          "metadata": {
            "tags": []
          }
        },
        {
          "output_type": "display_data",
          "data": {
            "text/html": [
              "<div style=\"background-color:#FF69B4;\" class=\"colordivbig rounded\"><div class=\"hexcolor\">pink<br>#FF69B4<br>(255.0,105.0,180.0)</div></div>"
            ],
            "text/plain": [
              "<IPython.core.display.HTML object>"
            ]
          },
          "metadata": {
            "tags": []
          }
        },
        {
          "output_type": "display_data",
          "data": {
            "text/html": [
              "<div style=\"background-color:#FFB6C1;\" class=\"colordivbig rounded\"><div class=\"hexcolor\">pink<br>#FFB6C1<br>(255.0,182.0,193.0)</div></div>"
            ],
            "text/plain": [
              "<IPython.core.display.HTML object>"
            ]
          },
          "metadata": {
            "tags": []
          }
        },
        {
          "output_type": "display_data",
          "data": {
            "text/html": [
              "<div style=\"background-color:#FFC0CB;\" class=\"colordivbig rounded\"><div class=\"hexcolor\">pink<br>#FFC0CB<br>(255.0,192.0,203.0)</div></div>"
            ],
            "text/plain": [
              "<IPython.core.display.HTML object>"
            ]
          },
          "metadata": {
            "tags": []
          }
        },
        {
          "output_type": "display_data",
          "data": {
            "text/html": [
              "<div style=\"background-color:#FFE4E1;\" class=\"colordivbig rounded\"><div class=\"hexcolor\">pink<br>#FFE4E1<br>(255.0,228.0,225.0)</div></div>"
            ],
            "text/plain": [
              "<IPython.core.display.HTML object>"
            ]
          },
          "metadata": {
            "tags": []
          }
        },
        {
          "output_type": "display_data",
          "data": {
            "text/html": [
              "<div style=\"background-color:#FFF0F5;\" class=\"colordivbig rounded\"><div class=\"hexcolor\">pink<br>#FFF0F5<br>(255.0,240.0,245.0)</div></div>"
            ],
            "text/plain": [
              "<IPython.core.display.HTML object>"
            ]
          },
          "metadata": {
            "tags": []
          }
        },
        {
          "output_type": "display_data",
          "data": {
            "text/html": [
              "<div style=\"background-color:#FF00FF;\" class=\"colordivbig rounded\"><div class=\"hexcolor\">pink<br>#FF00FF<br>(255.0,0.0,255.0)</div></div>"
            ],
            "text/plain": [
              "<IPython.core.display.HTML object>"
            ]
          },
          "metadata": {
            "tags": []
          }
        },
        {
          "output_type": "display_data",
          "data": {
            "text/html": [
              "<div style=\"background-color:#E83BD7;\" class=\"colordivbig rounded\"><div class=\"hexcolor\">pink<br>#E83BD7<br>(232.0,59.0,215.0)</div></div>"
            ],
            "text/plain": [
              "<IPython.core.display.HTML object>"
            ]
          },
          "metadata": {
            "tags": []
          }
        },
        {
          "output_type": "stream",
          "text": [
            "-------------------------------------------------------------------------------------------------------------------\n",
            "-------------------------------------------------------------------------------------------------------------------\n",
            "-------------------------------------------------------------------------------------------------------------------\n",
            "-------------------------------------------------------------------------------------------------------------------\n",
            "-------------------------------------------------------------------------------------------------------------------\n"
          ],
          "name": "stdout"
        },
        {
          "output_type": "display_data",
          "data": {
            "text/html": [
              "<div style=\"background-color:#800080;\" class=\"colordivbig rounded\"><div class=\"hexcolor\">purple<br>#800080<br>(128.0,0.0,128.0)</div></div>"
            ],
            "text/plain": [
              "<IPython.core.display.HTML object>"
            ]
          },
          "metadata": {
            "tags": []
          }
        },
        {
          "output_type": "display_data",
          "data": {
            "text/html": [
              "<div style=\"background-color:#4D004D;\" class=\"colordivbig rounded\"><div class=\"hexcolor\">purple<br>#4D004D<br>(77.0,0.0,77.0)</div></div>"
            ],
            "text/plain": [
              "<IPython.core.display.HTML object>"
            ]
          },
          "metadata": {
            "tags": []
          }
        },
        {
          "output_type": "display_data",
          "data": {
            "text/html": [
              "<div style=\"background-color:#B333B3;\" class=\"colordivbig rounded\"><div class=\"hexcolor\">purple<br>#B333B3<br>(179.0,51.0,179.0)</div></div>"
            ],
            "text/plain": [
              "<IPython.core.display.HTML object>"
            ]
          },
          "metadata": {
            "tags": []
          }
        },
        {
          "output_type": "display_data",
          "data": {
            "text/html": [
              "<div style=\"background-color:#640080;\" class=\"colordivbig rounded\"><div class=\"hexcolor\">purple<br>#640080<br>(100.0,0.0,128.0)</div></div>"
            ],
            "text/plain": [
              "<IPython.core.display.HTML object>"
            ]
          },
          "metadata": {
            "tags": []
          }
        },
        {
          "output_type": "display_data",
          "data": {
            "text/html": [
              "<div style=\"background-color:#BE2D90;\" class=\"colordivbig rounded\"><div class=\"hexcolor\">purple<br>#BE2D90<br>(190.0,45.0,144.0)</div></div>"
            ],
            "text/plain": [
              "<IPython.core.display.HTML object>"
            ]
          },
          "metadata": {
            "tags": []
          }
        },
        {
          "output_type": "display_data",
          "data": {
            "text/html": [
              "<div style=\"background-color:#4B0082;\" class=\"colordivbig rounded\"><div class=\"hexcolor\">purple<br>#4B0082<br>(75.0,0.0,130.0)</div></div>"
            ],
            "text/plain": [
              "<IPython.core.display.HTML object>"
            ]
          },
          "metadata": {
            "tags": []
          }
        },
        {
          "output_type": "display_data",
          "data": {
            "text/html": [
              "<div style=\"background-color:#8B008B;\" class=\"colordivbig rounded\"><div class=\"hexcolor\">purple<br>#8B008B<br>(139.0,0.0,139.0)</div></div>"
            ],
            "text/plain": [
              "<IPython.core.display.HTML object>"
            ]
          },
          "metadata": {
            "tags": []
          }
        },
        {
          "output_type": "display_data",
          "data": {
            "text/html": [
              "<div style=\"background-color:#9400D3;\" class=\"colordivbig rounded\"><div class=\"hexcolor\">purple<br>#9400D3<br>(148.0,0.0,211.0)</div></div>"
            ],
            "text/plain": [
              "<IPython.core.display.HTML object>"
            ]
          },
          "metadata": {
            "tags": []
          }
        },
        {
          "output_type": "display_data",
          "data": {
            "text/html": [
              "<div style=\"background-color:#8A2BE2;\" class=\"colordivbig rounded\"><div class=\"hexcolor\">purple<br>#8A2BE2<br>(138.0,43.0,226.0)</div></div>"
            ],
            "text/plain": [
              "<IPython.core.display.HTML object>"
            ]
          },
          "metadata": {
            "tags": []
          }
        },
        {
          "output_type": "display_data",
          "data": {
            "text/html": [
              "<div style=\"background-color:#9932CC;\" class=\"colordivbig rounded\"><div class=\"hexcolor\">purple<br>#9932CC<br>(153.0,50.0,204.0)</div></div>"
            ],
            "text/plain": [
              "<IPython.core.display.HTML object>"
            ]
          },
          "metadata": {
            "tags": []
          }
        },
        {
          "output_type": "display_data",
          "data": {
            "text/html": [
              "<div style=\"background-color:#6A5ACD;\" class=\"colordivbig rounded\"><div class=\"hexcolor\">purple<br>#6A5ACD<br>(106.0,90.0,205.0)</div></div>"
            ],
            "text/plain": [
              "<IPython.core.display.HTML object>"
            ]
          },
          "metadata": {
            "tags": []
          }
        },
        {
          "output_type": "display_data",
          "data": {
            "text/html": [
              "<div style=\"background-color:#7B68EE;\" class=\"colordivbig rounded\"><div class=\"hexcolor\">purple<br>#7B68EE<br>(123.0,104.0,238.0)</div></div>"
            ],
            "text/plain": [
              "<IPython.core.display.HTML object>"
            ]
          },
          "metadata": {
            "tags": []
          }
        },
        {
          "output_type": "display_data",
          "data": {
            "text/html": [
              "<div style=\"background-color:#BA55D3;\" class=\"colordivbig rounded\"><div class=\"hexcolor\">purple<br>#BA55D3<br>(186.0,85.0,211.0)</div></div>"
            ],
            "text/plain": [
              "<IPython.core.display.HTML object>"
            ]
          },
          "metadata": {
            "tags": []
          }
        },
        {
          "output_type": "display_data",
          "data": {
            "text/html": [
              "<div style=\"background-color:#9370DB;\" class=\"colordivbig rounded\"><div class=\"hexcolor\">purple<br>#9370DB<br>(147.0,112.0,219.0)</div></div>"
            ],
            "text/plain": [
              "<IPython.core.display.HTML object>"
            ]
          },
          "metadata": {
            "tags": []
          }
        },
        {
          "output_type": "display_data",
          "data": {
            "text/html": [
              "<div style=\"background-color:#DA70D6;\" class=\"colordivbig rounded\"><div class=\"hexcolor\">purple<br>#DA70D6<br>(218.0,112.0,214.0)</div></div>"
            ],
            "text/plain": [
              "<IPython.core.display.HTML object>"
            ]
          },
          "metadata": {
            "tags": []
          }
        },
        {
          "output_type": "display_data",
          "data": {
            "text/html": [
              "<div style=\"background-color:#EE82EE;\" class=\"colordivbig rounded\"><div class=\"hexcolor\">purple<br>#EE82EE<br>(238.0,130.0,238.0)</div></div>"
            ],
            "text/plain": [
              "<IPython.core.display.HTML object>"
            ]
          },
          "metadata": {
            "tags": []
          }
        },
        {
          "output_type": "display_data",
          "data": {
            "text/html": [
              "<div style=\"background-color:#DDA0DD;\" class=\"colordivbig rounded\"><div class=\"hexcolor\">purple<br>#DDA0DD<br>(221.0,160.0,221.0)</div></div>"
            ],
            "text/plain": [
              "<IPython.core.display.HTML object>"
            ]
          },
          "metadata": {
            "tags": []
          }
        },
        {
          "output_type": "display_data",
          "data": {
            "text/html": [
              "<div style=\"background-color:#D8BFD8;\" class=\"colordivbig rounded\"><div class=\"hexcolor\">purple<br>#D8BFD8<br>(216.0,191.0,216.0)</div></div>"
            ],
            "text/plain": [
              "<IPython.core.display.HTML object>"
            ]
          },
          "metadata": {
            "tags": []
          }
        },
        {
          "output_type": "display_data",
          "data": {
            "text/html": [
              "<div style=\"background-color:#E6E6FA;\" class=\"colordivbig rounded\"><div class=\"hexcolor\">purple<br>#E6E6FA<br>(230.0,230.0,250.0)</div></div>"
            ],
            "text/plain": [
              "<IPython.core.display.HTML object>"
            ]
          },
          "metadata": {
            "tags": []
          }
        },
        {
          "output_type": "display_data",
          "data": {
            "text/html": [
              "<div style=\"background-color:#483D8B;\" class=\"colordivbig rounded\"><div class=\"hexcolor\">purple<br>#483D8B<br>(72.0,61.0,139.0)</div></div>"
            ],
            "text/plain": [
              "<IPython.core.display.HTML object>"
            ]
          },
          "metadata": {
            "tags": []
          }
        },
        {
          "output_type": "display_data",
          "data": {
            "text/html": [
              "<div style=\"background-color:#C71585;\" class=\"colordivbig rounded\"><div class=\"hexcolor\">purple<br>#C71585<br>(199.0,21.0,133.0)</div></div>"
            ],
            "text/plain": [
              "<IPython.core.display.HTML object>"
            ]
          },
          "metadata": {
            "tags": []
          }
        },
        {
          "output_type": "display_data",
          "data": {
            "text/html": [
              "<div style=\"background-color:#7D7485;\" class=\"colordivbig rounded\"><div class=\"hexcolor\">purple<br>#7D7485<br>(125.0,116.0,133.0)</div></div>"
            ],
            "text/plain": [
              "<IPython.core.display.HTML object>"
            ]
          },
          "metadata": {
            "tags": []
          }
        },
        {
          "output_type": "display_data",
          "data": {
            "text/html": [
              "<div style=\"background-color:#776E80;\" class=\"colordivbig rounded\"><div class=\"hexcolor\">purple<br>#776E80<br>(119.0,110.0,128.0)</div></div>"
            ],
            "text/plain": [
              "<IPython.core.display.HTML object>"
            ]
          },
          "metadata": {
            "tags": []
          }
        },
        {
          "output_type": "display_data",
          "data": {
            "text/html": [
              "<div style=\"background-color:#837A8F;\" class=\"colordivbig rounded\"><div class=\"hexcolor\">purple<br>#837A8F<br>(131.0,122.0,143.0)</div></div>"
            ],
            "text/plain": [
              "<IPython.core.display.HTML object>"
            ]
          },
          "metadata": {
            "tags": []
          }
        },
        {
          "output_type": "display_data",
          "data": {
            "text/html": [
              "<div style=\"background-color:#9A9099;\" class=\"colordivbig rounded\"><div class=\"hexcolor\">purple<br>#9A9099<br>(154.0,144.0,153.0)</div></div>"
            ],
            "text/plain": [
              "<IPython.core.display.HTML object>"
            ]
          },
          "metadata": {
            "tags": []
          }
        },
        {
          "output_type": "display_data",
          "data": {
            "text/html": [
              "<div style=\"background-color:#968C95;\" class=\"colordivbig rounded\"><div class=\"hexcolor\">purple<br>#968C95<br>(150.0,140.0,149.0)</div></div>"
            ],
            "text/plain": [
              "<IPython.core.display.HTML object>"
            ]
          },
          "metadata": {
            "tags": []
          }
        },
        {
          "output_type": "display_data",
          "data": {
            "text/html": [
              "<div style=\"background-color:#9E939C;\" class=\"colordivbig rounded\"><div class=\"hexcolor\">purple<br>#9E939C<br>(158.0,147.0,156.0)</div></div>"
            ],
            "text/plain": [
              "<IPython.core.display.HTML object>"
            ]
          },
          "metadata": {
            "tags": []
          }
        },
        {
          "output_type": "display_data",
          "data": {
            "text/html": [
              "<div style=\"background-color:#9F959E;\" class=\"colordivbig rounded\"><div class=\"hexcolor\">purple<br>#9F959E<br>(159.0,149.0,158.0)</div></div>"
            ],
            "text/plain": [
              "<IPython.core.display.HTML object>"
            ]
          },
          "metadata": {
            "tags": []
          }
        },
        {
          "output_type": "display_data",
          "data": {
            "text/html": [
              "<div style=\"background-color:#9895A8;\" class=\"colordivbig rounded\"><div class=\"hexcolor\">purple<br>#9895A8<br>(152.0,149.0,168.0)</div></div>"
            ],
            "text/plain": [
              "<IPython.core.display.HTML object>"
            ]
          },
          "metadata": {
            "tags": []
          }
        },
        {
          "output_type": "display_data",
          "data": {
            "text/html": [
              "<div style=\"background-color:#C0BED8;\" class=\"colordivbig rounded\"><div class=\"hexcolor\">purple<br>#C0BED8<br>(192.0,190.0,216.0)</div></div>"
            ],
            "text/plain": [
              "<IPython.core.display.HTML object>"
            ]
          },
          "metadata": {
            "tags": []
          }
        },
        {
          "output_type": "display_data",
          "data": {
            "text/html": [
              "<div style=\"background-color:#C6C5D6;\" class=\"colordivbig rounded\"><div class=\"hexcolor\">purple<br>#C6C5D6<br>(198.0,197.0,214.0)</div></div>"
            ],
            "text/plain": [
              "<IPython.core.display.HTML object>"
            ]
          },
          "metadata": {
            "tags": []
          }
        },
        {
          "output_type": "display_data",
          "data": {
            "text/html": [
              "<div style=\"background-color:#B5BCD8;\" class=\"colordivbig rounded\"><div class=\"hexcolor\">purple<br>#B5BCD8<br>(181.0,188.0,216.0)</div></div>"
            ],
            "text/plain": [
              "<IPython.core.display.HTML object>"
            ]
          },
          "metadata": {
            "tags": []
          }
        },
        {
          "output_type": "display_data",
          "data": {
            "text/html": [
              "<div style=\"background-color:#302649;\" class=\"colordivbig rounded\"><div class=\"hexcolor\">purple<br>#302649<br>(48.0,38.0,73.0)</div></div>"
            ],
            "text/plain": [
              "<IPython.core.display.HTML object>"
            ]
          },
          "metadata": {
            "tags": []
          }
        },
        {
          "output_type": "display_data",
          "data": {
            "text/html": [
              "<div style=\"background-color:#50313C;\" class=\"colordivbig rounded\"><div class=\"hexcolor\">purple<br>#50313C<br>(80.0,49.0,60.0)</div></div>"
            ],
            "text/plain": [
              "<IPython.core.display.HTML object>"
            ]
          },
          "metadata": {
            "tags": []
          }
        },
        {
          "output_type": "display_data",
          "data": {
            "text/html": [
              "<div style=\"background-color:#2F232C;\" class=\"colordivbig rounded\"><div class=\"hexcolor\">purple<br>#2F232C<br>(47.0,35.0,44.0)</div></div>"
            ],
            "text/plain": [
              "<IPython.core.display.HTML object>"
            ]
          },
          "metadata": {
            "tags": []
          }
        },
        {
          "output_type": "display_data",
          "data": {
            "text/html": [
              "<div style=\"background-color:#372C32;\" class=\"colordivbig rounded\"><div class=\"hexcolor\">purple<br>#372C32<br>(55.0,44.0,50.0)</div></div>"
            ],
            "text/plain": [
              "<IPython.core.display.HTML object>"
            ]
          },
          "metadata": {
            "tags": []
          }
        },
        {
          "output_type": "display_data",
          "data": {
            "text/html": [
              "<div style=\"background-color:#433E4E;\" class=\"colordivbig rounded\"><div class=\"hexcolor\">purple<br>#433E4E<br>(67.0,62.0,78.0)</div></div>"
            ],
            "text/plain": [
              "<IPython.core.display.HTML object>"
            ]
          },
          "metadata": {
            "tags": []
          }
        },
        {
          "output_type": "display_data",
          "data": {
            "text/html": [
              "<div style=\"background-color:#4C3D49;\" class=\"colordivbig rounded\"><div class=\"hexcolor\">purple<br>#4C3D49<br>(76.0,61.0,73.0)</div></div>"
            ],
            "text/plain": [
              "<IPython.core.display.HTML object>"
            ]
          },
          "metadata": {
            "tags": []
          }
        },
        {
          "output_type": "display_data",
          "data": {
            "text/html": [
              "<div style=\"background-color:#3F3B4C;\" class=\"colordivbig rounded\"><div class=\"hexcolor\">purple<br>#3F3B4C<br>(63.0,59.0,76.0)</div></div>"
            ],
            "text/plain": [
              "<IPython.core.display.HTML object>"
            ]
          },
          "metadata": {
            "tags": []
          }
        },
        {
          "output_type": "display_data",
          "data": {
            "text/html": [
              "<div style=\"background-color:#4C4856;\" class=\"colordivbig rounded\"><div class=\"hexcolor\">purple<br>#4C4856<br>(76.0,72.0,86.0)</div></div>"
            ],
            "text/plain": [
              "<IPython.core.display.HTML object>"
            ]
          },
          "metadata": {
            "tags": []
          }
        },
        {
          "output_type": "display_data",
          "data": {
            "text/html": [
              "<div style=\"background-color:#3F3B4A;\" class=\"colordivbig rounded\"><div class=\"hexcolor\">purple<br>#3F3B4A<br>(63.0,59.0,74.0)</div></div>"
            ],
            "text/plain": [
              "<IPython.core.display.HTML object>"
            ]
          },
          "metadata": {
            "tags": []
          }
        },
        {
          "output_type": "stream",
          "text": [
            "-------------------------------------------------------------------------------------------------------------------\n",
            "-------------------------------------------------------------------------------------------------------------------\n",
            "-------------------------------------------------------------------------------------------------------------------\n",
            "-------------------------------------------------------------------------------------------------------------------\n",
            "-------------------------------------------------------------------------------------------------------------------\n"
          ],
          "name": "stdout"
        },
        {
          "output_type": "display_data",
          "data": {
            "text/html": [
              "<div style=\"background-color:#FF0000;\" class=\"colordivbig rounded\"><div class=\"hexcolor\">red<br>#FF0000<br>(255.0,0.0,0.0)</div></div>"
            ],
            "text/plain": [
              "<IPython.core.display.HTML object>"
            ]
          },
          "metadata": {
            "tags": []
          }
        },
        {
          "output_type": "display_data",
          "data": {
            "text/html": [
              "<div style=\"background-color:#DA1616;\" class=\"colordivbig rounded\"><div class=\"hexcolor\">red<br>#DA1616<br>(218.0,22.0,22.0)</div></div>"
            ],
            "text/plain": [
              "<IPython.core.display.HTML object>"
            ]
          },
          "metadata": {
            "tags": []
          }
        },
        {
          "output_type": "display_data",
          "data": {
            "text/html": [
              "<div style=\"background-color:#FF3333;\" class=\"colordivbig rounded\"><div class=\"hexcolor\">red<br>#FF3333<br>(255.0,51.0,51.0)</div></div>"
            ],
            "text/plain": [
              "<IPython.core.display.HTML object>"
            ]
          },
          "metadata": {
            "tags": []
          }
        },
        {
          "output_type": "display_data",
          "data": {
            "text/html": [
              "<div style=\"background-color:#FF3C1A;\" class=\"colordivbig rounded\"><div class=\"hexcolor\">red<br>#FF3C1A<br>(255.0,60.0,26.0)</div></div>"
            ],
            "text/plain": [
              "<IPython.core.display.HTML object>"
            ]
          },
          "metadata": {
            "tags": []
          }
        },
        {
          "output_type": "display_data",
          "data": {
            "text/html": [
              "<div style=\"background-color:#F84F4F;\" class=\"colordivbig rounded\"><div class=\"hexcolor\">red<br>#F84F4F<br>(248.0,79.0,79.0)</div></div>"
            ],
            "text/plain": [
              "<IPython.core.display.HTML object>"
            ]
          },
          "metadata": {
            "tags": []
          }
        },
        {
          "output_type": "display_data",
          "data": {
            "text/html": [
              "<div style=\"background-color:#FF3B38;\" class=\"colordivbig rounded\"><div class=\"hexcolor\">red<br>#FF3B38<br>(255.0,59.0,56.0)</div></div>"
            ],
            "text/plain": [
              "<IPython.core.display.HTML object>"
            ]
          },
          "metadata": {
            "tags": []
          }
        },
        {
          "output_type": "display_data",
          "data": {
            "text/html": [
              "<div style=\"background-color:#8B0000;\" class=\"colordivbig rounded\"><div class=\"hexcolor\">red<br>#8B0000<br>(139.0,0.0,0.0)</div></div>"
            ],
            "text/plain": [
              "<IPython.core.display.HTML object>"
            ]
          },
          "metadata": {
            "tags": []
          }
        },
        {
          "output_type": "display_data",
          "data": {
            "text/html": [
              "<div style=\"background-color:#B22222;\" class=\"colordivbig rounded\"><div class=\"hexcolor\">red<br>#B22222<br>(178.0,34.0,34.0)</div></div>"
            ],
            "text/plain": [
              "<IPython.core.display.HTML object>"
            ]
          },
          "metadata": {
            "tags": []
          }
        },
        {
          "output_type": "display_data",
          "data": {
            "text/html": [
              "<div style=\"background-color:#DC143C;\" class=\"colordivbig rounded\"><div class=\"hexcolor\">red<br>#DC143C<br>(220.0,20.0,60.0)</div></div>"
            ],
            "text/plain": [
              "<IPython.core.display.HTML object>"
            ]
          },
          "metadata": {
            "tags": []
          }
        },
        {
          "output_type": "display_data",
          "data": {
            "text/html": [
              "<div style=\"background-color:#CD5C5C;\" class=\"colordivbig rounded\"><div class=\"hexcolor\">red<br>#CD5C5C<br>(205.0,92.0,92.0)</div></div>"
            ],
            "text/plain": [
              "<IPython.core.display.HTML object>"
            ]
          },
          "metadata": {
            "tags": []
          }
        },
        {
          "output_type": "display_data",
          "data": {
            "text/html": [
              "<div style=\"background-color:#800000;\" class=\"colordivbig rounded\"><div class=\"hexcolor\">red<br>#800000<br>(128.0,0.0,0.0)</div></div>"
            ],
            "text/plain": [
              "<IPython.core.display.HTML object>"
            ]
          },
          "metadata": {
            "tags": []
          }
        },
        {
          "output_type": "display_data",
          "data": {
            "text/html": [
              "<div style=\"background-color:#8C1111;\" class=\"colordivbig rounded\"><div class=\"hexcolor\">red<br>#8C1111<br>(140.0,17.0,17.0)</div></div>"
            ],
            "text/plain": [
              "<IPython.core.display.HTML object>"
            ]
          },
          "metadata": {
            "tags": []
          }
        },
        {
          "output_type": "display_data",
          "data": {
            "text/html": [
              "<div style=\"background-color:#921B36;\" class=\"colordivbig rounded\"><div class=\"hexcolor\">red<br>#921B36<br>(146.0,27.0,54.0)</div></div>"
            ],
            "text/plain": [
              "<IPython.core.display.HTML object>"
            ]
          },
          "metadata": {
            "tags": []
          }
        },
        {
          "output_type": "display_data",
          "data": {
            "text/html": [
              "<div style=\"background-color:#8D243A;\" class=\"colordivbig rounded\"><div class=\"hexcolor\">red<br>#8D243A<br>(141.0,36.0,58.0)</div></div>"
            ],
            "text/plain": [
              "<IPython.core.display.HTML object>"
            ]
          },
          "metadata": {
            "tags": []
          }
        },
        {
          "output_type": "display_data",
          "data": {
            "text/html": [
              "<div style=\"background-color:#8D1A33;\" class=\"colordivbig rounded\"><div class=\"hexcolor\">red<br>#8D1A33<br>(141.0,26.0,51.0)</div></div>"
            ],
            "text/plain": [
              "<IPython.core.display.HTML object>"
            ]
          },
          "metadata": {
            "tags": []
          }
        },
        {
          "output_type": "display_data",
          "data": {
            "text/html": [
              "<div style=\"background-color:#B70629;\" class=\"colordivbig rounded\"><div class=\"hexcolor\">red<br>#B70629<br>(183.0,6.0,41.0)</div></div>"
            ],
            "text/plain": [
              "<IPython.core.display.HTML object>"
            ]
          },
          "metadata": {
            "tags": []
          }
        },
        {
          "output_type": "display_data",
          "data": {
            "text/html": [
              "<div style=\"background-color:#B11E34;\" class=\"colordivbig rounded\"><div class=\"hexcolor\">red<br>#B11E34<br>(177.0,30.0,52.0)</div></div>"
            ],
            "text/plain": [
              "<IPython.core.display.HTML object>"
            ]
          },
          "metadata": {
            "tags": []
          }
        },
        {
          "output_type": "display_data",
          "data": {
            "text/html": [
              "<div style=\"background-color:#AC0523;\" class=\"colordivbig rounded\"><div class=\"hexcolor\">red<br>#AC0523<br>(172.0,5.0,35.0)</div></div>"
            ],
            "text/plain": [
              "<IPython.core.display.HTML object>"
            ]
          },
          "metadata": {
            "tags": []
          }
        },
        {
          "output_type": "display_data",
          "data": {
            "text/html": [
              "<div style=\"background-color:#A7061F;\" class=\"colordivbig rounded\"><div class=\"hexcolor\">red<br>#A7061F<br>(167.0,6.0,31.0)</div></div>"
            ],
            "text/plain": [
              "<IPython.core.display.HTML object>"
            ]
          },
          "metadata": {
            "tags": []
          }
        },
        {
          "output_type": "display_data",
          "data": {
            "text/html": [
              "<div style=\"background-color:#9C0B22;\" class=\"colordivbig rounded\"><div class=\"hexcolor\">red<br>#9C0B22<br>(156.0,11.0,34.0)</div></div>"
            ],
            "text/plain": [
              "<IPython.core.display.HTML object>"
            ]
          },
          "metadata": {
            "tags": []
          }
        },
        {
          "output_type": "stream",
          "text": [
            "-------------------------------------------------------------------------------------------------------------------\n",
            "-------------------------------------------------------------------------------------------------------------------\n",
            "-------------------------------------------------------------------------------------------------------------------\n",
            "-------------------------------------------------------------------------------------------------------------------\n",
            "-------------------------------------------------------------------------------------------------------------------\n"
          ],
          "name": "stdout"
        },
        {
          "output_type": "display_data",
          "data": {
            "text/html": [
              "<div style=\"background-color:#C0C0C0;\" class=\"colordivbig rounded\"><div class=\"hexcolor\">silver<br>#C0C0C0<br>(192.0,192.0,192.0)</div></div>"
            ],
            "text/plain": [
              "<IPython.core.display.HTML object>"
            ]
          },
          "metadata": {
            "tags": []
          }
        },
        {
          "output_type": "display_data",
          "data": {
            "text/html": [
              "<div style=\"background-color:#B3B3B3;\" class=\"colordivbig rounded\"><div class=\"hexcolor\">silver<br>#B3B3B3<br>(179.0,179.0,179.0)</div></div>"
            ],
            "text/plain": [
              "<IPython.core.display.HTML object>"
            ]
          },
          "metadata": {
            "tags": []
          }
        },
        {
          "output_type": "display_data",
          "data": {
            "text/html": [
              "<div style=\"background-color:#DADADA;\" class=\"colordivbig rounded\"><div class=\"hexcolor\">silver<br>#DADADA<br>(218.0,218.0,218.0)</div></div>"
            ],
            "text/plain": [
              "<IPython.core.display.HTML object>"
            ]
          },
          "metadata": {
            "tags": []
          }
        },
        {
          "output_type": "display_data",
          "data": {
            "text/html": [
              "<div style=\"background-color:#B7B6BC;\" class=\"colordivbig rounded\"><div class=\"hexcolor\">silver<br>#B7B6BC<br>(183.0,182.0,188.0)</div></div>"
            ],
            "text/plain": [
              "<IPython.core.display.HTML object>"
            ]
          },
          "metadata": {
            "tags": []
          }
        },
        {
          "output_type": "display_data",
          "data": {
            "text/html": [
              "<div style=\"background-color:#BDC1C0;\" class=\"colordivbig rounded\"><div class=\"hexcolor\">silver<br>#BDC1C0<br>(189.0,193.0,192.0)</div></div>"
            ],
            "text/plain": [
              "<IPython.core.display.HTML object>"
            ]
          },
          "metadata": {
            "tags": []
          }
        },
        {
          "output_type": "display_data",
          "data": {
            "text/html": [
              "<div style=\"background-color:#CFD3D3;\" class=\"colordivbig rounded\"><div class=\"hexcolor\">silver<br>#CFD3D3<br>(207.0,211.0,211.0)</div></div>"
            ],
            "text/plain": [
              "<IPython.core.display.HTML object>"
            ]
          },
          "metadata": {
            "tags": []
          }
        },
        {
          "output_type": "display_data",
          "data": {
            "text/html": [
              "<div style=\"background-color:#D3D9D9;\" class=\"colordivbig rounded\"><div class=\"hexcolor\">silver<br>#D3D9D9<br>(211.0,217.0,217.0)</div></div>"
            ],
            "text/plain": [
              "<IPython.core.display.HTML object>"
            ]
          },
          "metadata": {
            "tags": []
          }
        },
        {
          "output_type": "display_data",
          "data": {
            "text/html": [
              "<div style=\"background-color:#D3D3D3;\" class=\"colordivbig rounded\"><div class=\"hexcolor\">silver<br>#D3D3D3<br>(211.0,211.0,211.0)</div></div>"
            ],
            "text/plain": [
              "<IPython.core.display.HTML object>"
            ]
          },
          "metadata": {
            "tags": []
          }
        },
        {
          "output_type": "display_data",
          "data": {
            "text/html": [
              "<div style=\"background-color:#DCDCDC;\" class=\"colordivbig rounded\"><div class=\"hexcolor\">silver<br>#DCDCDC<br>(220.0,220.0,220.0)</div></div>"
            ],
            "text/plain": [
              "<IPython.core.display.HTML object>"
            ]
          },
          "metadata": {
            "tags": []
          }
        },
        {
          "output_type": "display_data",
          "data": {
            "text/html": [
              "<div style=\"background-color:#DADCDF;\" class=\"colordivbig rounded\"><div class=\"hexcolor\">silver<br>#DADCDF<br>(218.0,220.0,223.0)</div></div>"
            ],
            "text/plain": [
              "<IPython.core.display.HTML object>"
            ]
          },
          "metadata": {
            "tags": []
          }
        },
        {
          "output_type": "display_data",
          "data": {
            "text/html": [
              "<div style=\"background-color:#C5C5D1;\" class=\"colordivbig rounded\"><div class=\"hexcolor\">silver<br>#C5C5D1<br>(197.0,197.0,209.0)</div></div>"
            ],
            "text/plain": [
              "<IPython.core.display.HTML object>"
            ]
          },
          "metadata": {
            "tags": []
          }
        },
        {
          "output_type": "display_data",
          "data": {
            "text/html": [
              "<div style=\"background-color:#B6B6C3;\" class=\"colordivbig rounded\"><div class=\"hexcolor\">silver<br>#B6B6C3<br>(182.0,182.0,195.0)</div></div>"
            ],
            "text/plain": [
              "<IPython.core.display.HTML object>"
            ]
          },
          "metadata": {
            "tags": []
          }
        },
        {
          "output_type": "display_data",
          "data": {
            "text/html": [
              "<div style=\"background-color:#B4B5BA;\" class=\"colordivbig rounded\"><div class=\"hexcolor\">silver<br>#B4B5BA<br>(180.0,181.0,186.0)</div></div>"
            ],
            "text/plain": [
              "<IPython.core.display.HTML object>"
            ]
          },
          "metadata": {
            "tags": []
          }
        },
        {
          "output_type": "display_data",
          "data": {
            "text/html": [
              "<div style=\"background-color:#B8BBC0;\" class=\"colordivbig rounded\"><div class=\"hexcolor\">silver<br>#B8BBC0<br>(184.0,187.0,192.0)</div></div>"
            ],
            "text/plain": [
              "<IPython.core.display.HTML object>"
            ]
          },
          "metadata": {
            "tags": []
          }
        },
        {
          "output_type": "display_data",
          "data": {
            "text/html": [
              "<div style=\"background-color:#D0CCCB;\" class=\"colordivbig rounded\"><div class=\"hexcolor\">silver<br>#D0CCCB<br>(208.0,204.0,203.0)</div></div>"
            ],
            "text/plain": [
              "<IPython.core.display.HTML object>"
            ]
          },
          "metadata": {
            "tags": []
          }
        },
        {
          "output_type": "display_data",
          "data": {
            "text/html": [
              "<div style=\"background-color:#B3B2AE;\" class=\"colordivbig rounded\"><div class=\"hexcolor\">silver<br>#B3B2AE<br>(179.0,178.0,174.0)</div></div>"
            ],
            "text/plain": [
              "<IPython.core.display.HTML object>"
            ]
          },
          "metadata": {
            "tags": []
          }
        },
        {
          "output_type": "display_data",
          "data": {
            "text/html": [
              "<div style=\"background-color:#B0AFAB;\" class=\"colordivbig rounded\"><div class=\"hexcolor\">silver<br>#B0AFAB<br>(176.0,175.0,171.0)</div></div>"
            ],
            "text/plain": [
              "<IPython.core.display.HTML object>"
            ]
          },
          "metadata": {
            "tags": []
          }
        },
        {
          "output_type": "stream",
          "text": [
            "-------------------------------------------------------------------------------------------------------------------\n",
            "-------------------------------------------------------------------------------------------------------------------\n",
            "-------------------------------------------------------------------------------------------------------------------\n",
            "-------------------------------------------------------------------------------------------------------------------\n",
            "-------------------------------------------------------------------------------------------------------------------\n"
          ],
          "name": "stdout"
        },
        {
          "output_type": "display_data",
          "data": {
            "text/html": [
              "<div style=\"background-color:#FFFFFF;\" class=\"colordivbig rounded\"><div class=\"hexcolor\">white<br>#FFFFFF<br>(255.0,255.0,255.0)</div></div>"
            ],
            "text/plain": [
              "<IPython.core.display.HTML object>"
            ]
          },
          "metadata": {
            "tags": []
          }
        },
        {
          "output_type": "display_data",
          "data": {
            "text/html": [
              "<div style=\"background-color:#F0F0F0;\" class=\"colordivbig rounded\"><div class=\"hexcolor\">white<br>#F0F0F0<br>(240.0,240.0,240.0)</div></div>"
            ],
            "text/plain": [
              "<IPython.core.display.HTML object>"
            ]
          },
          "metadata": {
            "tags": []
          }
        },
        {
          "output_type": "display_data",
          "data": {
            "text/html": [
              "<div style=\"background-color:#FCF6FE;\" class=\"colordivbig rounded\"><div class=\"hexcolor\">white<br>#FCF6FE<br>(252.0,246.0,254.0)</div></div>"
            ],
            "text/plain": [
              "<IPython.core.display.HTML object>"
            ]
          },
          "metadata": {
            "tags": []
          }
        },
        {
          "output_type": "display_data",
          "data": {
            "text/html": [
              "<div style=\"background-color:#EEEBEF;\" class=\"colordivbig rounded\"><div class=\"hexcolor\">white<br>#EEEBEF<br>(238.0,235.0,239.0)</div></div>"
            ],
            "text/plain": [
              "<IPython.core.display.HTML object>"
            ]
          },
          "metadata": {
            "tags": []
          }
        },
        {
          "output_type": "display_data",
          "data": {
            "text/html": [
              "<div style=\"background-color:#E6EBEF;\" class=\"colordivbig rounded\"><div class=\"hexcolor\">white<br>#E6EBEF<br>(230.0,235.0,239.0)</div></div>"
            ],
            "text/plain": [
              "<IPython.core.display.HTML object>"
            ]
          },
          "metadata": {
            "tags": []
          }
        },
        {
          "output_type": "display_data",
          "data": {
            "text/html": [
              "<div style=\"background-color:#DAE5E8;\" class=\"colordivbig rounded\"><div class=\"hexcolor\">white<br>#DAE5E8<br>(218.0,229.0,232.0)</div></div>"
            ],
            "text/plain": [
              "<IPython.core.display.HTML object>"
            ]
          },
          "metadata": {
            "tags": []
          }
        },
        {
          "output_type": "display_data",
          "data": {
            "text/html": [
              "<div style=\"background-color:#DDE8F0;\" class=\"colordivbig rounded\"><div class=\"hexcolor\">white<br>#DDE8F0<br>(221.0,232.0,240.0)</div></div>"
            ],
            "text/plain": [
              "<IPython.core.display.HTML object>"
            ]
          },
          "metadata": {
            "tags": []
          }
        },
        {
          "output_type": "display_data",
          "data": {
            "text/html": [
              "<div style=\"background-color:#E3EDED;\" class=\"colordivbig rounded\"><div class=\"hexcolor\">white<br>#E3EDED<br>(227.0,237.0,237.0)</div></div>"
            ],
            "text/plain": [
              "<IPython.core.display.HTML object>"
            ]
          },
          "metadata": {
            "tags": []
          }
        },
        {
          "output_type": "display_data",
          "data": {
            "text/html": [
              "<div style=\"background-color:#E2E9EF;\" class=\"colordivbig rounded\"><div class=\"hexcolor\">white<br>#E2E9EF<br>(226.0,233.0,239.0)</div></div>"
            ],
            "text/plain": [
              "<IPython.core.display.HTML object>"
            ]
          },
          "metadata": {
            "tags": []
          }
        },
        {
          "output_type": "display_data",
          "data": {
            "text/html": [
              "<div style=\"background-color:#EDEDED;\" class=\"colordivbig rounded\"><div class=\"hexcolor\">white<br>#EDEDED<br>(237.0,237.0,237.0)</div></div>"
            ],
            "text/plain": [
              "<IPython.core.display.HTML object>"
            ]
          },
          "metadata": {
            "tags": []
          }
        },
        {
          "output_type": "display_data",
          "data": {
            "text/html": [
              "<div style=\"background-color:#FBFBF4;\" class=\"colordivbig rounded\"><div class=\"hexcolor\">white<br>#FBFBF4<br>(251.0,251.0,244.0)</div></div>"
            ],
            "text/plain": [
              "<IPython.core.display.HTML object>"
            ]
          },
          "metadata": {
            "tags": []
          }
        },
        {
          "output_type": "display_data",
          "data": {
            "text/html": [
              "<div style=\"background-color:#FFFAFA;\" class=\"colordivbig rounded\"><div class=\"hexcolor\">white<br>#FFFAFA<br>(255.0,250.0,250.0)</div></div>"
            ],
            "text/plain": [
              "<IPython.core.display.HTML object>"
            ]
          },
          "metadata": {
            "tags": []
          }
        },
        {
          "output_type": "display_data",
          "data": {
            "text/html": [
              "<div style=\"background-color:#FFFFF6;\" class=\"colordivbig rounded\"><div class=\"hexcolor\">white<br>#FFFFF6<br>(255.0,255.0,246.0)</div></div>"
            ],
            "text/plain": [
              "<IPython.core.display.HTML object>"
            ]
          },
          "metadata": {
            "tags": []
          }
        },
        {
          "output_type": "display_data",
          "data": {
            "text/html": [
              "<div style=\"background-color:#F5FFFA;\" class=\"colordivbig rounded\"><div class=\"hexcolor\">white<br>#F5FFFA<br>(245.0,255.0,250.0)</div></div>"
            ],
            "text/plain": [
              "<IPython.core.display.HTML object>"
            ]
          },
          "metadata": {
            "tags": []
          }
        },
        {
          "output_type": "display_data",
          "data": {
            "text/html": [
              "<div style=\"background-color:#F8F8FF;\" class=\"colordivbig rounded\"><div class=\"hexcolor\">white<br>#F8F8FF<br>(248.0,248.0,255.0)</div></div>"
            ],
            "text/plain": [
              "<IPython.core.display.HTML object>"
            ]
          },
          "metadata": {
            "tags": []
          }
        },
        {
          "output_type": "display_data",
          "data": {
            "text/html": [
              "<div style=\"background-color:#FFFFF0;\" class=\"colordivbig rounded\"><div class=\"hexcolor\">white<br>#FFFFF0<br>(255.0,255.0,240.0)</div></div>"
            ],
            "text/plain": [
              "<IPython.core.display.HTML object>"
            ]
          },
          "metadata": {
            "tags": []
          }
        },
        {
          "output_type": "display_data",
          "data": {
            "text/html": [
              "<div style=\"background-color:#FFFAF0;\" class=\"colordivbig rounded\"><div class=\"hexcolor\">white<br>#FFFAF0<br>(255.0,250.0,240.0)</div></div>"
            ],
            "text/plain": [
              "<IPython.core.display.HTML object>"
            ]
          },
          "metadata": {
            "tags": []
          }
        },
        {
          "output_type": "display_data",
          "data": {
            "text/html": [
              "<div style=\"background-color:#F5F5F5;\" class=\"colordivbig rounded\"><div class=\"hexcolor\">white<br>#F5F5F5<br>(245.0,245.0,245.0)</div></div>"
            ],
            "text/plain": [
              "<IPython.core.display.HTML object>"
            ]
          },
          "metadata": {
            "tags": []
          }
        },
        {
          "output_type": "stream",
          "text": [
            "-------------------------------------------------------------------------------------------------------------------\n",
            "-------------------------------------------------------------------------------------------------------------------\n",
            "-------------------------------------------------------------------------------------------------------------------\n",
            "-------------------------------------------------------------------------------------------------------------------\n",
            "-------------------------------------------------------------------------------------------------------------------\n"
          ],
          "name": "stdout"
        },
        {
          "output_type": "display_data",
          "data": {
            "text/html": [
              "<div style=\"background-color:#FFFF00;\" class=\"colordivbig rounded\"><div class=\"hexcolor\">yellow<br>#FFFF00<br>(255.0,255.0,0.0)</div></div>"
            ],
            "text/plain": [
              "<IPython.core.display.HTML object>"
            ]
          },
          "metadata": {
            "tags": []
          }
        },
        {
          "output_type": "display_data",
          "data": {
            "text/html": [
              "<div style=\"background-color:#D9D900;\" class=\"colordivbig rounded\"><div class=\"hexcolor\">yellow<br>#D9D900<br>(217.0,217.0,0.0)</div></div>"
            ],
            "text/plain": [
              "<IPython.core.display.HTML object>"
            ]
          },
          "metadata": {
            "tags": []
          }
        },
        {
          "output_type": "display_data",
          "data": {
            "text/html": [
              "<div style=\"background-color:#FFFF73;\" class=\"colordivbig rounded\"><div class=\"hexcolor\">yellow<br>#FFFF73<br>(255.0,255.0,115.0)</div></div>"
            ],
            "text/plain": [
              "<IPython.core.display.HTML object>"
            ]
          },
          "metadata": {
            "tags": []
          }
        },
        {
          "output_type": "display_data",
          "data": {
            "text/html": [
              "<div style=\"background-color:#FFEE8F;\" class=\"colordivbig rounded\"><div class=\"hexcolor\">yellow<br>#FFEE8F<br>(255.0,238.0,143.0)</div></div>"
            ],
            "text/plain": [
              "<IPython.core.display.HTML object>"
            ]
          },
          "metadata": {
            "tags": []
          }
        },
        {
          "output_type": "display_data",
          "data": {
            "text/html": [
              "<div style=\"background-color:#EDFF24;\" class=\"colordivbig rounded\"><div class=\"hexcolor\">yellow<br>#EDFF24<br>(237.0,255.0,36.0)</div></div>"
            ],
            "text/plain": [
              "<IPython.core.display.HTML object>"
            ]
          },
          "metadata": {
            "tags": []
          }
        },
        {
          "output_type": "display_data",
          "data": {
            "text/html": [
              "<div style=\"background-color:#FFED24;\" class=\"colordivbig rounded\"><div class=\"hexcolor\">yellow<br>#FFED24<br>(255.0,237.0,36.0)</div></div>"
            ],
            "text/plain": [
              "<IPython.core.display.HTML object>"
            ]
          },
          "metadata": {
            "tags": []
          }
        },
        {
          "output_type": "display_data",
          "data": {
            "text/html": [
              "<div style=\"background-color:#FFD700;\" class=\"colordivbig rounded\"><div class=\"hexcolor\">yellow<br>#FFD700<br>(255.0,215.0,0.0)</div></div>"
            ],
            "text/plain": [
              "<IPython.core.display.HTML object>"
            ]
          },
          "metadata": {
            "tags": []
          }
        },
        {
          "output_type": "display_data",
          "data": {
            "text/html": [
              "<div style=\"background-color:#DAA520;\" class=\"colordivbig rounded\"><div class=\"hexcolor\">yellow<br>#DAA520<br>(218.0,165.0,32.0)</div></div>"
            ],
            "text/plain": [
              "<IPython.core.display.HTML object>"
            ]
          },
          "metadata": {
            "tags": []
          }
        },
        {
          "output_type": "display_data",
          "data": {
            "text/html": [
              "<div style=\"background-color:#F0E68C;\" class=\"colordivbig rounded\"><div class=\"hexcolor\">yellow<br>#F0E68C<br>(240.0,230.0,140.0)</div></div>"
            ],
            "text/plain": [
              "<IPython.core.display.HTML object>"
            ]
          },
          "metadata": {
            "tags": []
          }
        },
        {
          "output_type": "display_data",
          "data": {
            "text/html": [
              "<div style=\"background-color:#F4F3AE;\" class=\"colordivbig rounded\"><div class=\"hexcolor\">yellow<br>#F4F3AE<br>(244.0,243.0,174.0)</div></div>"
            ],
            "text/plain": [
              "<IPython.core.display.HTML object>"
            ]
          },
          "metadata": {
            "tags": []
          }
        },
        {
          "output_type": "display_data",
          "data": {
            "text/html": [
              "<div style=\"background-color:#EEE8AA;\" class=\"colordivbig rounded\"><div class=\"hexcolor\">yellow<br>#EEE8AA<br>(238.0,232.0,170.0)</div></div>"
            ],
            "text/plain": [
              "<IPython.core.display.HTML object>"
            ]
          },
          "metadata": {
            "tags": []
          }
        },
        {
          "output_type": "display_data",
          "data": {
            "text/html": [
              "<div style=\"background-color:#E3B26F;\" class=\"colordivbig rounded\"><div class=\"hexcolor\">yellow<br>#E3B26F<br>(227.0,178.0,111.0)</div></div>"
            ],
            "text/plain": [
              "<IPython.core.display.HTML object>"
            ]
          },
          "metadata": {
            "tags": []
          }
        },
        {
          "output_type": "display_data",
          "data": {
            "text/html": [
              "<div style=\"background-color:#E0C985;\" class=\"colordivbig rounded\"><div class=\"hexcolor\">yellow<br>#E0C985<br>(224.0,201.0,133.0)</div></div>"
            ],
            "text/plain": [
              "<IPython.core.display.HTML object>"
            ]
          },
          "metadata": {
            "tags": []
          }
        }
      ]
    },
    {
      "cell_type": "markdown",
      "metadata": {
        "id": "Jn_cvbeLqKkH"
      },
      "source": [
        "# Define specific colors palete"
      ]
    },
    {
      "cell_type": "code",
      "metadata": {
        "id": "-rwTkmeEqKkH"
      },
      "source": [
        "palette = {\n",
        "    # Pink\n",
        "    'Medium Violet Red': [199, 21, 133],\n",
        "    'Deep Pink': [255, 20, 147],\n",
        "    'Pale Violet Red': [219, 112, 147],\n",
        "    'Hot Pink': [255, 105, 180],\n",
        "    'Light Pink': [255, 182, 193],\n",
        "    'Pink': [255, 192, 203],\n",
        "    \n",
        "    # Red\n",
        "    'Dark Red': [139, 0, 0],\n",
        "    'Red': [255, 0, 0],\n",
        "    'Firebrick': [178, 34, 34],\n",
        "    'Crimson': [220,  20,  60],\n",
        "    'Indian Red': [205,  92,  92],\n",
        "    'Light Coral': [240, 128, 128],\n",
        "    'Salmon': [250, 128, 114],\n",
        "    'Dark Salmon': [233, 150, 122],\n",
        "    'Light Salmon': [255, 160, 122],\n",
        "    \n",
        "    # Orange\n",
        "    'Orange Red': [255,  69,   0],\n",
        "    'Tomato':[255,  99,  71],\n",
        "    'Dark Orange': [255, 140,   0],\n",
        "    'Coral': [255, 127,  80],\n",
        "    'Orange': [255, 165,   0],\n",
        "    \n",
        "    # Yellow\n",
        "    'Dark Khaki': [189, 183, 107],\n",
        "    'Gold': [255, 215,   0],\n",
        "    'Khaki': [240, 230, 140],\n",
        "    'Peach Puff': [255, 218, 185],\n",
        "    'Yellow': [255, 255,   0],\n",
        "    'Pale Goldenrod': [238, 232, 170],\n",
        "    'Moccasin': [255, 228, 181],\n",
        "    'Papaya Whip': [255, 239, 213],\n",
        "    'Light Goldenrod Yellow': [250, 250, 210],\n",
        "    'Lemon Chiffon': [255, 250, 205],\n",
        "    'Light Yellow': [255, 255, 224],\n",
        "    \n",
        "    # Brown\n",
        "    'Maroon': [128,   0,   0],\n",
        "    'Brown': [165,  42,  42],\n",
        "    'Saddle Brown': [139,  69,  19],\n",
        "    'Sienna': [160,  82,  45],\n",
        "    'Chocolate':[160,  82,  45],\n",
        "    'Dark Goldenrod': [184, 134,  11],\n",
        "    'Peru': [205, 133,  63],\n",
        "    'Rosy Brown': [188, 143, 143],\n",
        "    'Goldenrod': [218, 165,  32],\n",
        "    'Sandy Brown': [244, 164,  96],\n",
        "    'Tan': [210, 180, 140],\n",
        "    'Burlywood': [222, 184, 135],\n",
        "    'Wheat': [245, 222, 179],\n",
        "    'Navajo White': [255, 222, 173],\n",
        "    'Bisque': [255, 228, 196],\n",
        "    'Cornsilk': [255, 248, 220],\n",
        "    \n",
        "    # Green\n",
        "    'Dark Green': [0, 100,   0],\n",
        "    'Green': [0, 128, 0],\n",
        "    'Dark Olive Green': [85, 107,  47],\n",
        "    'Forest Green': [34, 139,  34],\n",
        "    'Sea Green': [46, 139,  87],\n",
        "    'Olive': [128, 128, 0],\n",
        "    'Olive Drab': [107, 142,  35],\n",
        "    'MediumSea Green': [60, 179, 113],\n",
        "    'Lime Green': [50, 205,  50],\n",
        "    'Lime': [0, 255,   0],\n",
        "    'Spring Green': [0, 255, 127],\n",
        "    'Medium Spring Green': [0, 250, 154],\n",
        "    'Dark Sea Green': [143, 188, 143],\n",
        "    'Medium Aquamarine': [102, 205, 170],\n",
        "    'Yellow Green': [154, 205,  50],\n",
        "    'Lawn Green': [124, 252, 0],\n",
        "    'Chartreuse': [127, 255, 0],\n",
        "    'Light Green': [144, 238, 144],\n",
        "    'Green Yellow': [173, 255,  47],\n",
        "    'Pale Green': [152, 251, 152],\n",
        "    \n",
        "    # Cyan\n",
        "    'Teal': [0, 128, 128],\n",
        "    'Dark Cyan': [0, 139, 139],\n",
        "    'Light Sea Green': [32, 178, 170],\n",
        "    'Cadet Blue': [95, 158, 160],\n",
        "    'Dark Turquoise': [0, 206, 209],\n",
        "    'Medium Turquoise': [72, 209, 204],\n",
        "    'Turquoise': [64, 224, 208],\n",
        "    'Aqua': [0, 255, 255],\n",
        "    'Aquamarine': [127, 255, 212],\n",
        "    'Pale Turquoise': [175, 238, 238],\n",
        "    'Light Cyan': [224, 255, 255],\n",
        "    \n",
        "    # Blue\n",
        "    'Navy': [0,   0, 128],\n",
        "    'Dark Blue': [0, 0, 139],\n",
        "    'Medium Blue': [0,   0, 205],\n",
        "    'Blue': [0,   0, 255],\n",
        "    'Midnight Blue': [25,  25, 112],\n",
        "    'Royal Blue': [65, 105, 225],\n",
        "    'Steel Blue': [70, 130, 180],\n",
        "    'Dodger Blue': [30, 144, 255],\n",
        "    'Deep Sky Blue': [0, 191, 255],\n",
        "    'Cornflower Blue': [100, 149, 237],\n",
        "    'Sky Blue': [135, 206, 235],\n",
        "    'Light Sky Blue': [135, 206, 250],\n",
        "    'Light Steel Blue': [176, 196, 222],\n",
        "    'Light Blue': [173, 216, 230],\n",
        "    'Powder Blue': [176, 224, 230],\n",
        "    \n",
        "    # Purple \n",
        "    'Indigo': [75, 0, 130],\n",
        "    'Purple': [128,   0, 128],\n",
        "    'Dark Magenta': [139,   0, 139],\n",
        "    'Dark Violet': [148,   0, 211],\n",
        "    'Dark Slate Blue': [72,  61, 139],\n",
        "    'Blue Violet': [138,  43, 226],\n",
        "    'Dark Orchid': [153,  50, 204],\n",
        "    'Fuchsia': [255,   0, 255],\n",
        "    'Magenta': [255,   0, 255],\n",
        "    'Slate Blue': [106,  90, 205],\n",
        "    'Medium Slate Blue': [123, 104, 238],\n",
        "    'Medium Orchid': [186,  85, 211],\n",
        "    'Medium Purple': [147, 112, 219],\n",
        "    'Orchid': [218, 112, 214],\n",
        "    'Violet': [238, 130, 238],\n",
        "    'Plum': [221, 160, 221],\n",
        "    'Thistle': [216, 191, 216],\n",
        "    'Lavender': [230, 230, 250],\n",
        "    \n",
        "    # White\n",
        "    'Misty Rose': [255, 228, 225],\n",
        "    'Antique White': [250, 235, 215],\n",
        "    'Linen': [250, 240, 230],\n",
        "    'Beige': [245, 245, 220],\n",
        "    'White Smoke': [245, 245, 245],\n",
        "    'Lavender Blush': [255, 240, 245],\n",
        "    'Old Lace': [253, 245, 230],\n",
        "    'Alice Blue': [240, 248, 255],\n",
        "    'Seashell': [255, 245, 238],\n",
        "    'Ghost White': [248, 248, 255],\n",
        "    'Honeydew': [240, 255, 240],\n",
        "    'Floral White': [255, 250, 240],\n",
        "    'Azure': [240, 255, 255],\n",
        "    'Mint Cream': [245, 255, 250],\n",
        "    'Snow': [255, 250, 250],\n",
        "    'Ivory': [255, 255, 240],\n",
        "    'White': [255, 255, 255],\n",
        "    \n",
        "    # Gray and black\n",
        "    'Black_0': [0, 0, 0],\n",
        "    'Black_1': [0, 0, 0],\n",
        "    'Black_2': [4, 5, 6], \n",
        "    'Black_3': [13, 13, 13], \n",
        "    'Black_4': [26, 26, 26], \n",
        "    'Black_5': [30, 30, 30],\n",
        "    'Black_6': [40, 40, 40],\n",
        "    'Black_7': [17, 16, 9], \n",
        "    'Black_8': [13, 2, 19],\n",
        "    'Black_9': [24,25,29],\n",
        "    'Black_10': [22,23,27],\n",
        "    'Black_11': [25,26,30],\n",
        "    'Black_12': [26,27,32],\n",
        "    'Black_13': [24,25,27],\n",
        "    'Black_14': [23,28,31],\n",
        "    'Black_15': [30,33,38],\n",
        "    'Black_16': [32,34,39],\n",
        "    'Black_17': [28,31,36],\n",
        "    'Black_18': [33,31,36],\n",
        "    'Black_19': [34,33,38],\n",
        "    'Black_20': [37,32,35],\n",
        "    'Black_21': [34,33,38],\n",
        "    'Black_22': [32,29,35],\n",
        "    'Black_23': [39,36,43],\n",
        "    'Black_24': [43,38,35],\n",
        "    'Black_25': [45,41,38],\n",
        "    'Black_26': [46,41,38],\n",
        "    'Black_27': [54,46,44],\n",
        "    'Black_28': [47,43,43],\n",
        "    'Dark Slate Gray': [47,  79,  79],\n",
        "    'Dim Gray': [105, 105, 105],\n",
        "    'Slate Gray': [112, 128, 144],\n",
        "    'Gray': [128, 128, 128],\n",
        "    'Light Slate Gray': [119, 136, 153],\n",
        "    'Dark Gray': [169, 169, 169],\n",
        "    'Silver': [192, 192, 192],\n",
        "    'Light Gray': [211, 211, 211],\n",
        "    'Gainsboro': [220, 220, 220]\n",
        "}"
      ],
      "execution_count": 8,
      "outputs": []
    },
    {
      "cell_type": "code",
      "metadata": {
        "id": "BvXOGBLXqKkH"
      },
      "source": [
        "specific_colors = np.array(list(palette.values()), 'float32').tolist()\n",
        "specific_color_names = list(palette.keys())\n",
        "specific_color_names = [x if 'Black' not in x else 'Black' for x in specific_color_names]"
      ],
      "execution_count": 9,
      "outputs": []
    },
    {
      "cell_type": "code",
      "metadata": {
        "id": "yJeaqdA3qKkH"
      },
      "source": [
        "specific_colors_lab = rgb2lab(specific_colors)"
      ],
      "execution_count": 10,
      "outputs": []
    },
    {
      "cell_type": "code",
      "metadata": {
        "id": "4x5eaiRKivbz"
      },
      "source": [
        "specific_colors_cashe = create_cache(specific_colors_lab, pixels_lab, specific_color_names, mode='TIME')"
      ],
      "execution_count": null,
      "outputs": []
    },
    {
      "cell_type": "code",
      "metadata": {
        "id": "xQ1IxK2jqKkI"
      },
      "source": [
        "with open('/content/drive/MyDrive/Colab Notebooks/segmentation/specific_colors_cashe_last.pickle', 'wb') as f:\n",
        "    pickle.dump(specific_colors_cashe, f)"
      ],
      "execution_count": null,
      "outputs": []
    },
    {
      "cell_type": "code",
      "metadata": {
        "id": "2VqIr5koqKkI"
      },
      "source": [
        "with open('/content/drive/MyDrive/Colab Notebooks/segmentation/specific_color_names_last.pickle', 'wb') as f:\n",
        "    pickle.dump(specific_color_names, f)"
      ],
      "execution_count": null,
      "outputs": []
    },
    {
      "cell_type": "code",
      "metadata": {
        "id": "SRCsGTNUqKkI",
        "scrolled": true,
        "outputId": "8200e04d-5967-4363-926b-1c163d74e3fc"
      },
      "source": [
        "for i, rgb in enumerate(specific_colors):\n",
        "    color_name = specific_color_names[i]\n",
        "    color_hex_code = rgb2hex(int(rgb[0]), int(rgb[1]), int(rgb[2]))\n",
        "    display(HTML(f'<div style=\"background-color:{color_hex_code};\" class=\"colordivbig rounded\"><div class=\"hexcolor\">{color_name}<br>{color_hex_code}<br>({rgb[0]},{rgb[1]},{rgb[2]})</div></div>'))"
      ],
      "execution_count": null,
      "outputs": [
        {
          "output_type": "display_data",
          "data": {
            "text/html": [
              "<div style=\"background-color:#C71585;\" class=\"colordivbig rounded\"><div class=\"hexcolor\">Medium Violet Red<br>#C71585<br>(199.0,21.0,133.0)</div></div>"
            ],
            "text/plain": [
              "<IPython.core.display.HTML object>"
            ]
          },
          "metadata": {
            "tags": []
          }
        },
        {
          "output_type": "display_data",
          "data": {
            "text/html": [
              "<div style=\"background-color:#FF1493;\" class=\"colordivbig rounded\"><div class=\"hexcolor\">Deep Pink<br>#FF1493<br>(255.0,20.0,147.0)</div></div>"
            ],
            "text/plain": [
              "<IPython.core.display.HTML object>"
            ]
          },
          "metadata": {
            "tags": []
          }
        },
        {
          "output_type": "display_data",
          "data": {
            "text/html": [
              "<div style=\"background-color:#DB7093;\" class=\"colordivbig rounded\"><div class=\"hexcolor\">Pale Violet Red<br>#DB7093<br>(219.0,112.0,147.0)</div></div>"
            ],
            "text/plain": [
              "<IPython.core.display.HTML object>"
            ]
          },
          "metadata": {
            "tags": []
          }
        },
        {
          "output_type": "display_data",
          "data": {
            "text/html": [
              "<div style=\"background-color:#FF69B4;\" class=\"colordivbig rounded\"><div class=\"hexcolor\">Hot Pink<br>#FF69B4<br>(255.0,105.0,180.0)</div></div>"
            ],
            "text/plain": [
              "<IPython.core.display.HTML object>"
            ]
          },
          "metadata": {
            "tags": []
          }
        },
        {
          "output_type": "display_data",
          "data": {
            "text/html": [
              "<div style=\"background-color:#FFB6C1;\" class=\"colordivbig rounded\"><div class=\"hexcolor\">Light Pink<br>#FFB6C1<br>(255.0,182.0,193.0)</div></div>"
            ],
            "text/plain": [
              "<IPython.core.display.HTML object>"
            ]
          },
          "metadata": {
            "tags": []
          }
        },
        {
          "output_type": "display_data",
          "data": {
            "text/html": [
              "<div style=\"background-color:#FFC0CB;\" class=\"colordivbig rounded\"><div class=\"hexcolor\">Pink<br>#FFC0CB<br>(255.0,192.0,203.0)</div></div>"
            ],
            "text/plain": [
              "<IPython.core.display.HTML object>"
            ]
          },
          "metadata": {
            "tags": []
          }
        },
        {
          "output_type": "display_data",
          "data": {
            "text/html": [
              "<div style=\"background-color:#8B0000;\" class=\"colordivbig rounded\"><div class=\"hexcolor\">Dark Red<br>#8B0000<br>(139.0,0.0,0.0)</div></div>"
            ],
            "text/plain": [
              "<IPython.core.display.HTML object>"
            ]
          },
          "metadata": {
            "tags": []
          }
        },
        {
          "output_type": "display_data",
          "data": {
            "text/html": [
              "<div style=\"background-color:#FF0000;\" class=\"colordivbig rounded\"><div class=\"hexcolor\">Red<br>#FF0000<br>(255.0,0.0,0.0)</div></div>"
            ],
            "text/plain": [
              "<IPython.core.display.HTML object>"
            ]
          },
          "metadata": {
            "tags": []
          }
        },
        {
          "output_type": "display_data",
          "data": {
            "text/html": [
              "<div style=\"background-color:#B22222;\" class=\"colordivbig rounded\"><div class=\"hexcolor\">Firebrick<br>#B22222<br>(178.0,34.0,34.0)</div></div>"
            ],
            "text/plain": [
              "<IPython.core.display.HTML object>"
            ]
          },
          "metadata": {
            "tags": []
          }
        },
        {
          "output_type": "display_data",
          "data": {
            "text/html": [
              "<div style=\"background-color:#DC143C;\" class=\"colordivbig rounded\"><div class=\"hexcolor\">Crimson<br>#DC143C<br>(220.0,20.0,60.0)</div></div>"
            ],
            "text/plain": [
              "<IPython.core.display.HTML object>"
            ]
          },
          "metadata": {
            "tags": []
          }
        },
        {
          "output_type": "display_data",
          "data": {
            "text/html": [
              "<div style=\"background-color:#CD5C5C;\" class=\"colordivbig rounded\"><div class=\"hexcolor\">Indian Red<br>#CD5C5C<br>(205.0,92.0,92.0)</div></div>"
            ],
            "text/plain": [
              "<IPython.core.display.HTML object>"
            ]
          },
          "metadata": {
            "tags": []
          }
        },
        {
          "output_type": "display_data",
          "data": {
            "text/html": [
              "<div style=\"background-color:#F08080;\" class=\"colordivbig rounded\"><div class=\"hexcolor\">Light Coral<br>#F08080<br>(240.0,128.0,128.0)</div></div>"
            ],
            "text/plain": [
              "<IPython.core.display.HTML object>"
            ]
          },
          "metadata": {
            "tags": []
          }
        },
        {
          "output_type": "display_data",
          "data": {
            "text/html": [
              "<div style=\"background-color:#FA8072;\" class=\"colordivbig rounded\"><div class=\"hexcolor\">Salmon<br>#FA8072<br>(250.0,128.0,114.0)</div></div>"
            ],
            "text/plain": [
              "<IPython.core.display.HTML object>"
            ]
          },
          "metadata": {
            "tags": []
          }
        },
        {
          "output_type": "display_data",
          "data": {
            "text/html": [
              "<div style=\"background-color:#E9967A;\" class=\"colordivbig rounded\"><div class=\"hexcolor\">Dark Salmon<br>#E9967A<br>(233.0,150.0,122.0)</div></div>"
            ],
            "text/plain": [
              "<IPython.core.display.HTML object>"
            ]
          },
          "metadata": {
            "tags": []
          }
        },
        {
          "output_type": "display_data",
          "data": {
            "text/html": [
              "<div style=\"background-color:#FFA07A;\" class=\"colordivbig rounded\"><div class=\"hexcolor\">Light Salmon<br>#FFA07A<br>(255.0,160.0,122.0)</div></div>"
            ],
            "text/plain": [
              "<IPython.core.display.HTML object>"
            ]
          },
          "metadata": {
            "tags": []
          }
        },
        {
          "output_type": "display_data",
          "data": {
            "text/html": [
              "<div style=\"background-color:#FF4500;\" class=\"colordivbig rounded\"><div class=\"hexcolor\">Orange Red<br>#FF4500<br>(255.0,69.0,0.0)</div></div>"
            ],
            "text/plain": [
              "<IPython.core.display.HTML object>"
            ]
          },
          "metadata": {
            "tags": []
          }
        },
        {
          "output_type": "display_data",
          "data": {
            "text/html": [
              "<div style=\"background-color:#FF6347;\" class=\"colordivbig rounded\"><div class=\"hexcolor\">Tomato<br>#FF6347<br>(255.0,99.0,71.0)</div></div>"
            ],
            "text/plain": [
              "<IPython.core.display.HTML object>"
            ]
          },
          "metadata": {
            "tags": []
          }
        },
        {
          "output_type": "display_data",
          "data": {
            "text/html": [
              "<div style=\"background-color:#FF8C00;\" class=\"colordivbig rounded\"><div class=\"hexcolor\">Dark Orange<br>#FF8C00<br>(255.0,140.0,0.0)</div></div>"
            ],
            "text/plain": [
              "<IPython.core.display.HTML object>"
            ]
          },
          "metadata": {
            "tags": []
          }
        },
        {
          "output_type": "display_data",
          "data": {
            "text/html": [
              "<div style=\"background-color:#FF7F50;\" class=\"colordivbig rounded\"><div class=\"hexcolor\">Coral<br>#FF7F50<br>(255.0,127.0,80.0)</div></div>"
            ],
            "text/plain": [
              "<IPython.core.display.HTML object>"
            ]
          },
          "metadata": {
            "tags": []
          }
        },
        {
          "output_type": "display_data",
          "data": {
            "text/html": [
              "<div style=\"background-color:#FFA500;\" class=\"colordivbig rounded\"><div class=\"hexcolor\">Orange<br>#FFA500<br>(255.0,165.0,0.0)</div></div>"
            ],
            "text/plain": [
              "<IPython.core.display.HTML object>"
            ]
          },
          "metadata": {
            "tags": []
          }
        },
        {
          "output_type": "display_data",
          "data": {
            "text/html": [
              "<div style=\"background-color:#BDB76B;\" class=\"colordivbig rounded\"><div class=\"hexcolor\">Dark Khaki<br>#BDB76B<br>(189.0,183.0,107.0)</div></div>"
            ],
            "text/plain": [
              "<IPython.core.display.HTML object>"
            ]
          },
          "metadata": {
            "tags": []
          }
        },
        {
          "output_type": "display_data",
          "data": {
            "text/html": [
              "<div style=\"background-color:#FFD700;\" class=\"colordivbig rounded\"><div class=\"hexcolor\">Gold<br>#FFD700<br>(255.0,215.0,0.0)</div></div>"
            ],
            "text/plain": [
              "<IPython.core.display.HTML object>"
            ]
          },
          "metadata": {
            "tags": []
          }
        },
        {
          "output_type": "display_data",
          "data": {
            "text/html": [
              "<div style=\"background-color:#F0E68C;\" class=\"colordivbig rounded\"><div class=\"hexcolor\">Khaki<br>#F0E68C<br>(240.0,230.0,140.0)</div></div>"
            ],
            "text/plain": [
              "<IPython.core.display.HTML object>"
            ]
          },
          "metadata": {
            "tags": []
          }
        },
        {
          "output_type": "display_data",
          "data": {
            "text/html": [
              "<div style=\"background-color:#FFDAB9;\" class=\"colordivbig rounded\"><div class=\"hexcolor\">Peach Puff<br>#FFDAB9<br>(255.0,218.0,185.0)</div></div>"
            ],
            "text/plain": [
              "<IPython.core.display.HTML object>"
            ]
          },
          "metadata": {
            "tags": []
          }
        },
        {
          "output_type": "display_data",
          "data": {
            "text/html": [
              "<div style=\"background-color:#FFFF00;\" class=\"colordivbig rounded\"><div class=\"hexcolor\">Yellow<br>#FFFF00<br>(255.0,255.0,0.0)</div></div>"
            ],
            "text/plain": [
              "<IPython.core.display.HTML object>"
            ]
          },
          "metadata": {
            "tags": []
          }
        },
        {
          "output_type": "display_data",
          "data": {
            "text/html": [
              "<div style=\"background-color:#EEE8AA;\" class=\"colordivbig rounded\"><div class=\"hexcolor\">Pale Goldenrod<br>#EEE8AA<br>(238.0,232.0,170.0)</div></div>"
            ],
            "text/plain": [
              "<IPython.core.display.HTML object>"
            ]
          },
          "metadata": {
            "tags": []
          }
        },
        {
          "output_type": "display_data",
          "data": {
            "text/html": [
              "<div style=\"background-color:#FFE4B5;\" class=\"colordivbig rounded\"><div class=\"hexcolor\">Moccasin<br>#FFE4B5<br>(255.0,228.0,181.0)</div></div>"
            ],
            "text/plain": [
              "<IPython.core.display.HTML object>"
            ]
          },
          "metadata": {
            "tags": []
          }
        },
        {
          "output_type": "display_data",
          "data": {
            "text/html": [
              "<div style=\"background-color:#FFEFD5;\" class=\"colordivbig rounded\"><div class=\"hexcolor\">Papaya Whip<br>#FFEFD5<br>(255.0,239.0,213.0)</div></div>"
            ],
            "text/plain": [
              "<IPython.core.display.HTML object>"
            ]
          },
          "metadata": {
            "tags": []
          }
        },
        {
          "output_type": "display_data",
          "data": {
            "text/html": [
              "<div style=\"background-color:#FAFAD2;\" class=\"colordivbig rounded\"><div class=\"hexcolor\">Light Goldenrod Yellow<br>#FAFAD2<br>(250.0,250.0,210.0)</div></div>"
            ],
            "text/plain": [
              "<IPython.core.display.HTML object>"
            ]
          },
          "metadata": {
            "tags": []
          }
        },
        {
          "output_type": "display_data",
          "data": {
            "text/html": [
              "<div style=\"background-color:#FFFACD;\" class=\"colordivbig rounded\"><div class=\"hexcolor\">Lemon Chiffon<br>#FFFACD<br>(255.0,250.0,205.0)</div></div>"
            ],
            "text/plain": [
              "<IPython.core.display.HTML object>"
            ]
          },
          "metadata": {
            "tags": []
          }
        },
        {
          "output_type": "display_data",
          "data": {
            "text/html": [
              "<div style=\"background-color:#FFFFE0;\" class=\"colordivbig rounded\"><div class=\"hexcolor\">Light Yellow<br>#FFFFE0<br>(255.0,255.0,224.0)</div></div>"
            ],
            "text/plain": [
              "<IPython.core.display.HTML object>"
            ]
          },
          "metadata": {
            "tags": []
          }
        },
        {
          "output_type": "display_data",
          "data": {
            "text/html": [
              "<div style=\"background-color:#800000;\" class=\"colordivbig rounded\"><div class=\"hexcolor\">Maroon<br>#800000<br>(128.0,0.0,0.0)</div></div>"
            ],
            "text/plain": [
              "<IPython.core.display.HTML object>"
            ]
          },
          "metadata": {
            "tags": []
          }
        },
        {
          "output_type": "display_data",
          "data": {
            "text/html": [
              "<div style=\"background-color:#A52A2A;\" class=\"colordivbig rounded\"><div class=\"hexcolor\">Brown<br>#A52A2A<br>(165.0,42.0,42.0)</div></div>"
            ],
            "text/plain": [
              "<IPython.core.display.HTML object>"
            ]
          },
          "metadata": {
            "tags": []
          }
        },
        {
          "output_type": "display_data",
          "data": {
            "text/html": [
              "<div style=\"background-color:#8B4513;\" class=\"colordivbig rounded\"><div class=\"hexcolor\">Saddle Brown<br>#8B4513<br>(139.0,69.0,19.0)</div></div>"
            ],
            "text/plain": [
              "<IPython.core.display.HTML object>"
            ]
          },
          "metadata": {
            "tags": []
          }
        },
        {
          "output_type": "display_data",
          "data": {
            "text/html": [
              "<div style=\"background-color:#A0522D;\" class=\"colordivbig rounded\"><div class=\"hexcolor\">Sienna<br>#A0522D<br>(160.0,82.0,45.0)</div></div>"
            ],
            "text/plain": [
              "<IPython.core.display.HTML object>"
            ]
          },
          "metadata": {
            "tags": []
          }
        },
        {
          "output_type": "display_data",
          "data": {
            "text/html": [
              "<div style=\"background-color:#A0522D;\" class=\"colordivbig rounded\"><div class=\"hexcolor\">Chocolate<br>#A0522D<br>(160.0,82.0,45.0)</div></div>"
            ],
            "text/plain": [
              "<IPython.core.display.HTML object>"
            ]
          },
          "metadata": {
            "tags": []
          }
        },
        {
          "output_type": "display_data",
          "data": {
            "text/html": [
              "<div style=\"background-color:#B8860B;\" class=\"colordivbig rounded\"><div class=\"hexcolor\">Dark Goldenrod<br>#B8860B<br>(184.0,134.0,11.0)</div></div>"
            ],
            "text/plain": [
              "<IPython.core.display.HTML object>"
            ]
          },
          "metadata": {
            "tags": []
          }
        },
        {
          "output_type": "display_data",
          "data": {
            "text/html": [
              "<div style=\"background-color:#CD853F;\" class=\"colordivbig rounded\"><div class=\"hexcolor\">Peru<br>#CD853F<br>(205.0,133.0,63.0)</div></div>"
            ],
            "text/plain": [
              "<IPython.core.display.HTML object>"
            ]
          },
          "metadata": {
            "tags": []
          }
        },
        {
          "output_type": "display_data",
          "data": {
            "text/html": [
              "<div style=\"background-color:#BC8F8F;\" class=\"colordivbig rounded\"><div class=\"hexcolor\">Rosy Brown<br>#BC8F8F<br>(188.0,143.0,143.0)</div></div>"
            ],
            "text/plain": [
              "<IPython.core.display.HTML object>"
            ]
          },
          "metadata": {
            "tags": []
          }
        },
        {
          "output_type": "display_data",
          "data": {
            "text/html": [
              "<div style=\"background-color:#DAA520;\" class=\"colordivbig rounded\"><div class=\"hexcolor\">Goldenrod<br>#DAA520<br>(218.0,165.0,32.0)</div></div>"
            ],
            "text/plain": [
              "<IPython.core.display.HTML object>"
            ]
          },
          "metadata": {
            "tags": []
          }
        },
        {
          "output_type": "display_data",
          "data": {
            "text/html": [
              "<div style=\"background-color:#F4A460;\" class=\"colordivbig rounded\"><div class=\"hexcolor\">Sandy Brown<br>#F4A460<br>(244.0,164.0,96.0)</div></div>"
            ],
            "text/plain": [
              "<IPython.core.display.HTML object>"
            ]
          },
          "metadata": {
            "tags": []
          }
        },
        {
          "output_type": "display_data",
          "data": {
            "text/html": [
              "<div style=\"background-color:#D2B48C;\" class=\"colordivbig rounded\"><div class=\"hexcolor\">Tan<br>#D2B48C<br>(210.0,180.0,140.0)</div></div>"
            ],
            "text/plain": [
              "<IPython.core.display.HTML object>"
            ]
          },
          "metadata": {
            "tags": []
          }
        },
        {
          "output_type": "display_data",
          "data": {
            "text/html": [
              "<div style=\"background-color:#DEB887;\" class=\"colordivbig rounded\"><div class=\"hexcolor\">Burlywood<br>#DEB887<br>(222.0,184.0,135.0)</div></div>"
            ],
            "text/plain": [
              "<IPython.core.display.HTML object>"
            ]
          },
          "metadata": {
            "tags": []
          }
        },
        {
          "output_type": "display_data",
          "data": {
            "text/html": [
              "<div style=\"background-color:#F5DEB3;\" class=\"colordivbig rounded\"><div class=\"hexcolor\">Wheat<br>#F5DEB3<br>(245.0,222.0,179.0)</div></div>"
            ],
            "text/plain": [
              "<IPython.core.display.HTML object>"
            ]
          },
          "metadata": {
            "tags": []
          }
        },
        {
          "output_type": "display_data",
          "data": {
            "text/html": [
              "<div style=\"background-color:#FFDEAD;\" class=\"colordivbig rounded\"><div class=\"hexcolor\">Navajo White<br>#FFDEAD<br>(255.0,222.0,173.0)</div></div>"
            ],
            "text/plain": [
              "<IPython.core.display.HTML object>"
            ]
          },
          "metadata": {
            "tags": []
          }
        },
        {
          "output_type": "display_data",
          "data": {
            "text/html": [
              "<div style=\"background-color:#FFE4C4;\" class=\"colordivbig rounded\"><div class=\"hexcolor\">Bisque<br>#FFE4C4<br>(255.0,228.0,196.0)</div></div>"
            ],
            "text/plain": [
              "<IPython.core.display.HTML object>"
            ]
          },
          "metadata": {
            "tags": []
          }
        },
        {
          "output_type": "display_data",
          "data": {
            "text/html": [
              "<div style=\"background-color:#FFF8DC;\" class=\"colordivbig rounded\"><div class=\"hexcolor\">Cornsilk<br>#FFF8DC<br>(255.0,248.0,220.0)</div></div>"
            ],
            "text/plain": [
              "<IPython.core.display.HTML object>"
            ]
          },
          "metadata": {
            "tags": []
          }
        },
        {
          "output_type": "display_data",
          "data": {
            "text/html": [
              "<div style=\"background-color:#006400;\" class=\"colordivbig rounded\"><div class=\"hexcolor\">Dark Green<br>#006400<br>(0.0,100.0,0.0)</div></div>"
            ],
            "text/plain": [
              "<IPython.core.display.HTML object>"
            ]
          },
          "metadata": {
            "tags": []
          }
        },
        {
          "output_type": "display_data",
          "data": {
            "text/html": [
              "<div style=\"background-color:#008000;\" class=\"colordivbig rounded\"><div class=\"hexcolor\">Green<br>#008000<br>(0.0,128.0,0.0)</div></div>"
            ],
            "text/plain": [
              "<IPython.core.display.HTML object>"
            ]
          },
          "metadata": {
            "tags": []
          }
        },
        {
          "output_type": "display_data",
          "data": {
            "text/html": [
              "<div style=\"background-color:#556B2F;\" class=\"colordivbig rounded\"><div class=\"hexcolor\">Dark Olive Green<br>#556B2F<br>(85.0,107.0,47.0)</div></div>"
            ],
            "text/plain": [
              "<IPython.core.display.HTML object>"
            ]
          },
          "metadata": {
            "tags": []
          }
        },
        {
          "output_type": "display_data",
          "data": {
            "text/html": [
              "<div style=\"background-color:#228B22;\" class=\"colordivbig rounded\"><div class=\"hexcolor\">Forest Green<br>#228B22<br>(34.0,139.0,34.0)</div></div>"
            ],
            "text/plain": [
              "<IPython.core.display.HTML object>"
            ]
          },
          "metadata": {
            "tags": []
          }
        },
        {
          "output_type": "display_data",
          "data": {
            "text/html": [
              "<div style=\"background-color:#2E8B57;\" class=\"colordivbig rounded\"><div class=\"hexcolor\">Sea Green<br>#2E8B57<br>(46.0,139.0,87.0)</div></div>"
            ],
            "text/plain": [
              "<IPython.core.display.HTML object>"
            ]
          },
          "metadata": {
            "tags": []
          }
        },
        {
          "output_type": "display_data",
          "data": {
            "text/html": [
              "<div style=\"background-color:#808000;\" class=\"colordivbig rounded\"><div class=\"hexcolor\">Olive<br>#808000<br>(128.0,128.0,0.0)</div></div>"
            ],
            "text/plain": [
              "<IPython.core.display.HTML object>"
            ]
          },
          "metadata": {
            "tags": []
          }
        },
        {
          "output_type": "display_data",
          "data": {
            "text/html": [
              "<div style=\"background-color:#6B8E23;\" class=\"colordivbig rounded\"><div class=\"hexcolor\">Olive Drab<br>#6B8E23<br>(107.0,142.0,35.0)</div></div>"
            ],
            "text/plain": [
              "<IPython.core.display.HTML object>"
            ]
          },
          "metadata": {
            "tags": []
          }
        },
        {
          "output_type": "display_data",
          "data": {
            "text/html": [
              "<div style=\"background-color:#3CB371;\" class=\"colordivbig rounded\"><div class=\"hexcolor\">MediumSea Green<br>#3CB371<br>(60.0,179.0,113.0)</div></div>"
            ],
            "text/plain": [
              "<IPython.core.display.HTML object>"
            ]
          },
          "metadata": {
            "tags": []
          }
        },
        {
          "output_type": "display_data",
          "data": {
            "text/html": [
              "<div style=\"background-color:#32CD32;\" class=\"colordivbig rounded\"><div class=\"hexcolor\">Lime Green<br>#32CD32<br>(50.0,205.0,50.0)</div></div>"
            ],
            "text/plain": [
              "<IPython.core.display.HTML object>"
            ]
          },
          "metadata": {
            "tags": []
          }
        },
        {
          "output_type": "display_data",
          "data": {
            "text/html": [
              "<div style=\"background-color:#00FF00;\" class=\"colordivbig rounded\"><div class=\"hexcolor\">Lime<br>#00FF00<br>(0.0,255.0,0.0)</div></div>"
            ],
            "text/plain": [
              "<IPython.core.display.HTML object>"
            ]
          },
          "metadata": {
            "tags": []
          }
        },
        {
          "output_type": "display_data",
          "data": {
            "text/html": [
              "<div style=\"background-color:#00FF7F;\" class=\"colordivbig rounded\"><div class=\"hexcolor\">Spring Green<br>#00FF7F<br>(0.0,255.0,127.0)</div></div>"
            ],
            "text/plain": [
              "<IPython.core.display.HTML object>"
            ]
          },
          "metadata": {
            "tags": []
          }
        },
        {
          "output_type": "display_data",
          "data": {
            "text/html": [
              "<div style=\"background-color:#00FA9A;\" class=\"colordivbig rounded\"><div class=\"hexcolor\">Medium Spring Green<br>#00FA9A<br>(0.0,250.0,154.0)</div></div>"
            ],
            "text/plain": [
              "<IPython.core.display.HTML object>"
            ]
          },
          "metadata": {
            "tags": []
          }
        },
        {
          "output_type": "display_data",
          "data": {
            "text/html": [
              "<div style=\"background-color:#8FBC8F;\" class=\"colordivbig rounded\"><div class=\"hexcolor\">Dark Sea Green<br>#8FBC8F<br>(143.0,188.0,143.0)</div></div>"
            ],
            "text/plain": [
              "<IPython.core.display.HTML object>"
            ]
          },
          "metadata": {
            "tags": []
          }
        },
        {
          "output_type": "display_data",
          "data": {
            "text/html": [
              "<div style=\"background-color:#66CDAA;\" class=\"colordivbig rounded\"><div class=\"hexcolor\">Medium Aquamarine<br>#66CDAA<br>(102.0,205.0,170.0)</div></div>"
            ],
            "text/plain": [
              "<IPython.core.display.HTML object>"
            ]
          },
          "metadata": {
            "tags": []
          }
        },
        {
          "output_type": "display_data",
          "data": {
            "text/html": [
              "<div style=\"background-color:#9ACD32;\" class=\"colordivbig rounded\"><div class=\"hexcolor\">Yellow Green<br>#9ACD32<br>(154.0,205.0,50.0)</div></div>"
            ],
            "text/plain": [
              "<IPython.core.display.HTML object>"
            ]
          },
          "metadata": {
            "tags": []
          }
        },
        {
          "output_type": "display_data",
          "data": {
            "text/html": [
              "<div style=\"background-color:#7CFC00;\" class=\"colordivbig rounded\"><div class=\"hexcolor\">Lawn Green<br>#7CFC00<br>(124.0,252.0,0.0)</div></div>"
            ],
            "text/plain": [
              "<IPython.core.display.HTML object>"
            ]
          },
          "metadata": {
            "tags": []
          }
        },
        {
          "output_type": "display_data",
          "data": {
            "text/html": [
              "<div style=\"background-color:#7FFF00;\" class=\"colordivbig rounded\"><div class=\"hexcolor\">Chartreuse<br>#7FFF00<br>(127.0,255.0,0.0)</div></div>"
            ],
            "text/plain": [
              "<IPython.core.display.HTML object>"
            ]
          },
          "metadata": {
            "tags": []
          }
        },
        {
          "output_type": "display_data",
          "data": {
            "text/html": [
              "<div style=\"background-color:#90EE90;\" class=\"colordivbig rounded\"><div class=\"hexcolor\">Light Green<br>#90EE90<br>(144.0,238.0,144.0)</div></div>"
            ],
            "text/plain": [
              "<IPython.core.display.HTML object>"
            ]
          },
          "metadata": {
            "tags": []
          }
        },
        {
          "output_type": "display_data",
          "data": {
            "text/html": [
              "<div style=\"background-color:#ADFF2F;\" class=\"colordivbig rounded\"><div class=\"hexcolor\">Green Yellow<br>#ADFF2F<br>(173.0,255.0,47.0)</div></div>"
            ],
            "text/plain": [
              "<IPython.core.display.HTML object>"
            ]
          },
          "metadata": {
            "tags": []
          }
        },
        {
          "output_type": "display_data",
          "data": {
            "text/html": [
              "<div style=\"background-color:#98FB98;\" class=\"colordivbig rounded\"><div class=\"hexcolor\">Pale Green<br>#98FB98<br>(152.0,251.0,152.0)</div></div>"
            ],
            "text/plain": [
              "<IPython.core.display.HTML object>"
            ]
          },
          "metadata": {
            "tags": []
          }
        },
        {
          "output_type": "display_data",
          "data": {
            "text/html": [
              "<div style=\"background-color:#008080;\" class=\"colordivbig rounded\"><div class=\"hexcolor\">Teal<br>#008080<br>(0.0,128.0,128.0)</div></div>"
            ],
            "text/plain": [
              "<IPython.core.display.HTML object>"
            ]
          },
          "metadata": {
            "tags": []
          }
        },
        {
          "output_type": "display_data",
          "data": {
            "text/html": [
              "<div style=\"background-color:#008B8B;\" class=\"colordivbig rounded\"><div class=\"hexcolor\">Dark Cyan<br>#008B8B<br>(0.0,139.0,139.0)</div></div>"
            ],
            "text/plain": [
              "<IPython.core.display.HTML object>"
            ]
          },
          "metadata": {
            "tags": []
          }
        },
        {
          "output_type": "display_data",
          "data": {
            "text/html": [
              "<div style=\"background-color:#20B2AA;\" class=\"colordivbig rounded\"><div class=\"hexcolor\">Light Sea Green<br>#20B2AA<br>(32.0,178.0,170.0)</div></div>"
            ],
            "text/plain": [
              "<IPython.core.display.HTML object>"
            ]
          },
          "metadata": {
            "tags": []
          }
        },
        {
          "output_type": "display_data",
          "data": {
            "text/html": [
              "<div style=\"background-color:#5F9EA0;\" class=\"colordivbig rounded\"><div class=\"hexcolor\">Cadet Blue<br>#5F9EA0<br>(95.0,158.0,160.0)</div></div>"
            ],
            "text/plain": [
              "<IPython.core.display.HTML object>"
            ]
          },
          "metadata": {
            "tags": []
          }
        },
        {
          "output_type": "display_data",
          "data": {
            "text/html": [
              "<div style=\"background-color:#00CED1;\" class=\"colordivbig rounded\"><div class=\"hexcolor\">Dark Turquoise<br>#00CED1<br>(0.0,206.0,209.0)</div></div>"
            ],
            "text/plain": [
              "<IPython.core.display.HTML object>"
            ]
          },
          "metadata": {
            "tags": []
          }
        },
        {
          "output_type": "display_data",
          "data": {
            "text/html": [
              "<div style=\"background-color:#48D1CC;\" class=\"colordivbig rounded\"><div class=\"hexcolor\">Medium Turquoise<br>#48D1CC<br>(72.0,209.0,204.0)</div></div>"
            ],
            "text/plain": [
              "<IPython.core.display.HTML object>"
            ]
          },
          "metadata": {
            "tags": []
          }
        },
        {
          "output_type": "display_data",
          "data": {
            "text/html": [
              "<div style=\"background-color:#40E0D0;\" class=\"colordivbig rounded\"><div class=\"hexcolor\">Turquoise<br>#40E0D0<br>(64.0,224.0,208.0)</div></div>"
            ],
            "text/plain": [
              "<IPython.core.display.HTML object>"
            ]
          },
          "metadata": {
            "tags": []
          }
        },
        {
          "output_type": "display_data",
          "data": {
            "text/html": [
              "<div style=\"background-color:#00FFFF;\" class=\"colordivbig rounded\"><div class=\"hexcolor\">Aqua<br>#00FFFF<br>(0.0,255.0,255.0)</div></div>"
            ],
            "text/plain": [
              "<IPython.core.display.HTML object>"
            ]
          },
          "metadata": {
            "tags": []
          }
        },
        {
          "output_type": "display_data",
          "data": {
            "text/html": [
              "<div style=\"background-color:#7FFFD4;\" class=\"colordivbig rounded\"><div class=\"hexcolor\">Aquamarine<br>#7FFFD4<br>(127.0,255.0,212.0)</div></div>"
            ],
            "text/plain": [
              "<IPython.core.display.HTML object>"
            ]
          },
          "metadata": {
            "tags": []
          }
        },
        {
          "output_type": "display_data",
          "data": {
            "text/html": [
              "<div style=\"background-color:#AFEEEE;\" class=\"colordivbig rounded\"><div class=\"hexcolor\">Pale Turquoise<br>#AFEEEE<br>(175.0,238.0,238.0)</div></div>"
            ],
            "text/plain": [
              "<IPython.core.display.HTML object>"
            ]
          },
          "metadata": {
            "tags": []
          }
        },
        {
          "output_type": "display_data",
          "data": {
            "text/html": [
              "<div style=\"background-color:#E0FFFF;\" class=\"colordivbig rounded\"><div class=\"hexcolor\">Light Cyan<br>#E0FFFF<br>(224.0,255.0,255.0)</div></div>"
            ],
            "text/plain": [
              "<IPython.core.display.HTML object>"
            ]
          },
          "metadata": {
            "tags": []
          }
        },
        {
          "output_type": "display_data",
          "data": {
            "text/html": [
              "<div style=\"background-color:#000080;\" class=\"colordivbig rounded\"><div class=\"hexcolor\">Navy<br>#000080<br>(0.0,0.0,128.0)</div></div>"
            ],
            "text/plain": [
              "<IPython.core.display.HTML object>"
            ]
          },
          "metadata": {
            "tags": []
          }
        },
        {
          "output_type": "display_data",
          "data": {
            "text/html": [
              "<div style=\"background-color:#00008B;\" class=\"colordivbig rounded\"><div class=\"hexcolor\">Dark Blue<br>#00008B<br>(0.0,0.0,139.0)</div></div>"
            ],
            "text/plain": [
              "<IPython.core.display.HTML object>"
            ]
          },
          "metadata": {
            "tags": []
          }
        },
        {
          "output_type": "display_data",
          "data": {
            "text/html": [
              "<div style=\"background-color:#0000CD;\" class=\"colordivbig rounded\"><div class=\"hexcolor\">Medium Blue<br>#0000CD<br>(0.0,0.0,205.0)</div></div>"
            ],
            "text/plain": [
              "<IPython.core.display.HTML object>"
            ]
          },
          "metadata": {
            "tags": []
          }
        },
        {
          "output_type": "display_data",
          "data": {
            "text/html": [
              "<div style=\"background-color:#0000FF;\" class=\"colordivbig rounded\"><div class=\"hexcolor\">Blue<br>#0000FF<br>(0.0,0.0,255.0)</div></div>"
            ],
            "text/plain": [
              "<IPython.core.display.HTML object>"
            ]
          },
          "metadata": {
            "tags": []
          }
        },
        {
          "output_type": "display_data",
          "data": {
            "text/html": [
              "<div style=\"background-color:#191970;\" class=\"colordivbig rounded\"><div class=\"hexcolor\">Midnight Blue<br>#191970<br>(25.0,25.0,112.0)</div></div>"
            ],
            "text/plain": [
              "<IPython.core.display.HTML object>"
            ]
          },
          "metadata": {
            "tags": []
          }
        },
        {
          "output_type": "display_data",
          "data": {
            "text/html": [
              "<div style=\"background-color:#4169E1;\" class=\"colordivbig rounded\"><div class=\"hexcolor\">Royal Blue<br>#4169E1<br>(65.0,105.0,225.0)</div></div>"
            ],
            "text/plain": [
              "<IPython.core.display.HTML object>"
            ]
          },
          "metadata": {
            "tags": []
          }
        },
        {
          "output_type": "display_data",
          "data": {
            "text/html": [
              "<div style=\"background-color:#4682B4;\" class=\"colordivbig rounded\"><div class=\"hexcolor\">Steel Blue<br>#4682B4<br>(70.0,130.0,180.0)</div></div>"
            ],
            "text/plain": [
              "<IPython.core.display.HTML object>"
            ]
          },
          "metadata": {
            "tags": []
          }
        },
        {
          "output_type": "display_data",
          "data": {
            "text/html": [
              "<div style=\"background-color:#1E90FF;\" class=\"colordivbig rounded\"><div class=\"hexcolor\">Dodger Blue<br>#1E90FF<br>(30.0,144.0,255.0)</div></div>"
            ],
            "text/plain": [
              "<IPython.core.display.HTML object>"
            ]
          },
          "metadata": {
            "tags": []
          }
        },
        {
          "output_type": "display_data",
          "data": {
            "text/html": [
              "<div style=\"background-color:#00BFFF;\" class=\"colordivbig rounded\"><div class=\"hexcolor\">Deep Sky Blue<br>#00BFFF<br>(0.0,191.0,255.0)</div></div>"
            ],
            "text/plain": [
              "<IPython.core.display.HTML object>"
            ]
          },
          "metadata": {
            "tags": []
          }
        },
        {
          "output_type": "display_data",
          "data": {
            "text/html": [
              "<div style=\"background-color:#6495ED;\" class=\"colordivbig rounded\"><div class=\"hexcolor\">Cornflower Blue<br>#6495ED<br>(100.0,149.0,237.0)</div></div>"
            ],
            "text/plain": [
              "<IPython.core.display.HTML object>"
            ]
          },
          "metadata": {
            "tags": []
          }
        },
        {
          "output_type": "display_data",
          "data": {
            "text/html": [
              "<div style=\"background-color:#87CEEB;\" class=\"colordivbig rounded\"><div class=\"hexcolor\">Sky Blue<br>#87CEEB<br>(135.0,206.0,235.0)</div></div>"
            ],
            "text/plain": [
              "<IPython.core.display.HTML object>"
            ]
          },
          "metadata": {
            "tags": []
          }
        },
        {
          "output_type": "display_data",
          "data": {
            "text/html": [
              "<div style=\"background-color:#87CEFA;\" class=\"colordivbig rounded\"><div class=\"hexcolor\">Light Sky Blue<br>#87CEFA<br>(135.0,206.0,250.0)</div></div>"
            ],
            "text/plain": [
              "<IPython.core.display.HTML object>"
            ]
          },
          "metadata": {
            "tags": []
          }
        },
        {
          "output_type": "display_data",
          "data": {
            "text/html": [
              "<div style=\"background-color:#B0C4DE;\" class=\"colordivbig rounded\"><div class=\"hexcolor\">Light Steel Blue<br>#B0C4DE<br>(176.0,196.0,222.0)</div></div>"
            ],
            "text/plain": [
              "<IPython.core.display.HTML object>"
            ]
          },
          "metadata": {
            "tags": []
          }
        },
        {
          "output_type": "display_data",
          "data": {
            "text/html": [
              "<div style=\"background-color:#ADD8E6;\" class=\"colordivbig rounded\"><div class=\"hexcolor\">Light Blue<br>#ADD8E6<br>(173.0,216.0,230.0)</div></div>"
            ],
            "text/plain": [
              "<IPython.core.display.HTML object>"
            ]
          },
          "metadata": {
            "tags": []
          }
        },
        {
          "output_type": "display_data",
          "data": {
            "text/html": [
              "<div style=\"background-color:#B0E0E6;\" class=\"colordivbig rounded\"><div class=\"hexcolor\">Powder Blue<br>#B0E0E6<br>(176.0,224.0,230.0)</div></div>"
            ],
            "text/plain": [
              "<IPython.core.display.HTML object>"
            ]
          },
          "metadata": {
            "tags": []
          }
        },
        {
          "output_type": "display_data",
          "data": {
            "text/html": [
              "<div style=\"background-color:#4B0082;\" class=\"colordivbig rounded\"><div class=\"hexcolor\">Indigo<br>#4B0082<br>(75.0,0.0,130.0)</div></div>"
            ],
            "text/plain": [
              "<IPython.core.display.HTML object>"
            ]
          },
          "metadata": {
            "tags": []
          }
        },
        {
          "output_type": "display_data",
          "data": {
            "text/html": [
              "<div style=\"background-color:#800080;\" class=\"colordivbig rounded\"><div class=\"hexcolor\">Purple<br>#800080<br>(128.0,0.0,128.0)</div></div>"
            ],
            "text/plain": [
              "<IPython.core.display.HTML object>"
            ]
          },
          "metadata": {
            "tags": []
          }
        },
        {
          "output_type": "display_data",
          "data": {
            "text/html": [
              "<div style=\"background-color:#8B008B;\" class=\"colordivbig rounded\"><div class=\"hexcolor\">Dark Magenta<br>#8B008B<br>(139.0,0.0,139.0)</div></div>"
            ],
            "text/plain": [
              "<IPython.core.display.HTML object>"
            ]
          },
          "metadata": {
            "tags": []
          }
        },
        {
          "output_type": "display_data",
          "data": {
            "text/html": [
              "<div style=\"background-color:#9400D3;\" class=\"colordivbig rounded\"><div class=\"hexcolor\">Dark Violet<br>#9400D3<br>(148.0,0.0,211.0)</div></div>"
            ],
            "text/plain": [
              "<IPython.core.display.HTML object>"
            ]
          },
          "metadata": {
            "tags": []
          }
        },
        {
          "output_type": "display_data",
          "data": {
            "text/html": [
              "<div style=\"background-color:#483D8B;\" class=\"colordivbig rounded\"><div class=\"hexcolor\">Dark Slate Blue<br>#483D8B<br>(72.0,61.0,139.0)</div></div>"
            ],
            "text/plain": [
              "<IPython.core.display.HTML object>"
            ]
          },
          "metadata": {
            "tags": []
          }
        },
        {
          "output_type": "display_data",
          "data": {
            "text/html": [
              "<div style=\"background-color:#8A2BE2;\" class=\"colordivbig rounded\"><div class=\"hexcolor\">Blue Violet<br>#8A2BE2<br>(138.0,43.0,226.0)</div></div>"
            ],
            "text/plain": [
              "<IPython.core.display.HTML object>"
            ]
          },
          "metadata": {
            "tags": []
          }
        },
        {
          "output_type": "display_data",
          "data": {
            "text/html": [
              "<div style=\"background-color:#9932CC;\" class=\"colordivbig rounded\"><div class=\"hexcolor\">Dark Orchid<br>#9932CC<br>(153.0,50.0,204.0)</div></div>"
            ],
            "text/plain": [
              "<IPython.core.display.HTML object>"
            ]
          },
          "metadata": {
            "tags": []
          }
        },
        {
          "output_type": "display_data",
          "data": {
            "text/html": [
              "<div style=\"background-color:#FF00FF;\" class=\"colordivbig rounded\"><div class=\"hexcolor\">Fuchsia<br>#FF00FF<br>(255.0,0.0,255.0)</div></div>"
            ],
            "text/plain": [
              "<IPython.core.display.HTML object>"
            ]
          },
          "metadata": {
            "tags": []
          }
        },
        {
          "output_type": "display_data",
          "data": {
            "text/html": [
              "<div style=\"background-color:#FF00FF;\" class=\"colordivbig rounded\"><div class=\"hexcolor\">Magenta<br>#FF00FF<br>(255.0,0.0,255.0)</div></div>"
            ],
            "text/plain": [
              "<IPython.core.display.HTML object>"
            ]
          },
          "metadata": {
            "tags": []
          }
        },
        {
          "output_type": "display_data",
          "data": {
            "text/html": [
              "<div style=\"background-color:#6A5ACD;\" class=\"colordivbig rounded\"><div class=\"hexcolor\">Slate Blue<br>#6A5ACD<br>(106.0,90.0,205.0)</div></div>"
            ],
            "text/plain": [
              "<IPython.core.display.HTML object>"
            ]
          },
          "metadata": {
            "tags": []
          }
        },
        {
          "output_type": "display_data",
          "data": {
            "text/html": [
              "<div style=\"background-color:#7B68EE;\" class=\"colordivbig rounded\"><div class=\"hexcolor\">Medium Slate Blue<br>#7B68EE<br>(123.0,104.0,238.0)</div></div>"
            ],
            "text/plain": [
              "<IPython.core.display.HTML object>"
            ]
          },
          "metadata": {
            "tags": []
          }
        },
        {
          "output_type": "display_data",
          "data": {
            "text/html": [
              "<div style=\"background-color:#BA55D3;\" class=\"colordivbig rounded\"><div class=\"hexcolor\">Medium Orchid<br>#BA55D3<br>(186.0,85.0,211.0)</div></div>"
            ],
            "text/plain": [
              "<IPython.core.display.HTML object>"
            ]
          },
          "metadata": {
            "tags": []
          }
        },
        {
          "output_type": "display_data",
          "data": {
            "text/html": [
              "<div style=\"background-color:#9370DB;\" class=\"colordivbig rounded\"><div class=\"hexcolor\">Medium Purple<br>#9370DB<br>(147.0,112.0,219.0)</div></div>"
            ],
            "text/plain": [
              "<IPython.core.display.HTML object>"
            ]
          },
          "metadata": {
            "tags": []
          }
        },
        {
          "output_type": "display_data",
          "data": {
            "text/html": [
              "<div style=\"background-color:#DA70D6;\" class=\"colordivbig rounded\"><div class=\"hexcolor\">Orchid<br>#DA70D6<br>(218.0,112.0,214.0)</div></div>"
            ],
            "text/plain": [
              "<IPython.core.display.HTML object>"
            ]
          },
          "metadata": {
            "tags": []
          }
        },
        {
          "output_type": "display_data",
          "data": {
            "text/html": [
              "<div style=\"background-color:#EE82EE;\" class=\"colordivbig rounded\"><div class=\"hexcolor\">Violet<br>#EE82EE<br>(238.0,130.0,238.0)</div></div>"
            ],
            "text/plain": [
              "<IPython.core.display.HTML object>"
            ]
          },
          "metadata": {
            "tags": []
          }
        },
        {
          "output_type": "display_data",
          "data": {
            "text/html": [
              "<div style=\"background-color:#DDA0DD;\" class=\"colordivbig rounded\"><div class=\"hexcolor\">Plum<br>#DDA0DD<br>(221.0,160.0,221.0)</div></div>"
            ],
            "text/plain": [
              "<IPython.core.display.HTML object>"
            ]
          },
          "metadata": {
            "tags": []
          }
        },
        {
          "output_type": "display_data",
          "data": {
            "text/html": [
              "<div style=\"background-color:#D8BFD8;\" class=\"colordivbig rounded\"><div class=\"hexcolor\">Thistle<br>#D8BFD8<br>(216.0,191.0,216.0)</div></div>"
            ],
            "text/plain": [
              "<IPython.core.display.HTML object>"
            ]
          },
          "metadata": {
            "tags": []
          }
        },
        {
          "output_type": "display_data",
          "data": {
            "text/html": [
              "<div style=\"background-color:#E6E6FA;\" class=\"colordivbig rounded\"><div class=\"hexcolor\">Lavender<br>#E6E6FA<br>(230.0,230.0,250.0)</div></div>"
            ],
            "text/plain": [
              "<IPython.core.display.HTML object>"
            ]
          },
          "metadata": {
            "tags": []
          }
        },
        {
          "output_type": "display_data",
          "data": {
            "text/html": [
              "<div style=\"background-color:#FFE4E1;\" class=\"colordivbig rounded\"><div class=\"hexcolor\">Misty Rose<br>#FFE4E1<br>(255.0,228.0,225.0)</div></div>"
            ],
            "text/plain": [
              "<IPython.core.display.HTML object>"
            ]
          },
          "metadata": {
            "tags": []
          }
        },
        {
          "output_type": "display_data",
          "data": {
            "text/html": [
              "<div style=\"background-color:#FAEBD7;\" class=\"colordivbig rounded\"><div class=\"hexcolor\">Antique White<br>#FAEBD7<br>(250.0,235.0,215.0)</div></div>"
            ],
            "text/plain": [
              "<IPython.core.display.HTML object>"
            ]
          },
          "metadata": {
            "tags": []
          }
        },
        {
          "output_type": "display_data",
          "data": {
            "text/html": [
              "<div style=\"background-color:#FAF0E6;\" class=\"colordivbig rounded\"><div class=\"hexcolor\">Linen<br>#FAF0E6<br>(250.0,240.0,230.0)</div></div>"
            ],
            "text/plain": [
              "<IPython.core.display.HTML object>"
            ]
          },
          "metadata": {
            "tags": []
          }
        },
        {
          "output_type": "display_data",
          "data": {
            "text/html": [
              "<div style=\"background-color:#F5F5DC;\" class=\"colordivbig rounded\"><div class=\"hexcolor\">Beige<br>#F5F5DC<br>(245.0,245.0,220.0)</div></div>"
            ],
            "text/plain": [
              "<IPython.core.display.HTML object>"
            ]
          },
          "metadata": {
            "tags": []
          }
        },
        {
          "output_type": "display_data",
          "data": {
            "text/html": [
              "<div style=\"background-color:#F5F5F5;\" class=\"colordivbig rounded\"><div class=\"hexcolor\">White Smoke<br>#F5F5F5<br>(245.0,245.0,245.0)</div></div>"
            ],
            "text/plain": [
              "<IPython.core.display.HTML object>"
            ]
          },
          "metadata": {
            "tags": []
          }
        },
        {
          "output_type": "display_data",
          "data": {
            "text/html": [
              "<div style=\"background-color:#FFF0F5;\" class=\"colordivbig rounded\"><div class=\"hexcolor\">Lavender Blush<br>#FFF0F5<br>(255.0,240.0,245.0)</div></div>"
            ],
            "text/plain": [
              "<IPython.core.display.HTML object>"
            ]
          },
          "metadata": {
            "tags": []
          }
        },
        {
          "output_type": "display_data",
          "data": {
            "text/html": [
              "<div style=\"background-color:#FDF5E6;\" class=\"colordivbig rounded\"><div class=\"hexcolor\">Old Lace<br>#FDF5E6<br>(253.0,245.0,230.0)</div></div>"
            ],
            "text/plain": [
              "<IPython.core.display.HTML object>"
            ]
          },
          "metadata": {
            "tags": []
          }
        },
        {
          "output_type": "display_data",
          "data": {
            "text/html": [
              "<div style=\"background-color:#F0F8FF;\" class=\"colordivbig rounded\"><div class=\"hexcolor\">Alice Blue<br>#F0F8FF<br>(240.0,248.0,255.0)</div></div>"
            ],
            "text/plain": [
              "<IPython.core.display.HTML object>"
            ]
          },
          "metadata": {
            "tags": []
          }
        },
        {
          "output_type": "display_data",
          "data": {
            "text/html": [
              "<div style=\"background-color:#FFF5EE;\" class=\"colordivbig rounded\"><div class=\"hexcolor\">Seashell<br>#FFF5EE<br>(255.0,245.0,238.0)</div></div>"
            ],
            "text/plain": [
              "<IPython.core.display.HTML object>"
            ]
          },
          "metadata": {
            "tags": []
          }
        },
        {
          "output_type": "display_data",
          "data": {
            "text/html": [
              "<div style=\"background-color:#F8F8FF;\" class=\"colordivbig rounded\"><div class=\"hexcolor\">Ghost White<br>#F8F8FF<br>(248.0,248.0,255.0)</div></div>"
            ],
            "text/plain": [
              "<IPython.core.display.HTML object>"
            ]
          },
          "metadata": {
            "tags": []
          }
        },
        {
          "output_type": "display_data",
          "data": {
            "text/html": [
              "<div style=\"background-color:#F0FFF0;\" class=\"colordivbig rounded\"><div class=\"hexcolor\">Honeydew<br>#F0FFF0<br>(240.0,255.0,240.0)</div></div>"
            ],
            "text/plain": [
              "<IPython.core.display.HTML object>"
            ]
          },
          "metadata": {
            "tags": []
          }
        },
        {
          "output_type": "display_data",
          "data": {
            "text/html": [
              "<div style=\"background-color:#FFFAF0;\" class=\"colordivbig rounded\"><div class=\"hexcolor\">Floral White<br>#FFFAF0<br>(255.0,250.0,240.0)</div></div>"
            ],
            "text/plain": [
              "<IPython.core.display.HTML object>"
            ]
          },
          "metadata": {
            "tags": []
          }
        },
        {
          "output_type": "display_data",
          "data": {
            "text/html": [
              "<div style=\"background-color:#F0FFFF;\" class=\"colordivbig rounded\"><div class=\"hexcolor\">Azure<br>#F0FFFF<br>(240.0,255.0,255.0)</div></div>"
            ],
            "text/plain": [
              "<IPython.core.display.HTML object>"
            ]
          },
          "metadata": {
            "tags": []
          }
        },
        {
          "output_type": "display_data",
          "data": {
            "text/html": [
              "<div style=\"background-color:#F5FFFA;\" class=\"colordivbig rounded\"><div class=\"hexcolor\">Mint Cream<br>#F5FFFA<br>(245.0,255.0,250.0)</div></div>"
            ],
            "text/plain": [
              "<IPython.core.display.HTML object>"
            ]
          },
          "metadata": {
            "tags": []
          }
        },
        {
          "output_type": "display_data",
          "data": {
            "text/html": [
              "<div style=\"background-color:#FFFAFA;\" class=\"colordivbig rounded\"><div class=\"hexcolor\">Snow<br>#FFFAFA<br>(255.0,250.0,250.0)</div></div>"
            ],
            "text/plain": [
              "<IPython.core.display.HTML object>"
            ]
          },
          "metadata": {
            "tags": []
          }
        },
        {
          "output_type": "display_data",
          "data": {
            "text/html": [
              "<div style=\"background-color:#FFFFF0;\" class=\"colordivbig rounded\"><div class=\"hexcolor\">Ivory<br>#FFFFF0<br>(255.0,255.0,240.0)</div></div>"
            ],
            "text/plain": [
              "<IPython.core.display.HTML object>"
            ]
          },
          "metadata": {
            "tags": []
          }
        },
        {
          "output_type": "display_data",
          "data": {
            "text/html": [
              "<div style=\"background-color:#FFFFFF;\" class=\"colordivbig rounded\"><div class=\"hexcolor\">White<br>#FFFFFF<br>(255.0,255.0,255.0)</div></div>"
            ],
            "text/plain": [
              "<IPython.core.display.HTML object>"
            ]
          },
          "metadata": {
            "tags": []
          }
        },
        {
          "output_type": "display_data",
          "data": {
            "text/html": [
              "<div style=\"background-color:#000000;\" class=\"colordivbig rounded\"><div class=\"hexcolor\">Black<br>#000000<br>(0.0,0.0,0.0)</div></div>"
            ],
            "text/plain": [
              "<IPython.core.display.HTML object>"
            ]
          },
          "metadata": {
            "tags": []
          }
        },
        {
          "output_type": "display_data",
          "data": {
            "text/html": [
              "<div style=\"background-color:#000000;\" class=\"colordivbig rounded\"><div class=\"hexcolor\">Black<br>#000000<br>(0.0,0.0,0.0)</div></div>"
            ],
            "text/plain": [
              "<IPython.core.display.HTML object>"
            ]
          },
          "metadata": {
            "tags": []
          }
        },
        {
          "output_type": "display_data",
          "data": {
            "text/html": [
              "<div style=\"background-color:#040506;\" class=\"colordivbig rounded\"><div class=\"hexcolor\">Black<br>#040506<br>(4.0,5.0,6.0)</div></div>"
            ],
            "text/plain": [
              "<IPython.core.display.HTML object>"
            ]
          },
          "metadata": {
            "tags": []
          }
        },
        {
          "output_type": "display_data",
          "data": {
            "text/html": [
              "<div style=\"background-color:#0D0D0D;\" class=\"colordivbig rounded\"><div class=\"hexcolor\">Black<br>#0D0D0D<br>(13.0,13.0,13.0)</div></div>"
            ],
            "text/plain": [
              "<IPython.core.display.HTML object>"
            ]
          },
          "metadata": {
            "tags": []
          }
        },
        {
          "output_type": "display_data",
          "data": {
            "text/html": [
              "<div style=\"background-color:#1A1A1A;\" class=\"colordivbig rounded\"><div class=\"hexcolor\">Black<br>#1A1A1A<br>(26.0,26.0,26.0)</div></div>"
            ],
            "text/plain": [
              "<IPython.core.display.HTML object>"
            ]
          },
          "metadata": {
            "tags": []
          }
        },
        {
          "output_type": "display_data",
          "data": {
            "text/html": [
              "<div style=\"background-color:#1E1E1E;\" class=\"colordivbig rounded\"><div class=\"hexcolor\">Black<br>#1E1E1E<br>(30.0,30.0,30.0)</div></div>"
            ],
            "text/plain": [
              "<IPython.core.display.HTML object>"
            ]
          },
          "metadata": {
            "tags": []
          }
        },
        {
          "output_type": "display_data",
          "data": {
            "text/html": [
              "<div style=\"background-color:#282828;\" class=\"colordivbig rounded\"><div class=\"hexcolor\">Black<br>#282828<br>(40.0,40.0,40.0)</div></div>"
            ],
            "text/plain": [
              "<IPython.core.display.HTML object>"
            ]
          },
          "metadata": {
            "tags": []
          }
        },
        {
          "output_type": "display_data",
          "data": {
            "text/html": [
              "<div style=\"background-color:#111009;\" class=\"colordivbig rounded\"><div class=\"hexcolor\">Black<br>#111009<br>(17.0,16.0,9.0)</div></div>"
            ],
            "text/plain": [
              "<IPython.core.display.HTML object>"
            ]
          },
          "metadata": {
            "tags": []
          }
        },
        {
          "output_type": "display_data",
          "data": {
            "text/html": [
              "<div style=\"background-color:#0D0213;\" class=\"colordivbig rounded\"><div class=\"hexcolor\">Black<br>#0D0213<br>(13.0,2.0,19.0)</div></div>"
            ],
            "text/plain": [
              "<IPython.core.display.HTML object>"
            ]
          },
          "metadata": {
            "tags": []
          }
        },
        {
          "output_type": "display_data",
          "data": {
            "text/html": [
              "<div style=\"background-color:#18191D;\" class=\"colordivbig rounded\"><div class=\"hexcolor\">Black<br>#18191D<br>(24.0,25.0,29.0)</div></div>"
            ],
            "text/plain": [
              "<IPython.core.display.HTML object>"
            ]
          },
          "metadata": {
            "tags": []
          }
        },
        {
          "output_type": "display_data",
          "data": {
            "text/html": [
              "<div style=\"background-color:#16171B;\" class=\"colordivbig rounded\"><div class=\"hexcolor\">Black<br>#16171B<br>(22.0,23.0,27.0)</div></div>"
            ],
            "text/plain": [
              "<IPython.core.display.HTML object>"
            ]
          },
          "metadata": {
            "tags": []
          }
        },
        {
          "output_type": "display_data",
          "data": {
            "text/html": [
              "<div style=\"background-color:#191A1E;\" class=\"colordivbig rounded\"><div class=\"hexcolor\">Black<br>#191A1E<br>(25.0,26.0,30.0)</div></div>"
            ],
            "text/plain": [
              "<IPython.core.display.HTML object>"
            ]
          },
          "metadata": {
            "tags": []
          }
        },
        {
          "output_type": "display_data",
          "data": {
            "text/html": [
              "<div style=\"background-color:#1A1B20;\" class=\"colordivbig rounded\"><div class=\"hexcolor\">Black<br>#1A1B20<br>(26.0,27.0,32.0)</div></div>"
            ],
            "text/plain": [
              "<IPython.core.display.HTML object>"
            ]
          },
          "metadata": {
            "tags": []
          }
        },
        {
          "output_type": "display_data",
          "data": {
            "text/html": [
              "<div style=\"background-color:#18191B;\" class=\"colordivbig rounded\"><div class=\"hexcolor\">Black<br>#18191B<br>(24.0,25.0,27.0)</div></div>"
            ],
            "text/plain": [
              "<IPython.core.display.HTML object>"
            ]
          },
          "metadata": {
            "tags": []
          }
        },
        {
          "output_type": "display_data",
          "data": {
            "text/html": [
              "<div style=\"background-color:#171C1F;\" class=\"colordivbig rounded\"><div class=\"hexcolor\">Black<br>#171C1F<br>(23.0,28.0,31.0)</div></div>"
            ],
            "text/plain": [
              "<IPython.core.display.HTML object>"
            ]
          },
          "metadata": {
            "tags": []
          }
        },
        {
          "output_type": "display_data",
          "data": {
            "text/html": [
              "<div style=\"background-color:#1E2126;\" class=\"colordivbig rounded\"><div class=\"hexcolor\">Black<br>#1E2126<br>(30.0,33.0,38.0)</div></div>"
            ],
            "text/plain": [
              "<IPython.core.display.HTML object>"
            ]
          },
          "metadata": {
            "tags": []
          }
        },
        {
          "output_type": "display_data",
          "data": {
            "text/html": [
              "<div style=\"background-color:#202227;\" class=\"colordivbig rounded\"><div class=\"hexcolor\">Black<br>#202227<br>(32.0,34.0,39.0)</div></div>"
            ],
            "text/plain": [
              "<IPython.core.display.HTML object>"
            ]
          },
          "metadata": {
            "tags": []
          }
        },
        {
          "output_type": "display_data",
          "data": {
            "text/html": [
              "<div style=\"background-color:#1C1F24;\" class=\"colordivbig rounded\"><div class=\"hexcolor\">Black<br>#1C1F24<br>(28.0,31.0,36.0)</div></div>"
            ],
            "text/plain": [
              "<IPython.core.display.HTML object>"
            ]
          },
          "metadata": {
            "tags": []
          }
        },
        {
          "output_type": "display_data",
          "data": {
            "text/html": [
              "<div style=\"background-color:#211F24;\" class=\"colordivbig rounded\"><div class=\"hexcolor\">Black<br>#211F24<br>(33.0,31.0,36.0)</div></div>"
            ],
            "text/plain": [
              "<IPython.core.display.HTML object>"
            ]
          },
          "metadata": {
            "tags": []
          }
        },
        {
          "output_type": "display_data",
          "data": {
            "text/html": [
              "<div style=\"background-color:#222126;\" class=\"colordivbig rounded\"><div class=\"hexcolor\">Black<br>#222126<br>(34.0,33.0,38.0)</div></div>"
            ],
            "text/plain": [
              "<IPython.core.display.HTML object>"
            ]
          },
          "metadata": {
            "tags": []
          }
        },
        {
          "output_type": "display_data",
          "data": {
            "text/html": [
              "<div style=\"background-color:#252023;\" class=\"colordivbig rounded\"><div class=\"hexcolor\">Black<br>#252023<br>(37.0,32.0,35.0)</div></div>"
            ],
            "text/plain": [
              "<IPython.core.display.HTML object>"
            ]
          },
          "metadata": {
            "tags": []
          }
        },
        {
          "output_type": "display_data",
          "data": {
            "text/html": [
              "<div style=\"background-color:#222126;\" class=\"colordivbig rounded\"><div class=\"hexcolor\">Black<br>#222126<br>(34.0,33.0,38.0)</div></div>"
            ],
            "text/plain": [
              "<IPython.core.display.HTML object>"
            ]
          },
          "metadata": {
            "tags": []
          }
        },
        {
          "output_type": "display_data",
          "data": {
            "text/html": [
              "<div style=\"background-color:#201D23;\" class=\"colordivbig rounded\"><div class=\"hexcolor\">Black<br>#201D23<br>(32.0,29.0,35.0)</div></div>"
            ],
            "text/plain": [
              "<IPython.core.display.HTML object>"
            ]
          },
          "metadata": {
            "tags": []
          }
        },
        {
          "output_type": "display_data",
          "data": {
            "text/html": [
              "<div style=\"background-color:#27242B;\" class=\"colordivbig rounded\"><div class=\"hexcolor\">Black<br>#27242B<br>(39.0,36.0,43.0)</div></div>"
            ],
            "text/plain": [
              "<IPython.core.display.HTML object>"
            ]
          },
          "metadata": {
            "tags": []
          }
        },
        {
          "output_type": "display_data",
          "data": {
            "text/html": [
              "<div style=\"background-color:#2B2623;\" class=\"colordivbig rounded\"><div class=\"hexcolor\">Black<br>#2B2623<br>(43.0,38.0,35.0)</div></div>"
            ],
            "text/plain": [
              "<IPython.core.display.HTML object>"
            ]
          },
          "metadata": {
            "tags": []
          }
        },
        {
          "output_type": "display_data",
          "data": {
            "text/html": [
              "<div style=\"background-color:#2D2926;\" class=\"colordivbig rounded\"><div class=\"hexcolor\">Black<br>#2D2926<br>(45.0,41.0,38.0)</div></div>"
            ],
            "text/plain": [
              "<IPython.core.display.HTML object>"
            ]
          },
          "metadata": {
            "tags": []
          }
        },
        {
          "output_type": "display_data",
          "data": {
            "text/html": [
              "<div style=\"background-color:#2E2926;\" class=\"colordivbig rounded\"><div class=\"hexcolor\">Black<br>#2E2926<br>(46.0,41.0,38.0)</div></div>"
            ],
            "text/plain": [
              "<IPython.core.display.HTML object>"
            ]
          },
          "metadata": {
            "tags": []
          }
        },
        {
          "output_type": "display_data",
          "data": {
            "text/html": [
              "<div style=\"background-color:#362E2C;\" class=\"colordivbig rounded\"><div class=\"hexcolor\">Black<br>#362E2C<br>(54.0,46.0,44.0)</div></div>"
            ],
            "text/plain": [
              "<IPython.core.display.HTML object>"
            ]
          },
          "metadata": {
            "tags": []
          }
        },
        {
          "output_type": "display_data",
          "data": {
            "text/html": [
              "<div style=\"background-color:#2F2B2B;\" class=\"colordivbig rounded\"><div class=\"hexcolor\">Black<br>#2F2B2B<br>(47.0,43.0,43.0)</div></div>"
            ],
            "text/plain": [
              "<IPython.core.display.HTML object>"
            ]
          },
          "metadata": {
            "tags": []
          }
        },
        {
          "output_type": "display_data",
          "data": {
            "text/html": [
              "<div style=\"background-color:#2F4F4F;\" class=\"colordivbig rounded\"><div class=\"hexcolor\">Dark Slate Gray<br>#2F4F4F<br>(47.0,79.0,79.0)</div></div>"
            ],
            "text/plain": [
              "<IPython.core.display.HTML object>"
            ]
          },
          "metadata": {
            "tags": []
          }
        },
        {
          "output_type": "display_data",
          "data": {
            "text/html": [
              "<div style=\"background-color:#696969;\" class=\"colordivbig rounded\"><div class=\"hexcolor\">Dim Gray<br>#696969<br>(105.0,105.0,105.0)</div></div>"
            ],
            "text/plain": [
              "<IPython.core.display.HTML object>"
            ]
          },
          "metadata": {
            "tags": []
          }
        },
        {
          "output_type": "display_data",
          "data": {
            "text/html": [
              "<div style=\"background-color:#708090;\" class=\"colordivbig rounded\"><div class=\"hexcolor\">Slate Gray<br>#708090<br>(112.0,128.0,144.0)</div></div>"
            ],
            "text/plain": [
              "<IPython.core.display.HTML object>"
            ]
          },
          "metadata": {
            "tags": []
          }
        },
        {
          "output_type": "display_data",
          "data": {
            "text/html": [
              "<div style=\"background-color:#808080;\" class=\"colordivbig rounded\"><div class=\"hexcolor\">Gray<br>#808080<br>(128.0,128.0,128.0)</div></div>"
            ],
            "text/plain": [
              "<IPython.core.display.HTML object>"
            ]
          },
          "metadata": {
            "tags": []
          }
        },
        {
          "output_type": "display_data",
          "data": {
            "text/html": [
              "<div style=\"background-color:#778899;\" class=\"colordivbig rounded\"><div class=\"hexcolor\">Light Slate Gray<br>#778899<br>(119.0,136.0,153.0)</div></div>"
            ],
            "text/plain": [
              "<IPython.core.display.HTML object>"
            ]
          },
          "metadata": {
            "tags": []
          }
        },
        {
          "output_type": "display_data",
          "data": {
            "text/html": [
              "<div style=\"background-color:#A9A9A9;\" class=\"colordivbig rounded\"><div class=\"hexcolor\">Dark Gray<br>#A9A9A9<br>(169.0,169.0,169.0)</div></div>"
            ],
            "text/plain": [
              "<IPython.core.display.HTML object>"
            ]
          },
          "metadata": {
            "tags": []
          }
        },
        {
          "output_type": "display_data",
          "data": {
            "text/html": [
              "<div style=\"background-color:#C0C0C0;\" class=\"colordivbig rounded\"><div class=\"hexcolor\">Silver<br>#C0C0C0<br>(192.0,192.0,192.0)</div></div>"
            ],
            "text/plain": [
              "<IPython.core.display.HTML object>"
            ]
          },
          "metadata": {
            "tags": []
          }
        },
        {
          "output_type": "display_data",
          "data": {
            "text/html": [
              "<div style=\"background-color:#D3D3D3;\" class=\"colordivbig rounded\"><div class=\"hexcolor\">Light Gray<br>#D3D3D3<br>(211.0,211.0,211.0)</div></div>"
            ],
            "text/plain": [
              "<IPython.core.display.HTML object>"
            ]
          },
          "metadata": {
            "tags": []
          }
        },
        {
          "output_type": "display_data",
          "data": {
            "text/html": [
              "<div style=\"background-color:#DCDCDC;\" class=\"colordivbig rounded\"><div class=\"hexcolor\">Gainsboro<br>#DCDCDC<br>(220.0,220.0,220.0)</div></div>"
            ],
            "text/plain": [
              "<IPython.core.display.HTML object>"
            ]
          },
          "metadata": {
            "tags": []
          }
        }
      ]
    },
    {
      "cell_type": "markdown",
      "metadata": {
        "id": "fIiJHXfQqKkJ"
      },
      "source": [
        "# Calculate pixels color"
      ]
    },
    {
      "cell_type": "code",
      "metadata": {
        "id": "OK2es_o0qKkJ"
      },
      "source": [
        "def calculate_colors(image, mask, main_color_names, specific_color_names):\n",
        "    masked_img = im.copy()\n",
        "    pixels = masked_img[mask!=0]\n",
        "    masked_img[mask==0] = (255,255,255)\n",
        "    \n",
        "    count = 0\n",
        "    main_stat = {}\n",
        "    specific_stat = {}\n",
        "    for name in main_color_names:\n",
        "        main_stat[name] = 0\n",
        "    for name in specific_color_names:\n",
        "        specific_stat[name] = 0\n",
        "    \n",
        "    \n",
        "    for i, pixel in enumerate(pixels):\n",
        "        pixel_hex = rgb2hex(int(pixel[0]), int(pixel[1]), int(pixel[2]))\n",
        "        main_color_name = main_colors_cashe[pixel_hex]\n",
        "        specific_color_name = specific_colors_cashe[pixel_hex]\n",
        "        main_stat[main_color_name] += 1\n",
        "        specific_stat[specific_color_name] += 1\n",
        "        count += 1\n",
        "    for k, v in main_stat.items():\n",
        "        main_stat[k] = round(v / count, 2)\n",
        "    for k, v in specific_stat.items():\n",
        "        specific_stat[k] = round(v / count, 2)\n",
        "    return main_stat, specific_stat"
      ],
      "execution_count": null,
      "outputs": []
    }
  ]
}