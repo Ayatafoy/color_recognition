{
  "nbformat": 4,
  "nbformat_minor": 0,
  "metadata": {
    "colab": {
      "name": "run.ipynb",
      "provenance": [],
      "mount_file_id": "1DQCTBwltBfo_j7TNA3H1TP65DpMELUms",
      "authorship_tag": "ABX9TyM8xNG3NOhVkteu986biBUr",
      "include_colab_link": true
    },
    "kernelspec": {
      "name": "python3",
      "display_name": "Python 3"
    }
  },
  "cells": [
    {
      "cell_type": "markdown",
      "metadata": {
        "id": "view-in-github",
        "colab_type": "text"
      },
      "source": [
        "<a href=\"https://colab.research.google.com/github/Ayatafoy/color_recognition/blob/master/run.ipynb\" target=\"_parent\"><img src=\"https://colab.research.google.com/assets/colab-badge.svg\" alt=\"Open In Colab\"/></a>"
      ]
    },
    {
      "cell_type": "code",
      "metadata": {
        "colab": {
          "base_uri": "https://localhost:8080/"
        },
        "id": "oX1O4HmnfyVs",
        "outputId": "f46fc8ca-818b-4f98-b155-d4ba33fcfa28"
      },
      "source": [
        "!pip install colormap\n",
        "!pip install easydev"
      ],
      "execution_count": 22,
      "outputs": [
        {
          "output_type": "stream",
          "text": [
            "Collecting easydev\n",
            "\u001b[?25l  Downloading https://files.pythonhosted.org/packages/27/80/946c6adac56daa00ca9c9b5242e68327e9a0cca47e6fc6c91d3b3eb31de4/easydev-0.11.0.tar.gz (47kB)\n",
            "\r\u001b[K     |███████                         | 10kB 15.4MB/s eta 0:00:01\r\u001b[K     |██████████████                  | 20kB 12.2MB/s eta 0:00:01\r\u001b[K     |████████████████████▉           | 30kB 9.0MB/s eta 0:00:01\r\u001b[K     |███████████████████████████▉    | 40kB 7.9MB/s eta 0:00:01\r\u001b[K     |████████████████████████████████| 51kB 2.6MB/s \n",
            "\u001b[?25hCollecting colorama\n",
            "  Downloading https://files.pythonhosted.org/packages/44/98/5b86278fbbf250d239ae0ecb724f8572af1c91f4a11edf4d36a206189440/colorama-0.4.4-py2.py3-none-any.whl\n",
            "Requirement already satisfied: pexpect in /usr/local/lib/python3.7/dist-packages (from easydev) (4.8.0)\n",
            "Collecting colorlog\n",
            "  Downloading https://files.pythonhosted.org/packages/51/62/61449c6bb74c2a3953c415b2cdb488e4f0518ac67b35e2b03a6d543035ca/colorlog-4.8.0-py2.py3-none-any.whl\n",
            "Requirement already satisfied: ptyprocess>=0.5 in /usr/local/lib/python3.7/dist-packages (from pexpect->easydev) (0.7.0)\n",
            "Building wheels for collected packages: easydev\n",
            "  Building wheel for easydev (setup.py) ... \u001b[?25l\u001b[?25hdone\n",
            "  Created wheel for easydev: filename=easydev-0.11.0-cp37-none-any.whl size=64244 sha256=f72f586c2e36d1330604d6f9fd9a3edd973eeaa368309096291fb0d02dca6134\n",
            "  Stored in directory: /root/.cache/pip/wheels/17/69/b5/771949d8100a30aa33e4bc5d0ff77eced9063284891ce26898\n",
            "Successfully built easydev\n",
            "Installing collected packages: colorama, colorlog, easydev\n",
            "Successfully installed colorama-0.4.4 colorlog-4.8.0 easydev-0.11.0\n"
          ],
          "name": "stdout"
        }
      ]
    },
    {
      "cell_type": "code",
      "metadata": {
        "id": "LYsbIIKyvKJd"
      },
      "source": [
        "import cv2\n",
        "import numpy as np\n",
        "from tensorflow.keras.models import load_model\n",
        "import tensorflow as tf\n",
        "import matplotlib.pyplot as plt\n",
        "import sys\n",
        "import operator\n",
        "from colormap import rgb2hex\n",
        "import pickle\n",
        "from tensorflow.compat.v1 import ConfigProto\n",
        "from tensorflow.compat.v1 import InteractiveSession"
      ],
      "execution_count": 34,
      "outputs": []
    },
    {
      "cell_type": "code",
      "metadata": {
        "id": "NbsV_u-NvVv8"
      },
      "source": [
        "config = ConfigProto()\n",
        "config.gpu_options.allow_growth = True\n",
        "session = InteractiveSession(config=config)"
      ],
      "execution_count": 2,
      "outputs": []
    },
    {
      "cell_type": "code",
      "metadata": {
        "id": "OwMAN9KovtnD"
      },
      "source": [
        "class fashion_tools(object):\n",
        "    def __init__(self, imageid, model, version=1.1):\n",
        "        self.imageid = imageid\n",
        "        self.model   = model\n",
        "        self.version = version\n",
        "        \n",
        "    def get_dress(self,stack=False):\n",
        "        \"\"\"limited to top wear and full body dresses (wild and studio working)\"\"\"\n",
        "        \"\"\"takes input rgb----> return PNG\"\"\"\n",
        "        name =  self.imageid\n",
        "        file = cv2.imread(name)\n",
        "        file = tf.image.resize_with_pad(file,target_height=512,target_width=512)\n",
        "        rgb  = file.numpy()\n",
        "        file = np.expand_dims(file,axis=0)/ 255.\n",
        "        seq = self.model.predict(file)\n",
        "        seq = seq[3][0,:,:,0]\n",
        "        seq = np.expand_dims(seq,axis=-1)\n",
        "        c1x = rgb*seq\n",
        "        c2x = rgb*(1-seq)\n",
        "        cfx = c1x+c2x\n",
        "        dummy = np.ones((rgb.shape[0],rgb.shape[1],1))\n",
        "        rgbx = np.concatenate((rgb,dummy*255),axis=-1)\n",
        "        rgbs = np.concatenate((cfx,seq*255.),axis=-1)\n",
        "        if stack:\n",
        "            stacked = np.hstack((rgbx,rgbs))\n",
        "            return stacked\n",
        "        else:\n",
        "            return rgbs\n",
        "        \n",
        "        \n",
        "    def get_patch(self):\n",
        "        return None"
      ],
      "execution_count": 3,
      "outputs": []
    },
    {
      "cell_type": "code",
      "metadata": {
        "id": "QgQy-RBAv3Nk"
      },
      "source": [
        "saved = load_model(\"/content/drive/MyDrive/Colab Notebooks/segmentation/Fashion-AI/save_ckp_frozen.h5\")"
      ],
      "execution_count": 4,
      "outputs": []
    },
    {
      "cell_type": "code",
      "metadata": {
        "id": "zKljv2txw8ZY"
      },
      "source": [
        "img_name = '/content/drive/MyDrive/Colab Notebooks/segmentation/4.jpg'\n",
        "api = fashion_tools(img_name, saved)"
      ],
      "execution_count": 5,
      "outputs": []
    },
    {
      "cell_type": "code",
      "metadata": {
        "id": "M3_zSc8ExFfC"
      },
      "source": [
        "image = api.get_dress(True)"
      ],
      "execution_count": 6,
      "outputs": []
    },
    {
      "cell_type": "code",
      "metadata": {
        "colab": {
          "base_uri": "https://localhost:8080/"
        },
        "id": "SSHVf6B0xZe4",
        "outputId": "459d512b-81a1-491a-f3c5-e2f71bb48b53"
      },
      "source": [
        "cv2.imwrite(\"/content/drive/MyDrive/Colab Notebooks/segmentation/Fashion-AI/4_out.png\", image)"
      ],
      "execution_count": 7,
      "outputs": [
        {
          "output_type": "execute_result",
          "data": {
            "text/plain": [
              "True"
            ]
          },
          "metadata": {
            "tags": []
          },
          "execution_count": 7
        }
      ]
    },
    {
      "cell_type": "code",
      "metadata": {
        "id": "w-tTCk4QxfXH"
      },
      "source": [
        "file = cv2.imread(img_name)\n",
        "file = tf.image.resize_with_pad(file,target_height=512,target_width=512)\n",
        "bgr  = file.numpy()\n",
        "file = np.expand_dims(file,axis=0)/ 255.\n",
        "seq = saved.predict(file)"
      ],
      "execution_count": 12,
      "outputs": []
    },
    {
      "cell_type": "code",
      "metadata": {
        "id": "mdf6aH4ZHuBs"
      },
      "source": [
        "seq_new = seq[3][0,:,:,0]\n",
        "mask = np.where(seq_new > 0.02, 1, 0)"
      ],
      "execution_count": 13,
      "outputs": []
    },
    {
      "cell_type": "code",
      "metadata": {
        "id": "4j7EXF9uzCUQ"
      },
      "source": [
        "pixels = bgr[:,:,::-1][mask!=0]\n",
        "bgr[mask==0] = (255,255,255)\n",
        "bgr = bgr.astype(int)\n",
        "rgb = bgr[:,:,::-1].copy()"
      ],
      "execution_count": 14,
      "outputs": []
    },
    {
      "cell_type": "code",
      "metadata": {
        "colab": {
          "base_uri": "https://localhost:8080/",
          "height": 268
        },
        "id": "sKGQm6elzncB",
        "outputId": "ded5146c-72da-49e9-fecd-73bce35ba7f9"
      },
      "source": [
        "imgplot = plt.imshow(rgb)"
      ],
      "execution_count": 15,
      "outputs": [
        {
          "output_type": "display_data",
          "data": {
            "image/png": "[encoded data removed]",
            "text/plain": [
              "<Figure size 432x288 with 1 Axes>"
            ]
          },
          "metadata": {
            "tags": [],
            "needs_background": "light"
          }
        }
      ]
    },
    {
      "cell_type": "code",
      "metadata": {
        "id": "0m_uoMtRHciN"
      },
      "source": [
        "with open('/content/drive/MyDrive/Colab Notebooks/segmentation/main_colors_cashe_last.pickle', 'rb') as f:\n",
        "    main_colors_cashe = pickle.load(f)\n",
        "\n",
        "with open('/content/drive/MyDrive/Colab Notebooks/segmentation/main_color_names_last.pickle', 'rb') as f:\n",
        "    main_color_names = pickle.load(f)"
      ],
      "execution_count": 17,
      "outputs": []
    },
    {
      "cell_type": "code",
      "metadata": {
        "id": "zn3_OE0Xd1v-"
      },
      "source": [
        "def calculate_colors(pixels, main_color_names, main_colors_cashe):\n",
        "    count = 0\n",
        "    main_stat = {}\n",
        "    specific_stat = {}\n",
        "    for name in main_color_names:\n",
        "        main_stat[name] = 0\n",
        "    \n",
        "    \n",
        "    for i, pixel in enumerate(pixels):\n",
        "        pixel_hex = rgb2hex(int(pixel[0]), int(pixel[1]), int(pixel[2]))\n",
        "        main_color_name = main_colors_cashe[pixel_hex]\n",
        "        main_stat[main_color_name] += 1\n",
        "        count += 1\n",
        "    for k, v in main_stat.items():\n",
        "        main_stat[k] = round(v / count, 2)\n",
        "\n",
        "    main_stat = sorted(main_stat.items(), key=operator.itemgetter(0))\n",
        "\n",
        "    return main_stat"
      ],
      "execution_count": 36,
      "outputs": []
    },
    {
      "cell_type": "code",
      "metadata": {
        "id": "pQCoUmjpfn2E"
      },
      "source": [
        "result = calculate_colors(pixels, main_color_names, main_colors_cashe)"
      ],
      "execution_count": 37,
      "outputs": []
    },
    {
      "cell_type": "code",
      "metadata": {
        "colab": {
          "base_uri": "https://localhost:8080/"
        },
        "id": "6Gc9SJFxfrjR",
        "outputId": "aed21db2-b02d-4a1f-8335-32b7bc1d9218"
      },
      "source": [
        "result"
      ],
      "execution_count": 38,
      "outputs": [
        {
          "output_type": "execute_result",
          "data": {
            "text/plain": [
              "[('beige', 0.1),\n",
              " ('black', 0.01),\n",
              " ('blue', 0.05),\n",
              " ('brown', 0.03),\n",
              " ('gray', 0.01),\n",
              " ('green', 0.0),\n",
              " ('orange', 0.02),\n",
              " ('pink', 0.0),\n",
              " ('purple', 0.0),\n",
              " ('red', 0.0),\n",
              " ('silver', 0.05),\n",
              " ('white', 0.73),\n",
              " ('yellow', 0.0)]"
            ]
          },
          "metadata": {
            "tags": []
          },
          "execution_count": 38
        }
      ]
    },
    {
      "cell_type": "code",
      "metadata": {
        "id": "aIDI2TzZf-su"
      },
      "source": [
        ""
      ],
      "execution_count": null,
      "outputs": []
    }
  ]
}